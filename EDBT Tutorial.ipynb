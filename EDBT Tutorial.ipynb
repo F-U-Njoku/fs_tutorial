{
 "cells": [
  {
   "cell_type": "markdown",
   "metadata": {
    "slideshow": {
     "slide_type": "slide"
    }
   },
   "source": [
    "<br/><br/>\n",
    "<h1 align=\"center\">Finding Relevant Information in Big Datasets with ML</h1> \n",
    "<br/><br/>\n",
    "<h3 align=\"center\">Authors:</h3> \n",
    "<h3 align=\"center\">Uchechukwu Njoku, Alberto Abelló, Besim Bilalli, Gianluca Bontempi</h3> \n",
    "<h4 align=\"center\">EDBT 2024</h4> \n",
    "<h4 align=\"center\">Paestum, Italy</h4> \n",
    "<h4 align=\"center\">27<sup>th</sup> March, 2024</h4> "
   ]
  },
  {
   "cell_type": "code",
   "execution_count": 142,
   "metadata": {
    "slideshow": {
     "slide_type": "skip"
    }
   },
   "outputs": [],
   "source": [
    "# Import all required libraries\n",
    "import time\n",
    "import random\n",
    "import logging\n",
    "import numpy as np\n",
    "import pandas as pd\n",
    "import openml as oml \n",
    "from sklearn import svm\n",
    "from pathlib import Path\n",
    "from sklearn import tree\n",
    "from tabulate import tabulate\n",
    "from matplotlib import pyplot as plt\n",
    "from sklearn.naive_bayes import GaussianNB\n",
    "from jmetal.core.problem import BinaryProblem\n",
    "from jmetal.core.solution import BinarySolution\n",
    "from IPython.display import IFrame, display, HTML\n",
    "from sklearn.ensemble import RandomForestClassifier\n",
    "from fairlearn.metrics import demographic_parity_ratio\n",
    "from jmetal.algorithm.multiobjective.nsgaii import NSGAII\n",
    "from traitlets.config.manager import BaseJSONConfigManager\n",
    "from skfeature.function.statistical_based import gini_index\n",
    "from jmetal.util.solution import get_non_dominated_solutions\n",
    "from jmetal.algorithm.singleobjective.genetic_algorithm import GeneticAlgorithm\n",
    "from statsmodels.stats.outliers_influence import variance_inflation_factor as vif\n",
    "from jmetal.util.termination_criterion import StoppingByEvaluations, StoppingByTime\n",
    "from sklearn.model_selection import cross_val_score, StratifiedKFold, cross_val_predict\n",
    "from jmetal.operator import SBXCrossover, PolynomialMutation, SPXCrossover, BitFlipMutation\n",
    "from jmetal.algorithm.multiobjective.nsgaiii import NSGAIII, UniformReferenceDirectionFactory\n",
    "from mlxtend.feature_selection import ExhaustiveFeatureSelector as EFS, SequentialFeatureSelector as SFS"
   ]
  },
  {
   "cell_type": "markdown",
   "metadata": {
    "slideshow": {
     "slide_type": "slide"
    }
   },
   "source": [
    "## Notebook on GitHub\n",
    "\n",
    "<center>   \n",
    "<img src=\"./images/qr-code.png\" alt=\"transition\" width=\"450\" height=\"250\">\n",
    "</center>\n",
    "\n",
    "### URL: https://github.com/F-U-Njoku/fs_tutorial"
   ]
  },
  {
   "cell_type": "markdown",
   "metadata": {
    "slideshow": {
     "slide_type": "slide"
    }
   },
   "source": [
    "**Content:**\n",
    "<br></br>\n",
    "1. Introduction to Feature Selection (FS)\n",
    "2. Search strategies\n",
    "3. FS classes\n",
    "4. Evaluation metrics\n",
    "5. Open challenges\n",
    "6. Conclusion"
   ]
  },
  {
   "cell_type": "markdown",
   "metadata": {
    "slideshow": {
     "slide_type": "slide"
    }
   },
   "source": [
    "## Where we are: Data abundance"
   ]
  },
  {
   "cell_type": "markdown",
   "metadata": {
    "cell_style": "split",
    "slideshow": {
     "slide_type": "fragment"
    }
   },
   "source": [
    "- Increased Data Generation\n",
    "<br/><br/>\n",
    "- Data Variety\n",
    "<br/><br/>\n",
    "- Advanced in Storage and Processing Technologies\n",
    "<br/><br/>\n",
    "- Decreasing Storage Costs\n",
    "<br/><br/>\n",
    "- Organizational Culture and Skills\n",
    "<br/><br/>\n",
    "- Business Value"
   ]
  },
  {
   "cell_type": "markdown",
   "metadata": {
    "cell_style": "split",
    "slideshow": {
     "slide_type": "fragment"
    }
   },
   "source": [
    "<br/><br/>\n",
    "<center>\n",
    "<img src=\"./images/ezgif.com-effects.gif\" alt=\"Big data\" width=\"450\" height=\"250\"/>\n",
    "<center/>"
   ]
  },
  {
   "cell_type": "code",
   "execution_count": 36,
   "metadata": {
    "slideshow": {
     "slide_type": "skip"
    }
   },
   "outputs": [],
   "source": [
    "\n",
    "# Define the URL for the iframe\n",
    "url = \"https://wall.sli.do/event/wT2yM4CDVA39n1XggtSeNg?section=769d6d7d-76ba-48da-9cad-c72b102daa84\"\n",
    "# Create the IFrame\n",
    "iframe = IFrame(url, width=600, height=800)\n",
    "# Define HTML/CSS to center the iframe\n",
    "slido1 = \"\"\"\n",
    "<div style=\"display: flex; justify-content: center;\">\n",
    "    {}\n",
    "</div>\n",
    "\"\"\".format(iframe._repr_html_())"
   ]
  },
  {
   "cell_type": "markdown",
   "metadata": {
    "cell_style": "split",
    "scrolled": true,
    "slideshow": {
     "slide_type": "slide"
    }
   },
   "source": [
    "# Join at slido.com #2198 009\n",
    "<br></br>\n",
    "<center>   \n",
    "<img src=\"./images/slido1.png\" alt=\"transition\" width=\"600\" height=\"450\">\n",
    "</center>"
   ]
  },
  {
   "cell_type": "code",
   "execution_count": 37,
   "metadata": {
    "cell_style": "split",
    "scrolled": false,
    "slideshow": {
     "slide_type": "fragment"
    }
   },
   "outputs": [
    {
     "data": {
      "text/html": [
       "\n",
       "<div style=\"display: flex; justify-content: center;\">\n",
       "    \n",
       "        <iframe\n",
       "            width=\"600\"\n",
       "            height=\"800\"\n",
       "            src=\"https://wall.sli.do/event/wT2yM4CDVA39n1XggtSeNg?section=769d6d7d-76ba-48da-9cad-c72b102daa84\"\n",
       "            frameborder=\"0\"\n",
       "            allowfullscreen\n",
       "            \n",
       "        ></iframe>\n",
       "        \n",
       "</div>\n"
      ],
      "text/plain": [
       "<IPython.core.display.HTML object>"
      ]
     },
     "metadata": {},
     "output_type": "display_data"
    }
   ],
   "source": [
    "# Display Slido poll results\n",
    "display(HTML(slido1))"
   ]
  },
  {
   "cell_type": "markdown",
   "metadata": {
    "cell_style": "split",
    "slideshow": {
     "slide_type": "slide"
    }
   },
   "source": [
    "## Challenges\n",
    "1. High dimensionality\n",
    "<br/><br/>\n",
    "2. Feature redundancy\n",
    "<br/><br/>\n",
    "3. Irrelevance features\n",
    "<br/><br/>\n",
    "4. Long processing time\n",
    "<br/><br/>\n",
    "5. Reduced data and model understanding\n",
    "<br/><br/>\n",
    "6. Storage and computational cost"
   ]
  },
  {
   "cell_type": "markdown",
   "metadata": {
    "cell_style": "split",
    "slideshow": {
     "slide_type": "fragment"
    }
   },
   "source": [
    "<br></br>\n",
    "<center>\n",
    "<img src=\"./images/difficulties.png\" alt=\"challenges\" width=\"450\" height=\"600\"/>\n",
    "<center/>"
   ]
  },
  {
   "cell_type": "markdown",
   "metadata": {
    "slideshow": {
     "slide_type": "slide"
    }
   },
   "source": [
    "## Necessary transition\n",
    "<center>   \n",
    "<img src=\"./images/Experimental Design1.png\" alt=\"transition\" width=\"1440\" height=\"810\">\n",
    "</center>"
   ]
  },
  {
   "cell_type": "markdown",
   "metadata": {
    "slideshow": {
     "slide_type": "slide"
    }
   },
   "source": [
    "## Necessary transition\n",
    "<center>   \n",
    "<img src=\"./images/Experimental Design2.png\" alt=\"transition\" width=\"1440\" height=\"810\">\n",
    "</center>"
   ]
  },
  {
   "cell_type": "markdown",
   "metadata": {
    "slideshow": {
     "slide_type": "slide"
    }
   },
   "source": [
    "## Feature selection (FS)\n",
    "\n",
    "Feature selection is **a search problem of detecting the relevant features and discarding the irrelevant and redundant ones** with the goal of obtaining a subset of features that accurately describe a given problem with a minimum degradation of performance.\n",
    "<center>   \n",
    "<img src=\"./images/fs.png\" alt=\"transition\" width=\"960\" height=\"540\">\n",
    "</center>"
   ]
  },
  {
   "cell_type": "markdown",
   "metadata": {
    "slideshow": {
     "slide_type": "slide"
    }
   },
   "source": [
    "## Feature selection (FS)\n",
    "<center>   \n",
    "<img src=\"./images/featureselection.png\" alt=\"transition\" width=\"1440\" height=\"810\">\n",
    "</center>"
   ]
  },
  {
   "cell_type": "markdown",
   "metadata": {
    "slideshow": {
     "slide_type": "slide"
    }
   },
   "source": [
    "## Running example\n",
    "**German Credit dataset:** this dataset classifies people described by a set of attributes as good or bad credit risks."
   ]
  },
  {
   "cell_type": "markdown",
   "metadata": {
    "cell_style": "split",
    "slideshow": {
     "slide_type": "fragment"
    }
   },
   "source": [
    "- 21 features\n",
    "- Sensitive: personal_status\n",
    "- Target: credit\n",
    "- 1,000 instances\n",
    "- 1,048,574 possible solutions"
   ]
  },
  {
   "cell_type": "code",
   "execution_count": 2,
   "metadata": {
    "slideshow": {
     "slide_type": "skip"
    }
   },
   "outputs": [],
   "source": [
    "# Uncomment to install\n",
    "#!pip install openml\n",
    "\n",
    "\n",
    "  \n",
    "# function to retrieve data    \n",
    "def fetch_data(number):\n",
    "    dataset = oml.datasets.get_dataset(number, download_data=True, \n",
    "                                       download_qualities=True, \n",
    "                                       download_features_meta_data=True)\n",
    "    X, y, attribute_names, categorical_indicator,  = dataset.get_data(\n",
    "        dataset_format=\"dataframe\",\n",
    "        target=dataset.default_target_attribute)\n",
    "    return X, y, attribute_names, len(attribute_names)\n",
    "\n",
    "# fetch dataset \n",
    "data, y, attribute_names, z = fetch_data(43808)"
   ]
  },
  {
   "cell_type": "code",
   "execution_count": 3,
   "metadata": {
    "slideshow": {
     "slide_type": "skip"
    }
   },
   "outputs": [
    {
     "data": {
      "text/html": [
       "<div>\n",
       "<style scoped>\n",
       "    .dataframe tbody tr th:only-of-type {\n",
       "        vertical-align: middle;\n",
       "    }\n",
       "\n",
       "    .dataframe tbody tr th {\n",
       "        vertical-align: top;\n",
       "    }\n",
       "\n",
       "    .dataframe thead th {\n",
       "        text-align: right;\n",
       "    }\n",
       "</style>\n",
       "<table border=\"1\" class=\"dataframe\">\n",
       "  <thead>\n",
       "    <tr style=\"text-align: right;\">\n",
       "      <th></th>\n",
       "      <th>laufkont</th>\n",
       "      <th>laufzeit</th>\n",
       "      <th>moral</th>\n",
       "      <th>verw</th>\n",
       "      <th>hoehe</th>\n",
       "      <th>sparkont</th>\n",
       "      <th>beszeit</th>\n",
       "      <th>rate</th>\n",
       "      <th>famges</th>\n",
       "      <th>buerge</th>\n",
       "      <th>...</th>\n",
       "      <th>verm</th>\n",
       "      <th>alter</th>\n",
       "      <th>weitkred</th>\n",
       "      <th>wohn</th>\n",
       "      <th>bishkred</th>\n",
       "      <th>beruf</th>\n",
       "      <th>pers</th>\n",
       "      <th>telef</th>\n",
       "      <th>gastarb</th>\n",
       "      <th>kredit</th>\n",
       "    </tr>\n",
       "  </thead>\n",
       "  <tbody>\n",
       "    <tr>\n",
       "      <th>0</th>\n",
       "      <td>1</td>\n",
       "      <td>18</td>\n",
       "      <td>4</td>\n",
       "      <td>2</td>\n",
       "      <td>1049</td>\n",
       "      <td>1</td>\n",
       "      <td>2</td>\n",
       "      <td>4</td>\n",
       "      <td>2</td>\n",
       "      <td>1</td>\n",
       "      <td>...</td>\n",
       "      <td>2</td>\n",
       "      <td>21</td>\n",
       "      <td>3</td>\n",
       "      <td>1</td>\n",
       "      <td>1</td>\n",
       "      <td>3</td>\n",
       "      <td>2</td>\n",
       "      <td>1</td>\n",
       "      <td>2</td>\n",
       "      <td>1</td>\n",
       "    </tr>\n",
       "    <tr>\n",
       "      <th>1</th>\n",
       "      <td>1</td>\n",
       "      <td>9</td>\n",
       "      <td>4</td>\n",
       "      <td>0</td>\n",
       "      <td>2799</td>\n",
       "      <td>1</td>\n",
       "      <td>3</td>\n",
       "      <td>2</td>\n",
       "      <td>3</td>\n",
       "      <td>1</td>\n",
       "      <td>...</td>\n",
       "      <td>1</td>\n",
       "      <td>36</td>\n",
       "      <td>3</td>\n",
       "      <td>1</td>\n",
       "      <td>2</td>\n",
       "      <td>3</td>\n",
       "      <td>1</td>\n",
       "      <td>1</td>\n",
       "      <td>2</td>\n",
       "      <td>1</td>\n",
       "    </tr>\n",
       "    <tr>\n",
       "      <th>2</th>\n",
       "      <td>2</td>\n",
       "      <td>12</td>\n",
       "      <td>2</td>\n",
       "      <td>9</td>\n",
       "      <td>841</td>\n",
       "      <td>2</td>\n",
       "      <td>4</td>\n",
       "      <td>2</td>\n",
       "      <td>2</td>\n",
       "      <td>1</td>\n",
       "      <td>...</td>\n",
       "      <td>1</td>\n",
       "      <td>23</td>\n",
       "      <td>3</td>\n",
       "      <td>1</td>\n",
       "      <td>1</td>\n",
       "      <td>2</td>\n",
       "      <td>2</td>\n",
       "      <td>1</td>\n",
       "      <td>2</td>\n",
       "      <td>1</td>\n",
       "    </tr>\n",
       "    <tr>\n",
       "      <th>3</th>\n",
       "      <td>1</td>\n",
       "      <td>12</td>\n",
       "      <td>4</td>\n",
       "      <td>0</td>\n",
       "      <td>2122</td>\n",
       "      <td>1</td>\n",
       "      <td>3</td>\n",
       "      <td>3</td>\n",
       "      <td>3</td>\n",
       "      <td>1</td>\n",
       "      <td>...</td>\n",
       "      <td>1</td>\n",
       "      <td>39</td>\n",
       "      <td>3</td>\n",
       "      <td>1</td>\n",
       "      <td>2</td>\n",
       "      <td>2</td>\n",
       "      <td>1</td>\n",
       "      <td>1</td>\n",
       "      <td>1</td>\n",
       "      <td>1</td>\n",
       "    </tr>\n",
       "    <tr>\n",
       "      <th>4</th>\n",
       "      <td>1</td>\n",
       "      <td>12</td>\n",
       "      <td>4</td>\n",
       "      <td>0</td>\n",
       "      <td>2171</td>\n",
       "      <td>1</td>\n",
       "      <td>3</td>\n",
       "      <td>4</td>\n",
       "      <td>3</td>\n",
       "      <td>1</td>\n",
       "      <td>...</td>\n",
       "      <td>2</td>\n",
       "      <td>38</td>\n",
       "      <td>1</td>\n",
       "      <td>2</td>\n",
       "      <td>2</td>\n",
       "      <td>2</td>\n",
       "      <td>2</td>\n",
       "      <td>1</td>\n",
       "      <td>1</td>\n",
       "      <td>1</td>\n",
       "    </tr>\n",
       "  </tbody>\n",
       "</table>\n",
       "<p>5 rows × 21 columns</p>\n",
       "</div>"
      ],
      "text/plain": [
       "   laufkont  laufzeit  moral  verw  hoehe  sparkont  beszeit  rate  famges  \\\n",
       "0         1        18      4     2   1049         1        2     4       2   \n",
       "1         1         9      4     0   2799         1        3     2       3   \n",
       "2         2        12      2     9    841         2        4     2       2   \n",
       "3         1        12      4     0   2122         1        3     3       3   \n",
       "4         1        12      4     0   2171         1        3     4       3   \n",
       "\n",
       "   buerge  ...  verm  alter  weitkred  wohn  bishkred  beruf  pers  telef  \\\n",
       "0       1  ...     2     21         3     1         1      3     2      1   \n",
       "1       1  ...     1     36         3     1         2      3     1      1   \n",
       "2       1  ...     1     23         3     1         1      2     2      1   \n",
       "3       1  ...     1     39         3     1         2      2     1      1   \n",
       "4       1  ...     2     38         1     2         2      2     2      1   \n",
       "\n",
       "   gastarb  kredit  \n",
       "0        2       1  \n",
       "1        2       1  \n",
       "2        2       1  \n",
       "3        1       1  \n",
       "4        1       1  \n",
       "\n",
       "[5 rows x 21 columns]"
      ]
     },
     "execution_count": 3,
     "metadata": {},
     "output_type": "execute_result"
    }
   ],
   "source": [
    "data.head()"
   ]
  },
  {
   "cell_type": "code",
   "execution_count": 4,
   "metadata": {
    "slideshow": {
     "slide_type": "skip"
    }
   },
   "outputs": [],
   "source": [
    "# Rename columns\n",
    "data.rename(columns={'laufkont':\"checking_status\", \n",
    "                  'laufzeit':\"duration\", \n",
    "                  'moral':\"credit_history\", \n",
    "                  'verw':\"purpose\", \n",
    "                  'hoehe':\"credit_amount\", \n",
    "                  'sparkont':\"savings_status\", \n",
    "                  'beszeit':\"employment\",\n",
    "                  'rate':\"installment_commitment\", \n",
    "                  'famges':\"personal_status\", \n",
    "                  'buerge':\"other_parties\",\n",
    "                  'wohnzeit':\"residence_since\", \n",
    "                  'verm':\"property_magnitude\", \n",
    "                  'alter':\"age\", \n",
    "                  'weitkred':\"other_payment_plans\",\n",
    "                  'wohn':\"housing\", \n",
    "                  'bishkred':\"existing_credits\", \n",
    "                  'beruf':\"job\", \n",
    "                  'pers':\"num_dependents\", \n",
    "                  'telef':\"own_telephone\", \n",
    "                  'gastarb':\"foreign_worker\",\n",
    "                  'kredit':\"credit\"}, inplace=True)"
   ]
  },
  {
   "cell_type": "code",
   "execution_count": 5,
   "metadata": {
    "cell_style": "split",
    "scrolled": true,
    "slideshow": {
     "slide_type": "fragment"
    }
   },
   "outputs": [
    {
     "data": {
      "image/png": "[encoded data removed]",
      "text/plain": [
       "<Figure size 400x300 with 1 Axes>"
      ]
     },
     "metadata": {},
     "output_type": "display_data"
    }
   ],
   "source": [
    "plot = data['credit'].value_counts().plot(kind='bar', title=\"Frequecy distribution of target feature\", xlabel=\"Credit risk\", ylabel=\"Value Count\", figsize=(4,3))"
   ]
  },
  {
   "cell_type": "code",
   "execution_count": 6,
   "metadata": {
    "slideshow": {
     "slide_type": "fragment"
    }
   },
   "outputs": [
    {
     "data": {
      "text/html": [
       "<div>\n",
       "<style scoped>\n",
       "    .dataframe tbody tr th:only-of-type {\n",
       "        vertical-align: middle;\n",
       "    }\n",
       "\n",
       "    .dataframe tbody tr th {\n",
       "        vertical-align: top;\n",
       "    }\n",
       "\n",
       "    .dataframe thead th {\n",
       "        text-align: right;\n",
       "    }\n",
       "</style>\n",
       "<table border=\"1\" class=\"dataframe\">\n",
       "  <thead>\n",
       "    <tr style=\"text-align: right;\">\n",
       "      <th></th>\n",
       "      <th>checking_status</th>\n",
       "      <th>duration</th>\n",
       "      <th>credit_history</th>\n",
       "      <th>purpose</th>\n",
       "      <th>credit_amount</th>\n",
       "      <th>savings_status</th>\n",
       "      <th>employment</th>\n",
       "      <th>installment_commitment</th>\n",
       "      <th>personal_status</th>\n",
       "      <th>other_parties</th>\n",
       "      <th>...</th>\n",
       "      <th>property_magnitude</th>\n",
       "      <th>age</th>\n",
       "      <th>other_payment_plans</th>\n",
       "      <th>housing</th>\n",
       "      <th>existing_credits</th>\n",
       "      <th>job</th>\n",
       "      <th>num_dependents</th>\n",
       "      <th>own_telephone</th>\n",
       "      <th>foreign_worker</th>\n",
       "      <th>credit</th>\n",
       "    </tr>\n",
       "  </thead>\n",
       "  <tbody>\n",
       "    <tr>\n",
       "      <th>984</th>\n",
       "      <td>1</td>\n",
       "      <td>48</td>\n",
       "      <td>2</td>\n",
       "      <td>3</td>\n",
       "      <td>6999</td>\n",
       "      <td>1</td>\n",
       "      <td>4</td>\n",
       "      <td>1</td>\n",
       "      <td>4</td>\n",
       "      <td>3</td>\n",
       "      <td>...</td>\n",
       "      <td>1</td>\n",
       "      <td>34</td>\n",
       "      <td>3</td>\n",
       "      <td>2</td>\n",
       "      <td>2</td>\n",
       "      <td>3</td>\n",
       "      <td>2</td>\n",
       "      <td>2</td>\n",
       "      <td>2</td>\n",
       "      <td>0</td>\n",
       "    </tr>\n",
       "    <tr>\n",
       "      <th>453</th>\n",
       "      <td>2</td>\n",
       "      <td>24</td>\n",
       "      <td>4</td>\n",
       "      <td>6</td>\n",
       "      <td>5743</td>\n",
       "      <td>1</td>\n",
       "      <td>2</td>\n",
       "      <td>2</td>\n",
       "      <td>2</td>\n",
       "      <td>1</td>\n",
       "      <td>...</td>\n",
       "      <td>4</td>\n",
       "      <td>24</td>\n",
       "      <td>3</td>\n",
       "      <td>3</td>\n",
       "      <td>2</td>\n",
       "      <td>3</td>\n",
       "      <td>2</td>\n",
       "      <td>2</td>\n",
       "      <td>2</td>\n",
       "      <td>1</td>\n",
       "    </tr>\n",
       "    <tr>\n",
       "      <th>172</th>\n",
       "      <td>3</td>\n",
       "      <td>12</td>\n",
       "      <td>2</td>\n",
       "      <td>3</td>\n",
       "      <td>1297</td>\n",
       "      <td>1</td>\n",
       "      <td>3</td>\n",
       "      <td>3</td>\n",
       "      <td>4</td>\n",
       "      <td>1</td>\n",
       "      <td>...</td>\n",
       "      <td>1</td>\n",
       "      <td>23</td>\n",
       "      <td>3</td>\n",
       "      <td>1</td>\n",
       "      <td>1</td>\n",
       "      <td>3</td>\n",
       "      <td>2</td>\n",
       "      <td>1</td>\n",
       "      <td>2</td>\n",
       "      <td>1</td>\n",
       "    </tr>\n",
       "  </tbody>\n",
       "</table>\n",
       "<p>3 rows × 21 columns</p>\n",
       "</div>"
      ],
      "text/plain": [
       "     checking_status  duration  credit_history  purpose  credit_amount  \\\n",
       "984                1        48               2        3           6999   \n",
       "453                2        24               4        6           5743   \n",
       "172                3        12               2        3           1297   \n",
       "\n",
       "     savings_status  employment  installment_commitment  personal_status  \\\n",
       "984               1           4                       1                4   \n",
       "453               1           2                       2                2   \n",
       "172               1           3                       3                4   \n",
       "\n",
       "     other_parties  ...  property_magnitude  age  other_payment_plans  \\\n",
       "984              3  ...                   1   34                    3   \n",
       "453              1  ...                   4   24                    3   \n",
       "172              1  ...                   1   23                    3   \n",
       "\n",
       "     housing  existing_credits  job  num_dependents  own_telephone  \\\n",
       "984        2                 2    3               2              2   \n",
       "453        3                 2    3               2              2   \n",
       "172        1                 1    3               2              1   \n",
       "\n",
       "     foreign_worker  credit  \n",
       "984               2       0  \n",
       "453               2       1  \n",
       "172               2       1  \n",
       "\n",
       "[3 rows x 21 columns]"
      ]
     },
     "execution_count": 6,
     "metadata": {},
     "output_type": "execute_result"
    }
   ],
   "source": [
    "data.sample(3)"
   ]
  },
  {
   "cell_type": "code",
   "execution_count": 7,
   "metadata": {
    "slideshow": {
     "slide_type": "skip"
    }
   },
   "outputs": [],
   "source": [
    "# Display data\n",
    "X = data.drop([\"credit\"], axis=1)\n",
    "y = data[\"credit\"]"
   ]
  },
  {
   "cell_type": "code",
   "execution_count": 8,
   "metadata": {
    "slideshow": {
     "slide_type": "skip"
    }
   },
   "outputs": [
    {
     "data": {
      "text/html": [
       "<div>\n",
       "<style scoped>\n",
       "    .dataframe tbody tr th:only-of-type {\n",
       "        vertical-align: middle;\n",
       "    }\n",
       "\n",
       "    .dataframe tbody tr th {\n",
       "        vertical-align: top;\n",
       "    }\n",
       "\n",
       "    .dataframe thead th {\n",
       "        text-align: right;\n",
       "    }\n",
       "</style>\n",
       "<table border=\"1\" class=\"dataframe\">\n",
       "  <thead>\n",
       "    <tr style=\"text-align: right;\">\n",
       "      <th></th>\n",
       "      <th>checking_status</th>\n",
       "      <th>duration</th>\n",
       "      <th>credit_history</th>\n",
       "      <th>purpose</th>\n",
       "      <th>credit_amount</th>\n",
       "      <th>savings_status</th>\n",
       "      <th>employment</th>\n",
       "      <th>installment_commitment</th>\n",
       "      <th>personal_status</th>\n",
       "      <th>other_parties</th>\n",
       "      <th>residence_since</th>\n",
       "      <th>property_magnitude</th>\n",
       "      <th>age</th>\n",
       "      <th>other_payment_plans</th>\n",
       "      <th>housing</th>\n",
       "      <th>existing_credits</th>\n",
       "      <th>job</th>\n",
       "      <th>num_dependents</th>\n",
       "      <th>own_telephone</th>\n",
       "      <th>foreign_worker</th>\n",
       "    </tr>\n",
       "  </thead>\n",
       "  <tbody>\n",
       "    <tr>\n",
       "      <th>0</th>\n",
       "      <td>1</td>\n",
       "      <td>18</td>\n",
       "      <td>4</td>\n",
       "      <td>2</td>\n",
       "      <td>1049</td>\n",
       "      <td>1</td>\n",
       "      <td>2</td>\n",
       "      <td>4</td>\n",
       "      <td>2</td>\n",
       "      <td>1</td>\n",
       "      <td>4</td>\n",
       "      <td>2</td>\n",
       "      <td>21</td>\n",
       "      <td>3</td>\n",
       "      <td>1</td>\n",
       "      <td>1</td>\n",
       "      <td>3</td>\n",
       "      <td>2</td>\n",
       "      <td>1</td>\n",
       "      <td>2</td>\n",
       "    </tr>\n",
       "    <tr>\n",
       "      <th>1</th>\n",
       "      <td>1</td>\n",
       "      <td>9</td>\n",
       "      <td>4</td>\n",
       "      <td>0</td>\n",
       "      <td>2799</td>\n",
       "      <td>1</td>\n",
       "      <td>3</td>\n",
       "      <td>2</td>\n",
       "      <td>3</td>\n",
       "      <td>1</td>\n",
       "      <td>2</td>\n",
       "      <td>1</td>\n",
       "      <td>36</td>\n",
       "      <td>3</td>\n",
       "      <td>1</td>\n",
       "      <td>2</td>\n",
       "      <td>3</td>\n",
       "      <td>1</td>\n",
       "      <td>1</td>\n",
       "      <td>2</td>\n",
       "    </tr>\n",
       "    <tr>\n",
       "      <th>2</th>\n",
       "      <td>2</td>\n",
       "      <td>12</td>\n",
       "      <td>2</td>\n",
       "      <td>9</td>\n",
       "      <td>841</td>\n",
       "      <td>2</td>\n",
       "      <td>4</td>\n",
       "      <td>2</td>\n",
       "      <td>2</td>\n",
       "      <td>1</td>\n",
       "      <td>4</td>\n",
       "      <td>1</td>\n",
       "      <td>23</td>\n",
       "      <td>3</td>\n",
       "      <td>1</td>\n",
       "      <td>1</td>\n",
       "      <td>2</td>\n",
       "      <td>2</td>\n",
       "      <td>1</td>\n",
       "      <td>2</td>\n",
       "    </tr>\n",
       "    <tr>\n",
       "      <th>3</th>\n",
       "      <td>1</td>\n",
       "      <td>12</td>\n",
       "      <td>4</td>\n",
       "      <td>0</td>\n",
       "      <td>2122</td>\n",
       "      <td>1</td>\n",
       "      <td>3</td>\n",
       "      <td>3</td>\n",
       "      <td>3</td>\n",
       "      <td>1</td>\n",
       "      <td>2</td>\n",
       "      <td>1</td>\n",
       "      <td>39</td>\n",
       "      <td>3</td>\n",
       "      <td>1</td>\n",
       "      <td>2</td>\n",
       "      <td>2</td>\n",
       "      <td>1</td>\n",
       "      <td>1</td>\n",
       "      <td>1</td>\n",
       "    </tr>\n",
       "    <tr>\n",
       "      <th>4</th>\n",
       "      <td>1</td>\n",
       "      <td>12</td>\n",
       "      <td>4</td>\n",
       "      <td>0</td>\n",
       "      <td>2171</td>\n",
       "      <td>1</td>\n",
       "      <td>3</td>\n",
       "      <td>4</td>\n",
       "      <td>3</td>\n",
       "      <td>1</td>\n",
       "      <td>4</td>\n",
       "      <td>2</td>\n",
       "      <td>38</td>\n",
       "      <td>1</td>\n",
       "      <td>2</td>\n",
       "      <td>2</td>\n",
       "      <td>2</td>\n",
       "      <td>2</td>\n",
       "      <td>1</td>\n",
       "      <td>1</td>\n",
       "    </tr>\n",
       "  </tbody>\n",
       "</table>\n",
       "</div>"
      ],
      "text/plain": [
       "   checking_status  duration  credit_history  purpose  credit_amount  \\\n",
       "0                1        18               4        2           1049   \n",
       "1                1         9               4        0           2799   \n",
       "2                2        12               2        9            841   \n",
       "3                1        12               4        0           2122   \n",
       "4                1        12               4        0           2171   \n",
       "\n",
       "   savings_status  employment  installment_commitment  personal_status  \\\n",
       "0               1           2                       4                2   \n",
       "1               1           3                       2                3   \n",
       "2               2           4                       2                2   \n",
       "3               1           3                       3                3   \n",
       "4               1           3                       4                3   \n",
       "\n",
       "   other_parties  residence_since  property_magnitude  age  \\\n",
       "0              1                4                   2   21   \n",
       "1              1                2                   1   36   \n",
       "2              1                4                   1   23   \n",
       "3              1                2                   1   39   \n",
       "4              1                4                   2   38   \n",
       "\n",
       "   other_payment_plans  housing  existing_credits  job  num_dependents  \\\n",
       "0                    3        1                 1    3               2   \n",
       "1                    3        1                 2    3               1   \n",
       "2                    3        1                 1    2               2   \n",
       "3                    3        1                 2    2               1   \n",
       "4                    1        2                 2    2               2   \n",
       "\n",
       "   own_telephone  foreign_worker  \n",
       "0              1               2  \n",
       "1              1               2  \n",
       "2              1               2  \n",
       "3              1               1  \n",
       "4              1               1  "
      ]
     },
     "execution_count": 8,
     "metadata": {},
     "output_type": "execute_result"
    }
   ],
   "source": [
    "# Predictors\n",
    "X.head()"
   ]
  },
  {
   "cell_type": "code",
   "execution_count": 9,
   "metadata": {
    "scrolled": true,
    "slideshow": {
     "slide_type": "skip"
    }
   },
   "outputs": [
    {
     "data": {
      "text/plain": [
       "367    1\n",
       "112    1\n",
       "685    1\n",
       "373    1\n",
       "771    0\n",
       "Name: credit, dtype: uint8"
      ]
     },
     "execution_count": 9,
     "metadata": {},
     "output_type": "execute_result"
    }
   ],
   "source": [
    "# Target\n",
    "y.sample(5)"
   ]
  },
  {
   "cell_type": "markdown",
   "metadata": {
    "slideshow": {
     "slide_type": "slide"
    }
   },
   "source": [
    "### Classifier "
   ]
  },
  {
   "cell_type": "code",
   "execution_count": 116,
   "metadata": {
    "slideshow": {
     "slide_type": "fragment"
    }
   },
   "outputs": [],
   "source": [
    "# Naive Bayes Classifier\n",
    "nb = GaussianNB()"
   ]
  },
  {
   "cell_type": "markdown",
   "metadata": {
    "cell_style": "split",
    "slideshow": {
     "slide_type": "fragment"
    }
   },
   "source": [
    "### Predictive performance metrics\n",
    "- Accuracy\n",
    "- Precision\n",
    "- Recall\n",
    "- Specificity\n",
    "- F1 score\n",
    "- **ROC AUC**"
   ]
  },
  {
   "cell_type": "markdown",
   "metadata": {
    "cell_style": "split",
    "slideshow": {
     "slide_type": "fragment"
    }
   },
   "source": [
    "**ROC AUC**\n",
    "<br></br>\n",
    "<center>   \n",
    "<img src=\"./images/AUC.svg\" alt=\"transition\" width=\"470.25\" height=\"405.75\">\n",
    "</center>\n",
    "\n",
    "Preferable for unbalanced data."
   ]
  },
  {
   "cell_type": "markdown",
   "metadata": {
    "slideshow": {
     "slide_type": "slide"
    }
   },
   "source": [
    "## Baseline: Full Dataset\n",
    "<center>   \n",
    "<img src=\"./images/gif3.png\" alt=\"transition\" width=\"374\" height=\"386\">\n",
    "</center>"
   ]
  },
  {
   "cell_type": "code",
   "execution_count": 25,
   "metadata": {
    "slideshow": {
     "slide_type": "fragment"
    }
   },
   "outputs": [
    {
     "name": "stdout",
     "output_type": "stream",
     "text": [
      "AUC score with full dataset: 72.21%\n",
      "CPU times: user 38.9 ms, sys: 0 ns, total: 38.9 ms\n",
      "Wall time: 43.8 ms\n"
     ]
    }
   ],
   "source": [
    "%%time\n",
    "# Build classifier with all features\n",
    "baseline = cross_val_score(estimator=nb,X=X, y=y,\n",
    "                scoring=\"roc_auc\", cv=2).mean()\n",
    "\n",
    "print('AUC score with full dataset: %.2f%%' %(baseline*100))"
   ]
  },
  {
   "cell_type": "markdown",
   "metadata": {
    "slideshow": {
     "slide_type": "slide"
    }
   },
   "source": [
    "**Content:**\n",
    "<br></br>\n",
    "1. Introduction to Feature Selection (FS)\n",
    "2. Search strategies\n",
    "    * Exponential\n",
    "    * Sequential\n",
    "    * Heuristics-based\n",
    "3. FS classes\n",
    "4. Evaluation metrics\n",
    "5. Open challenges\n",
    "6. Conclusion"
   ]
  },
  {
   "cell_type": "markdown",
   "metadata": {
    "slideshow": {
     "slide_type": "slide"
    }
   },
   "source": [
    "## Exponential search\n",
    "Evaluates an increasing number of subsets which scales exponentially with the size of the feature space.\n",
    "<br><br/>"
   ]
  },
  {
   "cell_type": "markdown",
   "metadata": {
    "cell_style": "split",
    "slideshow": {
     "slide_type": "fragment"
    }
   },
   "source": [
    "1. Traverses the entire search\n",
    "2. Near guarantee of best solution\n",
    "3. Computationally expensive\n",
    "3. Feasible for small datasets\n",
    "<br><br/>\n",
    "    E.g: Exhaustive search, Branch-and-bound"
   ]
  },
  {
   "cell_type": "markdown",
   "metadata": {
    "cell_style": "split",
    "slideshow": {
     "slide_type": "fragment"
    }
   },
   "source": [
    "<center>\n",
    "<img src=\"./images/exhaustive.png\" alt=\"exaustive search\" width=\"528\" height=\"338\">\n",
    "<center/>"
   ]
  },
  {
   "cell_type": "markdown",
   "metadata": {
    "slideshow": {
     "slide_type": "slide"
    }
   },
   "source": [
    "### Brand-and-bound\n",
    "- Follows a tree structure\n",
    "- The root comprises all features\n",
    "- The intermediate child node contains a feature subset one smaller than its parent node\n",
    "- Can be constrained to a predetermined size for the feature subset\n",
    "- Top-down with backtracking"
   ]
  },
  {
   "cell_type": "markdown",
   "metadata": {
    "slideshow": {
     "slide_type": "fragment"
    }
   },
   "source": [
    "<center>\n",
    "<img src=\"./images/bb.gif\" alt=\"Big data\" width=\"927\" height=\"436\"/>\n",
    "<center/>"
   ]
  },
  {
   "cell_type": "markdown",
   "metadata": {
    "slideshow": {
     "slide_type": "slide"
    }
   },
   "source": [
    "### Applying Exhaustive search"
   ]
  },
  {
   "cell_type": "code",
   "execution_count": 86,
   "metadata": {
    "slideshow": {
     "slide_type": "fragment"
    }
   },
   "outputs": [
    {
     "name": "stdout",
     "output_type": "stream",
     "text": [
      "Best AUC score: 0.78\n",
      "Number of features: 9\n",
      "CPU times: user 50min 33s, sys: 3.42 s, total: 50min 36s\n",
      "Wall time: 50min 37s\n"
     ]
    }
   ],
   "source": [
    "%%time\n",
    "# Exhaustive search\n",
    "efs1 = EFS(nb, \n",
    "           min_features=1,\n",
    "           max_features=20,\n",
    "           scoring='roc_auc',\n",
    "           print_progress=False,\n",
    "           cv=2)\n",
    "\n",
    "# Estimated execution time is 1 hour.\n",
    "efs1 = efs1.fit(X, y.values.ravel())\n",
    "print('Best AUC score: %.2f%%' % (efs1.best_score_*100))\n",
    "print('Number of features:', len(efs1.best_idx_))"
   ]
  },
  {
   "cell_type": "markdown",
   "metadata": {
    "slideshow": {
     "slide_type": "slide"
    }
   },
   "source": [
    "## Sequential search\n",
    "Simple greedy algorithms that consecutively update the feature subset with features that improve or maintain the evaluation criterion.\n",
    "<br><br/>"
   ]
  },
  {
   "cell_type": "markdown",
   "metadata": {
    "cell_style": "split",
    "slideshow": {
     "slide_type": "fragment"
    }
   },
   "source": [
    "1. Simple\n",
    "2. Greedy algorithms\n",
    "3. Resilience against overfitting\n",
    "4. Best solution not guaranteed\n",
    "<br><br/>\n",
    "    E.g: Sequential Forward Selection, Sequential Backward Selection"
   ]
  },
  {
   "cell_type": "markdown",
   "metadata": {
    "cell_style": "split",
    "slideshow": {
     "slide_type": "fragment"
    }
   },
   "source": [
    "<center>\n",
    "<img src=\"./images/sequential.png\" alt=\"exaustive search\" width=\"528\" height=\"338\">\n",
    " </center>"
   ]
  },
  {
   "cell_type": "markdown",
   "metadata": {
    "cell_style": "split",
    "slideshow": {
     "slide_type": "slide"
    }
   },
   "source": [
    "### Sequential Forward Selection\n",
    "- Size = 2\n",
    "- Starts with the empty set - {}\n",
    "<br/><br/>\n",
    "<center>\n",
    "<img src=\"./images/sfs.gif\" alt=\"Big data\" width=\"528\" height=\"338\"/>\n",
    "<center/>"
   ]
  },
  {
   "cell_type": "markdown",
   "metadata": {
    "cell_style": "split",
    "slideshow": {
     "slide_type": "fragment"
    }
   },
   "source": [
    "### Sequential Backward Selection\n",
    "- Size = 2\n",
    "- Starts with the full set of features - {f1, f2, f3, f4}\n",
    "<br/><br/>\n",
    "<center>\n",
    "<img src=\"./images/sbs.gif\" alt=\"Big data\" width=\"528\" height=\"338\"/>\n",
    "<center/>"
   ]
  },
  {
   "cell_type": "markdown",
   "metadata": {
    "slideshow": {
     "slide_type": "slide"
    }
   },
   "source": [
    "### Applying Sequential Foward Selection"
   ]
  },
  {
   "cell_type": "code",
   "execution_count": 68,
   "metadata": {
    "slideshow": {
     "slide_type": "fragment"
    }
   },
   "outputs": [
    {
     "name": "stdout",
     "output_type": "stream",
     "text": [
      "Best AUC score: 77.68%\n",
      "CPU times: user 861 ms, sys: 2.76 ms, total: 864 ms\n",
      "Wall time: 875 ms\n"
     ]
    }
   ],
   "source": [
    "%%time\n",
    "# Sequential Foward Selection\n",
    "sfs1 = SFS(nb, \n",
    "           k_features=9, \n",
    "           forward=True, \n",
    "           scoring='roc_auc',\n",
    "           cv=2)\n",
    "\n",
    "sfs1 = sfs1.fit(X, y)\n",
    "print('Best AUC score: %.2f%%' % (sfs1.k_score_*100))"
   ]
  },
  {
   "cell_type": "markdown",
   "metadata": {
    "slideshow": {
     "slide_type": "slide"
    }
   },
   "source": [
    "## Heuristics-based search\n",
    "Integrate randomness into their search process through heuristics to navigate large search spaces and avoid local minima. "
   ]
  },
  {
   "cell_type": "markdown",
   "metadata": {
    "cell_style": "split",
    "scrolled": true,
    "slideshow": {
     "slide_type": "fragment"
    }
   },
   "source": [
    "1. Heuristics that imitate natural population evolution\n",
    "2. Wider exploration of search space\n",
    "3. Trap in local optimum\n",
    "\n",
    "E.g: Particle swarm optimisation, genetic algorithms"
   ]
  },
  {
   "cell_type": "markdown",
   "metadata": {
    "cell_style": "split",
    "slideshow": {
     "slide_type": "fragment"
    }
   },
   "source": [
    "<center>\n",
    "<img src=\"./images/population-based.png\"  alt=\"exaustive search\"  width=\"528\" height=\"338\">\n",
    " </center>"
   ]
  },
  {
   "cell_type": "markdown",
   "metadata": {
    "slideshow": {
     "slide_type": "slide"
    }
   },
   "source": [
    "### Genetic algorithm (GA)\n",
    "GA entities:\n",
    "- Chromosomes --> Subset of features\n",
    "- Genes ------------> Features\n",
    "- Alleles -----------> Selection indication (0 or 1)\n",
    "Steps:\n",
    "1. **Initialization:** initialize population of candidate solutions\n",
    "2. **Evaluaton:** measure the fitness of each candidate solution\n",
    "3. **Selection:** survival of the fittest to keep 'better' solutions\n",
    "4. **Recombination:** a crossover of the selected solutions to form new/better solutions\n",
    "5. **Mutation:** local and random modification of a solution to add diversity\n",
    "6. **Replacement:** replace current population with created offspring\n",
    "7. Repeat 2 - 6 until termination criterion is satisfied"
   ]
  },
  {
   "cell_type": "code",
   "execution_count": 71,
   "metadata": {
    "slideshow": {
     "slide_type": "skip"
    }
   },
   "outputs": [],
   "source": [
    "class credit(BinaryProblem):\n",
    "    \n",
    "    def __init__(self, pred: pd.DataFrame, target: pd.Series, classifier, n_var:int=20):\n",
    "        super(credit, self).__init__()\n",
    "        self.pred = pred\n",
    "        self.target = target\n",
    "        self.classifier = classifier\n",
    "        self.n_var = n_var\n",
    "        self.obj_labels = [\"auc\"]\n",
    "        \n",
    "    def number_of_variables(self) -> int:\n",
    "        return 1\n",
    "    def number_of_objectives(self) -> int:\n",
    "        return 1\n",
    "    def number_of_constraints(self) -> int:\n",
    "        return 1\n",
    "        \n",
    "    def evaluate(self, solution: BinarySolution) -> BinarySolution:\n",
    "        \n",
    "        # check constraint and if violated generate a new solution\n",
    "        self.__evaluate_constraints(solution)\n",
    "        if solution.constraints[0] == 0:\n",
    "            check = random.randrange(self.n_var)\n",
    "            solution.variables[0] = [True if _ == check else False for _ in range(self.n_var)]\n",
    "       \n",
    "        auc = cross_val_score(estimator=self.classifier, \n",
    "                                   X=self.pred.iloc[:,solution.variables[0]], y=self.target,\n",
    "                                   scoring=\"roc_auc\", cv=2).mean()\n",
    "        solution.objectives[0] = auc * -1.0\n",
    "        return solution\n",
    "        \n",
    "    def __evaluate_constraints(self, solution: BinarySolution) -> None:\n",
    "        solution.constraints = [0 for _ in range(self.number_of_constraints())]\n",
    "        if sum(solution.variables[0]) == 0:\n",
    "            solution.constraints[0] = 0\n",
    "        else:\n",
    "            solution.constraints[0] = 1\n",
    "        \n",
    "    def create_solution(self) -> BinarySolution:\n",
    "        new_solution = BinarySolution(number_of_variables=self.number_of_variables(),\n",
    "                                      number_of_objectives=self.number_of_objectives())\n",
    "        new_solution.variables[0] =  [True if random.randint(0, 1) == 1 else \n",
    "                                      False for _ in range(self.n_var)]\n",
    "        return new_solution\n",
    "    \n",
    "    def name(self) -> str:\n",
    "        return 'Credit'\n",
    "logging.disable()"
   ]
  },
  {
   "cell_type": "markdown",
   "metadata": {
    "slideshow": {
     "slide_type": "slide"
    }
   },
   "source": [
    "### Applying  Genetic Algorithm"
   ]
  },
  {
   "cell_type": "code",
   "execution_count": 72,
   "metadata": {
    "jupyter": {
     "outputs_hidden": true
    },
    "slideshow": {
     "slide_type": "fragment"
    }
   },
   "outputs": [
    {
     "name": "stdout",
     "output_type": "stream",
     "text": [
      "CPU times: user 3min 16s, sys: 0 ns, total: 3min 16s\n",
      "Wall time: 3min 16s\n"
     ]
    }
   ],
   "source": [
    "%%time\n",
    "# Genetic algorithm\n",
    "problem = credit(X, y, nb)\n",
    "algorithm = GeneticAlgorithm(\n",
    "        problem=problem,\n",
    "        population_size=40,\n",
    "        offspring_population_size=40,\n",
    "        mutation=BitFlipMutation(1.0 / problem.n_var),\n",
    "        crossover=SPXCrossover(1.0),\n",
    "        termination_criterion=StoppingByEvaluations(max_evaluations=20000),\n",
    "    )\n",
    "# Estimated execution time is 2 mins.\n",
    "algorithm.run()\n",
    "result = algorithm.get_result()\n",
    "indices = [int(i) for i in range(len(result.get_binary_string())) if result.get_binary_string()[i] == \"1\"]"
   ]
  },
  {
   "cell_type": "code",
   "execution_count": 74,
   "metadata": {
    "slideshow": {
     "slide_type": "fragment"
    }
   },
   "outputs": [
    {
     "name": "stdout",
     "output_type": "stream",
     "text": [
      "Best AUC score: 77.75%\n",
      "Number of features: 9\n"
     ]
    }
   ],
   "source": [
    "print('Best AUC score: %.2f%%' % (result.objectives[0]*-100))\n",
    "print('Number of features:', len(indices))"
   ]
  },
  {
   "cell_type": "markdown",
   "metadata": {
    "slideshow": {
     "slide_type": "slide"
    }
   },
   "source": [
    "## Summary\n",
    "- In the context of big data, exponential search is infeasible.\n",
    "- The outcome of exponential and sequential methods are deterministic.\n",
    "- In general, feature selection may improve performance and model understanding.\n",
    "\n",
    "|Measure | Baseline |Exponential  | Sequential    | Heuristics-based  \n",
    "|---:|-------------|:-------------|:-----------|:------|\n",
    "| AUC|72.21%| 78 % |    77.68%   |  77.75%  | \n",
    "| Size| 20|9 |    9    |   9 | \n",
    "| Time |43.8 ms| 50 mins  | 875 ms    |  3 mins | "
   ]
  },
  {
   "cell_type": "markdown",
   "metadata": {
    "slideshow": {
     "slide_type": "slide"
    }
   },
   "source": [
    "**Content:**\n",
    "<br></br>\n",
    "1. Introduction to Feature Selection (FS)\n",
    "2. Search strategies\n",
    "3. FS classes\n",
    "    * Filter methods\n",
    "    * Wrapper methods\n",
    "    * Embeded methods\n",
    "    * Hybrid methods\n",
    "4. Evaluation metrics\n",
    "5. Open challenges\n",
    "6. Conclusion"
   ]
  },
  {
   "cell_type": "code",
   "execution_count": 75,
   "metadata": {
    "slideshow": {
     "slide_type": "skip"
    }
   },
   "outputs": [],
   "source": [
    "\n",
    "# Define the URL for the iframe\n",
    "url = \"https://wall.sli.do/event/4x1hRrKH2aAagWbB3j4XA1?section=b8b6bb36-55a1-44f9-9680-2895646ddf65\"\n",
    "# Create the IFrame\n",
    "iframe = IFrame(url, width=600, height=800)\n",
    "# Define HTML/CSS to center the iframe\n",
    "slido2 = \"\"\"\n",
    "<div style=\"display: flex; justify-content: center;\">\n",
    "    {}\n",
    "</div>\n",
    "\"\"\".format(iframe._repr_html_())"
   ]
  },
  {
   "cell_type": "markdown",
   "metadata": {
    "cell_style": "split",
    "slideshow": {
     "slide_type": "slide"
    }
   },
   "source": [
    "# Join at slido.com #2256 105\n",
    "<br></br>\n",
    "<center>   \n",
    "<img src=\"./images/slido2.png\" alt=\"transition\" width=\"450\" height=\"250\">\n",
    "</center>"
   ]
  },
  {
   "cell_type": "code",
   "execution_count": 35,
   "metadata": {
    "cell_style": "split",
    "jupyter": {
     "outputs_hidden": true
    },
    "slideshow": {
     "slide_type": "fragment"
    }
   },
   "outputs": [
    {
     "data": {
      "text/html": [
       "\n",
       "<div style=\"display: flex; justify-content: center;\">\n",
       "    \n",
       "        <iframe\n",
       "            width=\"600\"\n",
       "            height=\"800\"\n",
       "            src=\"https://wall.sli.do/event/4x1hRrKH2aAagWbB3j4XA1?section=b8b6bb36-55a1-44f9-9680-2895646ddf65\"\n",
       "            frameborder=\"0\"\n",
       "            allowfullscreen\n",
       "            \n",
       "        ></iframe>\n",
       "        \n",
       "</div>\n"
      ],
      "text/plain": [
       "<IPython.core.display.HTML object>"
      ]
     },
     "metadata": {},
     "output_type": "display_data"
    }
   ],
   "source": [
    "# Display Slido poll resutls\n",
    "display(HTML(slido2))"
   ]
  },
  {
   "cell_type": "markdown",
   "metadata": {
    "slideshow": {
     "slide_type": "slide"
    }
   },
   "source": [
    "## Filter methods\n",
    "Evaluate and select features independent of any learning algorithm by solely relying on the characteristics of the dataset to determine the relevance of a feature."
   ]
  },
  {
   "cell_type": "markdown",
   "metadata": {
    "cell_style": "split",
    "slideshow": {
     "slide_type": "fragment"
    }
   },
   "source": [
    "<center>\n",
    "<img src=\"./images/filter.png\" align=\"left\" alt=\"filter\" width=\"528\" height=\"338\">\n",
    "</center>"
   ]
  },
  {
   "cell_type": "markdown",
   "metadata": {
    "cell_style": "split",
    "slideshow": {
     "slide_type": "fragment"
    }
   },
   "source": [
    "1. Fast execution time\n",
    "2. Good generalization\n",
    "3. Robust to overfitting\n",
    "4. Possible redundancy \n",
    "5. Model independent\n",
    "6. Non ‘optimal’ selection\n",
    "\n",
    "E.g: Gini, Mutual information, Correlation measures"
   ]
  },
  {
   "cell_type": "markdown",
   "metadata": {
    "cell_style": "split",
    "slideshow": {
     "slide_type": "slide"
    }
   },
   "source": [
    "**Similarity-Based Filter Methods**\n",
    "- Laplacian Score\n",
    "- Fisher Score\n",
    "- Trace Ratio Criterion\n",
    "- ReliefF\n",
    "\n",
    "**Information-Theoretical-Based Filter Methods**\n",
    "- Information Gain\n",
    "- Minimum Redundancy Maximum Relevance (MRMR)\n",
    "- Joint Mutual Information\n",
    "- Fast Correlation-Based Filter"
   ]
  },
  {
   "cell_type": "markdown",
   "metadata": {
    "cell_style": "split",
    "slideshow": {
     "slide_type": "fragment"
    }
   },
   "source": [
    "**Sparse-Learning-Based Filter Methods**\n",
    "- Feature Selection with Lp -Norm Regularizer.\n",
    "- Efficient and Robust Feature Selection\n",
    "- Feature Selection Using Nonnegative Spectral Analysis\n",
    "\n",
    "**Statistical-Based Filter Methods**\n",
    "- Low Variance\n",
    "- T-Score\n",
    "- Chi-Square Score\n",
    "- Gini Index"
   ]
  },
  {
   "cell_type": "markdown",
   "metadata": {
    "slideshow": {
     "slide_type": "slide"
    }
   },
   "source": [
    "### Gini index\n",
    "A statistical-based measure used to assess whether a feature effectively distinguishes instances belonging to different classes. The lower the Gini index value, the more relevant the feature is."
   ]
  },
  {
   "cell_type": "markdown",
   "metadata": {
    "cell_style": "center",
    "slideshow": {
     "slide_type": "slide"
    }
   },
   "source": [
    "### Applying  Gini Index"
   ]
  },
  {
   "cell_type": "code",
   "execution_count": 91,
   "metadata": {
    "cell_style": "split",
    "slideshow": {
     "slide_type": "fragment"
    }
   },
   "outputs": [
    {
     "name": "stdout",
     "output_type": "stream",
     "text": [
      "CPU times: user 33.9 ms, sys: 3 µs, total: 33.9 ms\n",
      "Wall time: 34.5 ms\n"
     ]
    },
    {
     "data": {
      "text/plain": [
       "[('checking_status', 0.3720903804538366),\n",
       " ('credit_history', 0.40293787540546877),\n",
       " ('savings_status', 0.40519357884796975),\n",
       " ('duration', 0.4063784549964565),\n",
       " ('credit_amount', 0.4089123232700295),\n",
       " ('age', 0.4131254061078623),\n",
       " ('property_magnitude', 0.41335850910319),\n",
       " ('employment', 0.41419963848162283),\n",
       " ('other_payment_plans', 0.4146099178357242),\n",
       " ('purpose', 0.4160563254558033),\n",
       " ('personal_status', 0.4161718750000001),\n",
       " ('housing', 0.4163841615688729),\n",
       " ('foreign_worker', 0.4171704414695068),\n",
       " ('installment_commitment', 0.4178956315350569),\n",
       " ('other_parties', 0.4187276858162934),\n",
       " ('existing_credits', 0.4191217807163674),\n",
       " ('job', 0.41930909783022463),\n",
       " ('own_telephone', 0.41944149112897866),\n",
       " ('residence_since', 0.4198408488063661),\n",
       " ('num_dependents', 0.4199961824775721)]"
      ]
     },
     "execution_count": 91,
     "metadata": {},
     "output_type": "execute_result"
    }
   ],
   "source": [
    "%%time\n",
    "score = gini_index.gini_index(X.values, y.values)\n",
    "# rank features in descending order according to score\n",
    "idx = gini_index.feature_ranking(score)\n",
    "sorted(zip(X.columns, score),key=lambda x: x[1])"
   ]
  },
  {
   "cell_type": "markdown",
   "metadata": {
    "cell_style": "split",
    "slideshow": {
     "slide_type": "fragment"
    }
   },
   "source": [
    "#### Top - 9"
   ]
  },
  {
   "cell_type": "code",
   "execution_count": 77,
   "metadata": {
    "cell_style": "split",
    "slideshow": {
     "slide_type": "fragment"
    }
   },
   "outputs": [
    {
     "name": "stdout",
     "output_type": "stream",
     "text": [
      "Filter --> AUC score with top 9 features: 76.54%\n"
     ]
    }
   ],
   "source": [
    "top_9 = ['checking_status','credit_history','savings_status', 'duration','credit_amount', \n",
    "'age','property_magnitude', 'employment', 'other_payment_plans']\n",
    "auc = cross_val_score(estimator=nb,X=X.loc[:,top_9], y=y,\n",
    "                scoring=\"roc_auc\", cv=2).mean()\n",
    "print('Filter --> AUC score with top 9 features: %.2f%%' %(auc*100))"
   ]
  },
  {
   "cell_type": "markdown",
   "metadata": {
    "slideshow": {
     "slide_type": "slide"
    }
   },
   "source": [
    "## Wrapper methods\n",
    "Depend on the performance metrics (e.g., accuracy or AUC) of a chosen Machine Learning (ML) algorithm to evaluate generated feature subsets."
   ]
  },
  {
   "cell_type": "markdown",
   "metadata": {
    "cell_style": "split",
    "slideshow": {
     "slide_type": "fragment"
    }
   },
   "source": [
    "<center>\n",
    "<img src=\"./images/wrapper.png\" alt=\"wrapper\" width=\"604\" height=\"406\">\n",
    "</center>"
   ]
  },
  {
   "cell_type": "markdown",
   "metadata": {
    "cell_style": "split",
    "slideshow": {
     "slide_type": "fragment"
    }
   },
   "source": [
    "1. Model dependent\n",
    "2. High accuracy \n",
    "3. Captures dependencies\n",
    "4. Poor generalization\n",
    "5. Risk of overfitting\n",
    "6. Computationally intense\n",
    "\n",
    "E.g: ML performance metrics"
   ]
  },
  {
   "cell_type": "markdown",
   "metadata": {
    "cell_style": "center",
    "slideshow": {
     "slide_type": "slide"
    }
   },
   "source": [
    "### Applying Wrapper with NB AUC"
   ]
  },
  {
   "cell_type": "code",
   "execution_count": 78,
   "metadata": {
    "slideshow": {
     "slide_type": "fragment"
    }
   },
   "outputs": [
    {
     "name": "stdout",
     "output_type": "stream",
     "text": [
      "Wrapper --> AUC score with top 9 features: 77.68%\n",
      "CPU times: user 856 ms, sys: 3.81 ms, total: 860 ms\n",
      "Wall time: 865 ms\n"
     ]
    }
   ],
   "source": [
    "%%time\n",
    "# Nine features\n",
    "sfs1 = SFS(nb, \n",
    "           k_features=9, \n",
    "           forward=True, \n",
    "           scoring='roc_auc',\n",
    "           cv=2)\n",
    "\n",
    "sfs1 = sfs1.fit(X, y)\n",
    "print('Wrapper --> AUC score with top 9 features: %.2f%%' % (sfs1.k_score_*100))"
   ]
  },
  {
   "cell_type": "markdown",
   "metadata": {
    "slideshow": {
     "slide_type": "slide"
    }
   },
   "source": [
    "## Embedded methods\n",
    "ML algorithms that intrinsically do feature selection while building the model.\n",
    "<br></br>"
   ]
  },
  {
   "cell_type": "markdown",
   "metadata": {
    "cell_style": "split",
    "slideshow": {
     "slide_type": "fragment"
    }
   },
   "source": [
    "<center>\n",
    "<img src=\"./images/embedded.png\" alt=\"embedded\" width=\"532\" height=\"284\">\n",
    "</center>\n"
   ]
  },
  {
   "cell_type": "markdown",
   "metadata": {
    "cell_style": "split",
    "slideshow": {
     "slide_type": "fragment"
    }
   },
   "source": [
    "1. Model dependent\n",
    "2. Moderate execution time\n",
    "3. Captures dependencies\n",
    "4. Poor generalization\n",
    "\n",
    "\n",
    "E.g: Tree based algorithms, LASSO Regression"
   ]
  },
  {
   "cell_type": "markdown",
   "metadata": {
    "slideshow": {
     "slide_type": "slide"
    }
   },
   "source": [
    "### Decision Tree Embedded Method\n",
    "Recursively partitions the feature space into subsets, making decisions based on the values of features to classify instances into different classes. Split criteria includes: Gini, Entropy, Log_loss."
   ]
  },
  {
   "cell_type": "code",
   "execution_count": 86,
   "metadata": {
    "slideshow": {
     "slide_type": "fragment"
    }
   },
   "outputs": [],
   "source": [
    "clf = tree.DecisionTreeClassifier(criterion=\"entropy\", max_depth=3)\n",
    "clf = clf.fit(X, y)"
   ]
  },
  {
   "cell_type": "code",
   "execution_count": 87,
   "metadata": {
    "slideshow": {
     "slide_type": "skip"
    }
   },
   "outputs": [],
   "source": [
    "dot_data = tree.export_graphviz(clf, out_file=None, \n",
    "                   feature_names=X.columns,  \n",
    "                   filled=True, rounded=True,  \n",
    "                    special_characters=True)  \n",
    "graph = graphviz.Source(dot_data) "
   ]
  },
  {
   "cell_type": "code",
   "execution_count": 88,
   "metadata": {
    "slideshow": {
     "slide_type": "fragment"
    }
   },
   "outputs": [
    {
     "data": {
      "image/svg+xml": [
       "<?xml version=\"1.0\" encoding=\"UTF-8\" standalone=\"no\"?>\n",
       "<!DOCTYPE svg PUBLIC \"-//W3C//DTD SVG 1.1//EN\"\n",
       " \"http://www.w3.org/Graphics/SVG/1.1/DTD/svg11.dtd\">\n",
       "<!-- Generated by graphviz version 2.43.0 (0)\n",
       " -->\n",
       "<!-- Title: Tree Pages: 1 -->\n",
       "<svg width=\"1211pt\" height=\"373pt\"\n",
       " viewBox=\"0.00 0.00 1211.00 373.00\" xmlns=\"http://www.w3.org/2000/svg\" xmlns:xlink=\"http://www.w3.org/1999/xlink\">\n",
       "<g id=\"graph0\" class=\"graph\" transform=\"scale(1 1) rotate(0) translate(4 369)\">\n",
       "<title>Tree</title>\n",
       "<polygon fill=\"white\" stroke=\"transparent\" points=\"-4,4 -4,-369 1207,-369 1207,4 -4,4\"/>\n",
       "<!-- 0 -->\n",
       "<g id=\"node1\" class=\"node\">\n",
       "<title>0</title>\n",
       "<path fill=\"#8ec7f0\" stroke=\"black\" d=\"M657.5,-365C657.5,-365 509.5,-365 509.5,-365 503.5,-365 497.5,-359 497.5,-353 497.5,-353 497.5,-309 497.5,-309 497.5,-303 503.5,-297 509.5,-297 509.5,-297 657.5,-297 657.5,-297 663.5,-297 669.5,-303 669.5,-309 669.5,-309 669.5,-353 669.5,-353 669.5,-359 663.5,-365 657.5,-365\"/>\n",
       "<text text-anchor=\"start\" x=\"505.5\" y=\"-349.8\" font-family=\"Helvetica,sans-Serif\" font-size=\"14.00\">checking_status ≤ 2.5</text>\n",
       "<text text-anchor=\"start\" x=\"526\" y=\"-334.8\" font-family=\"Helvetica,sans-Serif\" font-size=\"14.00\">entropy = 0.881</text>\n",
       "<text text-anchor=\"start\" x=\"526\" y=\"-319.8\" font-family=\"Helvetica,sans-Serif\" font-size=\"14.00\">samples = 1000</text>\n",
       "<text text-anchor=\"start\" x=\"517\" y=\"-304.8\" font-family=\"Helvetica,sans-Serif\" font-size=\"14.00\">value = [300, 700]</text>\n",
       "</g>\n",
       "<!-- 1 -->\n",
       "<g id=\"node2\" class=\"node\">\n",
       "<title>1</title>\n",
       "<path fill=\"#d6ebfa\" stroke=\"black\" d=\"M550,-261C550,-261 425,-261 425,-261 419,-261 413,-255 413,-249 413,-249 413,-205 413,-205 413,-199 419,-193 425,-193 425,-193 550,-193 550,-193 556,-193 562,-199 562,-205 562,-205 562,-249 562,-249 562,-255 556,-261 550,-261\"/>\n",
       "<text text-anchor=\"start\" x=\"431.5\" y=\"-245.8\" font-family=\"Helvetica,sans-Serif\" font-size=\"14.00\">duration ≤ 22.5</text>\n",
       "<text text-anchor=\"start\" x=\"434.5\" y=\"-230.8\" font-family=\"Helvetica,sans-Serif\" font-size=\"14.00\">entropy = 0.99</text>\n",
       "<text text-anchor=\"start\" x=\"434.5\" y=\"-215.8\" font-family=\"Helvetica,sans-Serif\" font-size=\"14.00\">samples = 543</text>\n",
       "<text text-anchor=\"start\" x=\"421\" y=\"-200.8\" font-family=\"Helvetica,sans-Serif\" font-size=\"14.00\">value = [240, 303]</text>\n",
       "</g>\n",
       "<!-- 0&#45;&gt;1 -->\n",
       "<g id=\"edge1\" class=\"edge\">\n",
       "<title>0&#45;&gt;1</title>\n",
       "<path fill=\"none\" stroke=\"black\" d=\"M552.33,-296.88C543.86,-287.89 534.6,-278.04 525.79,-268.68\"/>\n",
       "<polygon fill=\"black\" stroke=\"black\" points=\"528.24,-266.18 518.84,-261.3 523.15,-270.98 528.24,-266.18\"/>\n",
       "<text text-anchor=\"middle\" x=\"518.08\" y=\"-282.59\" font-family=\"Helvetica,sans-Serif\" font-size=\"14.00\">True</text>\n",
       "</g>\n",
       "<!-- 8 -->\n",
       "<g id=\"node9\" class=\"node\">\n",
       "<title>8</title>\n",
       "<path fill=\"#57ace9\" stroke=\"black\" d=\"M790,-261C790,-261 667,-261 667,-261 661,-261 655,-255 655,-249 655,-249 655,-205 655,-205 655,-199 661,-193 667,-193 667,-193 790,-193 790,-193 796,-193 802,-199 802,-205 802,-205 802,-249 802,-249 802,-255 796,-261 790,-261\"/>\n",
       "<text text-anchor=\"start\" x=\"663\" y=\"-245.8\" font-family=\"Helvetica,sans-Serif\" font-size=\"14.00\">employment ≤ 3.5</text>\n",
       "<text text-anchor=\"start\" x=\"671\" y=\"-230.8\" font-family=\"Helvetica,sans-Serif\" font-size=\"14.00\">entropy = 0.561</text>\n",
       "<text text-anchor=\"start\" x=\"675.5\" y=\"-215.8\" font-family=\"Helvetica,sans-Serif\" font-size=\"14.00\">samples = 457</text>\n",
       "<text text-anchor=\"start\" x=\"666.5\" y=\"-200.8\" font-family=\"Helvetica,sans-Serif\" font-size=\"14.00\">value = [60, 397]</text>\n",
       "</g>\n",
       "<!-- 0&#45;&gt;8 -->\n",
       "<g id=\"edge8\" class=\"edge\">\n",
       "<title>0&#45;&gt;8</title>\n",
       "<path fill=\"none\" stroke=\"black\" d=\"M630.58,-296.88C644,-287.44 658.75,-277.06 672.64,-267.29\"/>\n",
       "<polygon fill=\"black\" stroke=\"black\" points=\"675,-269.92 681.16,-261.3 670.97,-264.19 675,-269.92\"/>\n",
       "<text text-anchor=\"middle\" x=\"676.87\" y=\"-282.23\" font-family=\"Helvetica,sans-Serif\" font-size=\"14.00\">False</text>\n",
       "</g>\n",
       "<!-- 2 -->\n",
       "<g id=\"node3\" class=\"node\">\n",
       "<title>2</title>\n",
       "<path fill=\"#a2d1f3\" stroke=\"black\" d=\"M284.5,-157C284.5,-157 154.5,-157 154.5,-157 148.5,-157 142.5,-151 142.5,-145 142.5,-145 142.5,-101 142.5,-101 142.5,-95 148.5,-89 154.5,-89 154.5,-89 284.5,-89 284.5,-89 290.5,-89 296.5,-95 296.5,-101 296.5,-101 296.5,-145 296.5,-145 296.5,-151 290.5,-157 284.5,-157\"/>\n",
       "<text text-anchor=\"start\" x=\"150.5\" y=\"-141.8\" font-family=\"Helvetica,sans-Serif\" font-size=\"14.00\">credit_history ≤ 1.5</text>\n",
       "<text text-anchor=\"start\" x=\"162\" y=\"-126.8\" font-family=\"Helvetica,sans-Serif\" font-size=\"14.00\">entropy = 0.931</text>\n",
       "<text text-anchor=\"start\" x=\"166.5\" y=\"-111.8\" font-family=\"Helvetica,sans-Serif\" font-size=\"14.00\">samples = 306</text>\n",
       "<text text-anchor=\"start\" x=\"153\" y=\"-96.8\" font-family=\"Helvetica,sans-Serif\" font-size=\"14.00\">value = [106, 200]</text>\n",
       "</g>\n",
       "<!-- 1&#45;&gt;2 -->\n",
       "<g id=\"edge2\" class=\"edge\">\n",
       "<title>1&#45;&gt;2</title>\n",
       "<path fill=\"none\" stroke=\"black\" d=\"M412.85,-197.59C379.72,-184.98 340.53,-170.06 306.12,-156.97\"/>\n",
       "<polygon fill=\"black\" stroke=\"black\" points=\"307.14,-153.61 296.55,-153.33 304.65,-160.15 307.14,-153.61\"/>\n",
       "</g>\n",
       "<!-- 5 -->\n",
       "<g id=\"node6\" class=\"node\">\n",
       "<title>5</title>\n",
       "<path fill=\"#f9e2d1\" stroke=\"black\" d=\"M557,-157C557,-157 418,-157 418,-157 412,-157 406,-151 406,-145 406,-145 406,-101 406,-101 406,-95 412,-89 418,-89 418,-89 557,-89 557,-89 563,-89 569,-95 569,-101 569,-101 569,-145 569,-145 569,-151 563,-157 557,-157\"/>\n",
       "<text text-anchor=\"start\" x=\"414\" y=\"-141.8\" font-family=\"Helvetica,sans-Serif\" font-size=\"14.00\">savings_status ≤ 3.5</text>\n",
       "<text text-anchor=\"start\" x=\"430\" y=\"-126.8\" font-family=\"Helvetica,sans-Serif\" font-size=\"14.00\">entropy = 0.988</text>\n",
       "<text text-anchor=\"start\" x=\"434.5\" y=\"-111.8\" font-family=\"Helvetica,sans-Serif\" font-size=\"14.00\">samples = 237</text>\n",
       "<text text-anchor=\"start\" x=\"421\" y=\"-96.8\" font-family=\"Helvetica,sans-Serif\" font-size=\"14.00\">value = [134, 103]</text>\n",
       "</g>\n",
       "<!-- 1&#45;&gt;5 -->\n",
       "<g id=\"edge5\" class=\"edge\">\n",
       "<title>1&#45;&gt;5</title>\n",
       "<path fill=\"none\" stroke=\"black\" d=\"M487.5,-192.88C487.5,-184.78 487.5,-175.98 487.5,-167.47\"/>\n",
       "<polygon fill=\"black\" stroke=\"black\" points=\"491,-167.3 487.5,-157.3 484,-167.3 491,-167.3\"/>\n",
       "</g>\n",
       "<!-- 3 -->\n",
       "<g id=\"node4\" class=\"node\">\n",
       "<title>3</title>\n",
       "<path fill=\"#eeab7b\" stroke=\"black\" d=\"M119,-53C119,-53 12,-53 12,-53 6,-53 0,-47 0,-41 0,-41 0,-12 0,-12 0,-6 6,0 12,0 12,0 119,0 119,0 125,0 131,-6 131,-12 131,-12 131,-41 131,-41 131,-47 125,-53 119,-53\"/>\n",
       "<text text-anchor=\"start\" x=\"8\" y=\"-37.8\" font-family=\"Helvetica,sans-Serif\" font-size=\"14.00\">entropy = 0.811</text>\n",
       "<text text-anchor=\"start\" x=\"17\" y=\"-22.8\" font-family=\"Helvetica,sans-Serif\" font-size=\"14.00\">samples = 28</text>\n",
       "<text text-anchor=\"start\" x=\"12.5\" y=\"-7.8\" font-family=\"Helvetica,sans-Serif\" font-size=\"14.00\">value = [21, 7]</text>\n",
       "</g>\n",
       "<!-- 2&#45;&gt;3 -->\n",
       "<g id=\"edge3\" class=\"edge\">\n",
       "<title>2&#45;&gt;3</title>\n",
       "<path fill=\"none\" stroke=\"black\" d=\"M165.64,-88.95C149.54,-79.07 131.95,-68.28 116.07,-58.53\"/>\n",
       "<polygon fill=\"black\" stroke=\"black\" points=\"117.8,-55.48 107.44,-53.24 114.13,-61.45 117.8,-55.48\"/>\n",
       "</g>\n",
       "<!-- 4 -->\n",
       "<g id=\"node5\" class=\"node\">\n",
       "<title>4</title>\n",
       "<path fill=\"#90c8f0\" stroke=\"black\" d=\"M277.5,-53C277.5,-53 161.5,-53 161.5,-53 155.5,-53 149.5,-47 149.5,-41 149.5,-41 149.5,-12 149.5,-12 149.5,-6 155.5,0 161.5,0 161.5,0 277.5,0 277.5,0 283.5,0 289.5,-6 289.5,-12 289.5,-12 289.5,-41 289.5,-41 289.5,-47 283.5,-53 277.5,-53\"/>\n",
       "<text text-anchor=\"start\" x=\"162\" y=\"-37.8\" font-family=\"Helvetica,sans-Serif\" font-size=\"14.00\">entropy = 0.888</text>\n",
       "<text text-anchor=\"start\" x=\"166.5\" y=\"-22.8\" font-family=\"Helvetica,sans-Serif\" font-size=\"14.00\">samples = 278</text>\n",
       "<text text-anchor=\"start\" x=\"157.5\" y=\"-7.8\" font-family=\"Helvetica,sans-Serif\" font-size=\"14.00\">value = [85, 193]</text>\n",
       "</g>\n",
       "<!-- 2&#45;&gt;4 -->\n",
       "<g id=\"edge4\" class=\"edge\">\n",
       "<title>2&#45;&gt;4</title>\n",
       "<path fill=\"none\" stroke=\"black\" d=\"M219.5,-88.95C219.5,-80.72 219.5,-71.85 219.5,-63.48\"/>\n",
       "<polygon fill=\"black\" stroke=\"black\" points=\"223,-63.24 219.5,-53.24 216,-63.24 223,-63.24\"/>\n",
       "</g>\n",
       "<!-- 6 -->\n",
       "<g id=\"node7\" class=\"node\">\n",
       "<title>6</title>\n",
       "<path fill=\"#f5cdb1\" stroke=\"black\" d=\"M435.5,-53C435.5,-53 319.5,-53 319.5,-53 313.5,-53 307.5,-47 307.5,-41 307.5,-41 307.5,-12 307.5,-12 307.5,-6 313.5,0 319.5,0 319.5,0 435.5,0 435.5,0 441.5,0 447.5,-6 447.5,-12 447.5,-12 447.5,-41 447.5,-41 447.5,-47 441.5,-53 435.5,-53\"/>\n",
       "<text text-anchor=\"start\" x=\"320\" y=\"-37.8\" font-family=\"Helvetica,sans-Serif\" font-size=\"14.00\">entropy = 0.956</text>\n",
       "<text text-anchor=\"start\" x=\"324.5\" y=\"-22.8\" font-family=\"Helvetica,sans-Serif\" font-size=\"14.00\">samples = 196</text>\n",
       "<text text-anchor=\"start\" x=\"315.5\" y=\"-7.8\" font-family=\"Helvetica,sans-Serif\" font-size=\"14.00\">value = [122, 74]</text>\n",
       "</g>\n",
       "<!-- 5&#45;&gt;6 -->\n",
       "<g id=\"edge6\" class=\"edge\">\n",
       "<title>5&#45;&gt;6</title>\n",
       "<path fill=\"none\" stroke=\"black\" d=\"M449.03,-88.95C438.06,-79.53 426.12,-69.27 415.2,-59.89\"/>\n",
       "<polygon fill=\"black\" stroke=\"black\" points=\"417.32,-57.1 407.46,-53.24 412.76,-62.41 417.32,-57.1\"/>\n",
       "</g>\n",
       "<!-- 7 -->\n",
       "<g id=\"node8\" class=\"node\">\n",
       "<title>7</title>\n",
       "<path fill=\"#8bc6f0\" stroke=\"black\" d=\"M585,-53C585,-53 478,-53 478,-53 472,-53 466,-47 466,-41 466,-41 466,-12 466,-12 466,-6 472,0 478,0 478,0 585,0 585,0 591,0 597,-6 597,-12 597,-12 597,-41 597,-41 597,-47 591,-53 585,-53\"/>\n",
       "<text text-anchor=\"start\" x=\"474\" y=\"-37.8\" font-family=\"Helvetica,sans-Serif\" font-size=\"14.00\">entropy = 0.872</text>\n",
       "<text text-anchor=\"start\" x=\"483\" y=\"-22.8\" font-family=\"Helvetica,sans-Serif\" font-size=\"14.00\">samples = 41</text>\n",
       "<text text-anchor=\"start\" x=\"474\" y=\"-7.8\" font-family=\"Helvetica,sans-Serif\" font-size=\"14.00\">value = [12, 29]</text>\n",
       "</g>\n",
       "<!-- 5&#45;&gt;7 -->\n",
       "<g id=\"edge7\" class=\"edge\">\n",
       "<title>5&#45;&gt;7</title>\n",
       "<path fill=\"none\" stroke=\"black\" d=\"M502.89,-88.95C506.89,-80.35 511.22,-71.06 515.26,-62.37\"/>\n",
       "<polygon fill=\"black\" stroke=\"black\" points=\"518.47,-63.78 519.52,-53.24 512.12,-60.82 518.47,-63.78\"/>\n",
       "</g>\n",
       "<!-- 9 -->\n",
       "<g id=\"node10\" class=\"node\">\n",
       "<title>9</title>\n",
       "<path fill=\"#65b3eb\" stroke=\"black\" d=\"M809.5,-157C809.5,-157 647.5,-157 647.5,-157 641.5,-157 635.5,-151 635.5,-145 635.5,-145 635.5,-101 635.5,-101 635.5,-95 641.5,-89 647.5,-89 647.5,-89 809.5,-89 809.5,-89 815.5,-89 821.5,-95 821.5,-101 821.5,-101 821.5,-145 821.5,-145 821.5,-151 815.5,-157 809.5,-157\"/>\n",
       "<text text-anchor=\"start\" x=\"643.5\" y=\"-141.8\" font-family=\"Helvetica,sans-Serif\" font-size=\"14.00\">credit_amount ≤ 4158.0</text>\n",
       "<text text-anchor=\"start\" x=\"671\" y=\"-126.8\" font-family=\"Helvetica,sans-Serif\" font-size=\"14.00\">entropy = 0.682</text>\n",
       "<text text-anchor=\"start\" x=\"675.5\" y=\"-111.8\" font-family=\"Helvetica,sans-Serif\" font-size=\"14.00\">samples = 243</text>\n",
       "<text text-anchor=\"start\" x=\"666.5\" y=\"-96.8\" font-family=\"Helvetica,sans-Serif\" font-size=\"14.00\">value = [44, 199]</text>\n",
       "</g>\n",
       "<!-- 8&#45;&gt;9 -->\n",
       "<g id=\"edge9\" class=\"edge\">\n",
       "<title>8&#45;&gt;9</title>\n",
       "<path fill=\"none\" stroke=\"black\" d=\"M728.5,-192.88C728.5,-184.78 728.5,-175.98 728.5,-167.47\"/>\n",
       "<polygon fill=\"black\" stroke=\"black\" points=\"732,-167.3 728.5,-157.3 725,-167.3 732,-167.3\"/>\n",
       "</g>\n",
       "<!-- 12 -->\n",
       "<g id=\"node13\" class=\"node\">\n",
       "<title>12</title>\n",
       "<path fill=\"#49a5e7\" stroke=\"black\" d=\"M1067,-157C1067,-157 910,-157 910,-157 904,-157 898,-151 898,-145 898,-145 898,-101 898,-101 898,-95 904,-89 910,-89 910,-89 1067,-89 1067,-89 1073,-89 1079,-95 1079,-101 1079,-101 1079,-145 1079,-145 1079,-151 1073,-157 1067,-157\"/>\n",
       "<text text-anchor=\"start\" x=\"906\" y=\"-141.8\" font-family=\"Helvetica,sans-Serif\" font-size=\"14.00\">num_dependents ≤ 1.5</text>\n",
       "<text text-anchor=\"start\" x=\"931\" y=\"-126.8\" font-family=\"Helvetica,sans-Serif\" font-size=\"14.00\">entropy = 0.383</text>\n",
       "<text text-anchor=\"start\" x=\"935.5\" y=\"-111.8\" font-family=\"Helvetica,sans-Serif\" font-size=\"14.00\">samples = 214</text>\n",
       "<text text-anchor=\"start\" x=\"926.5\" y=\"-96.8\" font-family=\"Helvetica,sans-Serif\" font-size=\"14.00\">value = [16, 198]</text>\n",
       "</g>\n",
       "<!-- 8&#45;&gt;12 -->\n",
       "<g id=\"edge12\" class=\"edge\">\n",
       "<title>8&#45;&gt;12</title>\n",
       "<path fill=\"none\" stroke=\"black\" d=\"M802.31,-197.04C831.02,-185.78 864.25,-172.74 894.63,-160.83\"/>\n",
       "<polygon fill=\"black\" stroke=\"black\" points=\"895.93,-164.08 903.96,-157.17 893.37,-157.56 895.93,-164.08\"/>\n",
       "</g>\n",
       "<!-- 10 -->\n",
       "<g id=\"node11\" class=\"node\">\n",
       "<title>10</title>\n",
       "<path fill=\"#56abe9\" stroke=\"black\" d=\"M743.5,-53C743.5,-53 627.5,-53 627.5,-53 621.5,-53 615.5,-47 615.5,-41 615.5,-41 615.5,-12 615.5,-12 615.5,-6 621.5,0 627.5,0 627.5,0 743.5,0 743.5,0 749.5,0 755.5,-6 755.5,-12 755.5,-12 755.5,-41 755.5,-41 755.5,-47 749.5,-53 743.5,-53\"/>\n",
       "<text text-anchor=\"start\" x=\"628\" y=\"-37.8\" font-family=\"Helvetica,sans-Serif\" font-size=\"14.00\">entropy = 0.552</text>\n",
       "<text text-anchor=\"start\" x=\"632.5\" y=\"-22.8\" font-family=\"Helvetica,sans-Serif\" font-size=\"14.00\">samples = 195</text>\n",
       "<text text-anchor=\"start\" x=\"623.5\" y=\"-7.8\" font-family=\"Helvetica,sans-Serif\" font-size=\"14.00\">value = [25, 170]</text>\n",
       "</g>\n",
       "<!-- 9&#45;&gt;10 -->\n",
       "<g id=\"edge10\" class=\"edge\">\n",
       "<title>9&#45;&gt;10</title>\n",
       "<path fill=\"none\" stroke=\"black\" d=\"M713.46,-88.95C709.55,-80.35 705.32,-71.06 701.37,-62.37\"/>\n",
       "<polygon fill=\"black\" stroke=\"black\" points=\"704.54,-60.89 697.21,-53.24 698.17,-63.79 704.54,-60.89\"/>\n",
       "</g>\n",
       "<!-- 11 -->\n",
       "<g id=\"node12\" class=\"node\">\n",
       "<title>11</title>\n",
       "<path fill=\"#bbddf6\" stroke=\"black\" d=\"M893,-53C893,-53 786,-53 786,-53 780,-53 774,-47 774,-41 774,-41 774,-12 774,-12 774,-6 780,0 786,0 786,0 893,0 893,0 899,0 905,-6 905,-12 905,-12 905,-41 905,-41 905,-47 899,-53 893,-53\"/>\n",
       "<text text-anchor=\"start\" x=\"782\" y=\"-37.8\" font-family=\"Helvetica,sans-Serif\" font-size=\"14.00\">entropy = 0.968</text>\n",
       "<text text-anchor=\"start\" x=\"791\" y=\"-22.8\" font-family=\"Helvetica,sans-Serif\" font-size=\"14.00\">samples = 48</text>\n",
       "<text text-anchor=\"start\" x=\"782\" y=\"-7.8\" font-family=\"Helvetica,sans-Serif\" font-size=\"14.00\">value = [19, 29]</text>\n",
       "</g>\n",
       "<!-- 9&#45;&gt;11 -->\n",
       "<g id=\"edge11\" class=\"edge\">\n",
       "<title>9&#45;&gt;11</title>\n",
       "<path fill=\"none\" stroke=\"black\" d=\"M767.32,-88.95C778.39,-79.53 790.43,-69.27 801.45,-59.89\"/>\n",
       "<polygon fill=\"black\" stroke=\"black\" points=\"803.92,-62.38 809.27,-53.24 799.39,-57.05 803.92,-62.38\"/>\n",
       "</g>\n",
       "<!-- 13 -->\n",
       "<g id=\"node14\" class=\"node\">\n",
       "<title>13</title>\n",
       "<path fill=\"#68b4eb\" stroke=\"black\" d=\"M1042,-53C1042,-53 935,-53 935,-53 929,-53 923,-47 923,-41 923,-41 923,-12 923,-12 923,-6 929,0 935,0 935,0 1042,0 1042,0 1048,0 1054,-6 1054,-12 1054,-12 1054,-41 1054,-41 1054,-47 1048,-53 1042,-53\"/>\n",
       "<text text-anchor=\"start\" x=\"931\" y=\"-37.8\" font-family=\"Helvetica,sans-Serif\" font-size=\"14.00\">entropy = 0.702</text>\n",
       "<text text-anchor=\"start\" x=\"940\" y=\"-22.8\" font-family=\"Helvetica,sans-Serif\" font-size=\"14.00\">samples = 42</text>\n",
       "<text text-anchor=\"start\" x=\"935.5\" y=\"-7.8\" font-family=\"Helvetica,sans-Serif\" font-size=\"14.00\">value = [8, 34]</text>\n",
       "</g>\n",
       "<!-- 12&#45;&gt;13 -->\n",
       "<g id=\"edge13\" class=\"edge\">\n",
       "<title>12&#45;&gt;13</title>\n",
       "<path fill=\"none\" stroke=\"black\" d=\"M988.5,-88.95C988.5,-80.72 988.5,-71.85 988.5,-63.48\"/>\n",
       "<polygon fill=\"black\" stroke=\"black\" points=\"992,-63.24 988.5,-53.24 985,-63.24 992,-63.24\"/>\n",
       "</g>\n",
       "<!-- 14 -->\n",
       "<g id=\"node15\" class=\"node\">\n",
       "<title>14</title>\n",
       "<path fill=\"#43a2e6\" stroke=\"black\" d=\"M1191,-53C1191,-53 1084,-53 1084,-53 1078,-53 1072,-47 1072,-41 1072,-41 1072,-12 1072,-12 1072,-6 1078,0 1084,0 1084,0 1191,0 1191,0 1197,0 1203,-6 1203,-12 1203,-12 1203,-41 1203,-41 1203,-47 1197,-53 1191,-53\"/>\n",
       "<text text-anchor=\"start\" x=\"1080\" y=\"-37.8\" font-family=\"Helvetica,sans-Serif\" font-size=\"14.00\">entropy = 0.271</text>\n",
       "<text text-anchor=\"start\" x=\"1084.5\" y=\"-22.8\" font-family=\"Helvetica,sans-Serif\" font-size=\"14.00\">samples = 172</text>\n",
       "<text text-anchor=\"start\" x=\"1080\" y=\"-7.8\" font-family=\"Helvetica,sans-Serif\" font-size=\"14.00\">value = [8, 164]</text>\n",
       "</g>\n",
       "<!-- 12&#45;&gt;14 -->\n",
       "<g id=\"edge14\" class=\"edge\">\n",
       "<title>12&#45;&gt;14</title>\n",
       "<path fill=\"none\" stroke=\"black\" d=\"M1040.61,-88.95C1056.05,-79.16 1072.89,-68.48 1088.15,-58.8\"/>\n",
       "<polygon fill=\"black\" stroke=\"black\" points=\"1090.35,-61.55 1096.92,-53.24 1086.6,-55.64 1090.35,-61.55\"/>\n",
       "</g>\n",
       "</g>\n",
       "</svg>\n"
      ],
      "text/plain": [
       "<graphviz.sources.Source at 0x7f02f6c28b80>"
      ]
     },
     "execution_count": 88,
     "metadata": {},
     "output_type": "execute_result"
    }
   ],
   "source": [
    "graph"
   ]
  },
  {
   "cell_type": "markdown",
   "metadata": {
    "cell_style": "center",
    "slideshow": {
     "slide_type": "slide"
    }
   },
   "source": [
    "### Build full tree"
   ]
  },
  {
   "cell_type": "code",
   "execution_count": 94,
   "metadata": {
    "slideshow": {
     "slide_type": "fragment"
    }
   },
   "outputs": [],
   "source": [
    "full = tree.DecisionTreeClassifier(criterion=\"entropy\")\n",
    "full = full.fit(X, y)\n",
    "tree_importances = pd.Series(full.feature_importances_, index=X.columns)"
   ]
  },
  {
   "cell_type": "code",
   "execution_count": 111,
   "metadata": {
    "cell_style": "split",
    "slideshow": {
     "slide_type": "fragment"
    }
   },
   "outputs": [
    {
     "data": {
      "image/png": "[encoded data removed]",
      "text/plain": [
       "<Figure size 640x480 with 1 Axes>"
      ]
     },
     "metadata": {},
     "output_type": "display_data"
    }
   ],
   "source": [
    "# Decision Tree Feature Importance\n",
    "fig, ax = plt.subplots()\n",
    "tree_importances.plot.bar(y=tree_importances, ax=ax)\n",
    "ax.set_title(\"Decision Tree Feature Importance\")\n",
    "ax.set_ylabel(\"Entropy\")\n",
    "fig.tight_layout()"
   ]
  },
  {
   "cell_type": "markdown",
   "metadata": {
    "cell_style": "split",
    "slideshow": {
     "slide_type": "fragment"
    }
   },
   "source": [
    "#### Baseline"
   ]
  },
  {
   "cell_type": "code",
   "execution_count": 125,
   "metadata": {
    "cell_style": "split",
    "scrolled": true,
    "slideshow": {
     "slide_type": "fragment"
    }
   },
   "outputs": [
    {
     "name": "stdout",
     "output_type": "stream",
     "text": [
      "Embedded --> AUC score with full dataset: 59.86%\n",
      "CPU times: user 13.3 ms, sys: 476 µs, total: 13.8 ms\n",
      "Wall time: 12.7 ms\n"
     ]
    }
   ],
   "source": [
    "%%time\n",
    "baseline = cross_val_score(estimator=full,X=X, y=y,\n",
    "                scoring=\"roc_auc\", cv=2).mean()\n",
    "\n",
    "\n",
    "print('Embedded --> AUC score with full dataset: %.2f%%' %(baseline*100))"
   ]
  },
  {
   "cell_type": "markdown",
   "metadata": {
    "slideshow": {
     "slide_type": "slide"
    }
   },
   "source": [
    "### DT Embedded Top - 9 "
   ]
  },
  {
   "cell_type": "code",
   "execution_count": 139,
   "metadata": {
    "slideshow": {
     "slide_type": "fragment"
    }
   },
   "outputs": [
    {
     "name": "stdout",
     "output_type": "stream",
     "text": [
      "Embedded --> AUC score with top 9 features 59.86%\n",
      "CPU times: user 37.9 ms, sys: 2.08 ms, total: 40 ms\n",
      "Wall time: 37 ms\n"
     ]
    }
   ],
   "source": [
    "%%time\n",
    "top_9 = ['credit_amount', 'age','checking_status', 'duration', 'purpose',\n",
    "         'employment', 'credit_history','residence_since', 'job']\n",
    "auc = cross_val_score(estimator=full,X=X.loc[:,top_9], y=y,\n",
    "                scoring=\"roc_auc\", cv=2).mean()\n",
    "\n",
    "\n",
    "print('Embedded --> AUC score with top 9 features %.2f%%' %(baseline*100))"
   ]
  },
  {
   "cell_type": "code",
   "execution_count": 98,
   "metadata": {
    "slideshow": {
     "slide_type": "skip"
    }
   },
   "outputs": [
    {
     "data": {
      "text/plain": [
       "[('credit_amount', 0.16245323776661666),\n",
       " ('age', 0.11760606167786071),\n",
       " ('checking_status', 0.11414817380707558),\n",
       " ('duration', 0.08947210130432658),\n",
       " ('purpose', 0.0813063907715459),\n",
       " ('employment', 0.06827072290546635),\n",
       " ('credit_history', 0.04988349417445531),\n",
       " ('residence_since', 0.047170717926151996),\n",
       " ('job', 0.03737724347415575),\n",
       " ('property_magnitude', 0.035916783231973004),\n",
       " ('savings_status', 0.030421743991744372),\n",
       " ('existing_credits', 0.028406246069433427),\n",
       " ('other_payment_plans', 0.027488354115250628),\n",
       " ('installment_commitment', 0.024723065507404236),\n",
       " ('other_parties', 0.02051975789311336),\n",
       " ('own_telephone', 0.019998469473311676),\n",
       " ('num_dependents', 0.01748168040978599),\n",
       " ('housing', 0.016912814893652685),\n",
       " ('personal_status', 0.010442940606675893),\n",
       " ('foreign_worker', 0.0)]"
      ]
     },
     "execution_count": 98,
     "metadata": {},
     "output_type": "execute_result"
    }
   ],
   "source": [
    "# The higher the score value, the more relevant the feature is.\n",
    "sorted(zip(X.columns, full.feature_importances_),key=lambda x: x[1], reverse=True)"
   ]
  },
  {
   "cell_type": "code",
   "execution_count": 123,
   "metadata": {
    "slideshow": {
     "slide_type": "skip"
    }
   },
   "outputs": [
    {
     "name": "stdout",
     "output_type": "stream",
     "text": [
      "Embedded --> AUC score with top 9 features: 60.98%\n",
      "CPU times: user 12.7 ms, sys: 5.89 ms, total: 18.6 ms\n",
      "Wall time: 17 ms\n"
     ]
    }
   ],
   "source": [
    "%%time\n",
    "# Tree \n",
    "top_9 = ['checking_status','duration','credit_amount', 'credit_history',\n",
    "         'savings_status','age','property_magnitude', 'purpose','installment_commitment'] \n",
    "auc = cross_val_score(estimator=full,X=X.loc[:,top_9], y=y,\n",
    "                scoring=\"roc_auc\", cv=2).mean()\n",
    "\n",
    "print('Embedded --> AUC score with top 9 features: %.2f%%' %(auc*100))"
   ]
  },
  {
   "cell_type": "markdown",
   "metadata": {
    "slideshow": {
     "slide_type": "fragment"
    }
   },
   "source": [
    "### Applied to NB"
   ]
  },
  {
   "cell_type": "code",
   "execution_count": 131,
   "metadata": {
    "slideshow": {
     "slide_type": "fragment"
    }
   },
   "outputs": [
    {
     "name": "stdout",
     "output_type": "stream",
     "text": [
      "Embedded --> AUC score with top 9 features: 75.87%\n",
      "CPU times: user 31.1 ms, sys: 2.52 ms, total: 33.6 ms\n",
      "Wall time: 30.4 ms\n"
     ]
    }
   ],
   "source": [
    "%%time\n",
    "top_9 = ['credit_amount', 'age','checking_status', 'duration', 'purpose',\n",
    "         'employment', 'credit_history','residence_since', 'job'] \n",
    "auc = cross_val_score(estimator=nb,X=X.loc[:,top_9], y=y,\n",
    "                scoring=\"roc_auc\", cv=2).mean()\n",
    "\n",
    "print('Embedded --> AUC score with top 9 features: %.2f%%' %(auc*100))"
   ]
  },
  {
   "cell_type": "markdown",
   "metadata": {
    "slideshow": {
     "slide_type": "slide"
    }
   },
   "source": [
    "## Hybrid methods\n",
    "Combine multiple classes of feature selection to find the most relevant features from a dataset."
   ]
  },
  {
   "cell_type": "markdown",
   "metadata": {
    "cell_style": "split",
    "slideshow": {
     "slide_type": "fragment"
    }
   },
   "source": [
    "<img src=\"./images/hybrid.png\" align=\"center\" alt=\"embedded\" width=\"450\" height=\"300\" >"
   ]
  },
  {
   "cell_type": "markdown",
   "metadata": {
    "cell_style": "split",
    "slideshow": {
     "slide_type": "fragment"
    }
   },
   "source": [
    "- Leverages the complementary strenghts of the FS classes.\n",
    "- Mitigate limitations of FS classes.\n",
    "- Examples: Gini + Decision Tree"
   ]
  },
  {
   "cell_type": "markdown",
   "metadata": {
    "cell_style": "center",
    "slideshow": {
     "slide_type": "slide"
    }
   },
   "source": [
    "#### Hybrid Examples\n",
    "- Filter + Embedded\n",
    "- Wrapper + Embedded"
   ]
  },
  {
   "cell_type": "code",
   "execution_count": 136,
   "metadata": {
    "slideshow": {
     "slide_type": "fragment"
    }
   },
   "outputs": [
    {
     "name": "stdout",
     "output_type": "stream",
     "text": [
      "Hybrid(Gini + DT) --> AUC score with top 9 features: 64.57%\n",
      "CPU times: user 46.6 ms, sys: 0 ns, total: 46.6 ms\n",
      "Wall time: 45.1 ms\n"
     ]
    }
   ],
   "source": [
    "%%time\n",
    "Gini_top_9 = ['checking_status','credit_history','savings_status', 'duration','credit_amount', \n",
    "'age','property_magnitude', 'employment', 'other_payment_plans']\n",
    "auc = cross_val_score(estimator=full,X=X.loc[:,Gini_top_9], y=y,\n",
    "                scoring=\"roc_auc\", cv=2).mean()\n",
    "print('Hybrid(Gini + DT) --> AUC score with top 9 features: %.2f%%' %(auc*100))"
   ]
  },
  {
   "cell_type": "code",
   "execution_count": 137,
   "metadata": {
    "slideshow": {
     "slide_type": "fragment"
    }
   },
   "outputs": [
    {
     "name": "stdout",
     "output_type": "stream",
     "text": [
      "Hybrid(Wrapper-AUC + DT) --> AUC score with top 9 features: 63.37%\n",
      "CPU times: user 942 ms, sys: 0 ns, total: 942 ms\n",
      "Wall time: 940 ms\n"
     ]
    }
   ],
   "source": [
    "%%time\n",
    "sfs1 = SFS(full, \n",
    "           k_features=9, \n",
    "           forward=True, \n",
    "           scoring='roc_auc',\n",
    "           cv=2)\n",
    "\n",
    "sfs1 = sfs1.fit(X, y)\n",
    "print('Hybrid(Wrapper-AUC + DT) --> AUC score with top 9 features: %.2f%%' % (sfs1.k_score_*100))"
   ]
  },
  {
   "cell_type": "markdown",
   "metadata": {
    "slideshow": {
     "slide_type": "skip"
    }
   },
   "source": [
    "## No feature selection?\n",
    "<center>   \n",
    "<img src=\"./images/person.png\" alt=\"transition\" width=\"450\" height=\"250\">\n",
    "</center>"
   ]
  },
  {
   "cell_type": "code",
   "execution_count": 46,
   "metadata": {
    "slideshow": {
     "slide_type": "skip"
    }
   },
   "outputs": [
    {
     "name": "stdout",
     "output_type": "stream",
     "text": [
      "AUC score with full dataset: 0.7361\n",
      "CPU times: user 143 ms, sys: 3.94 ms, total: 147 ms\n",
      "Wall time: 146 ms\n"
     ]
    }
   ],
   "source": [
    "%%time\n",
    "baseline = cross_val_score(estimator=tree,X=X, y=y,\n",
    "                scoring=\"roc_auc\", cv=2).mean()\n",
    "\n",
    "\n",
    "print('AUC score with full dataset: %.4f' %baseline)"
   ]
  },
  {
   "cell_type": "markdown",
   "metadata": {
    "cell_style": "split",
    "slideshow": {
     "slide_type": "slide"
    }
   },
   "source": [
    "- NB Classifier\n",
    "|Measure |Baseline| Filter  | Wrapper    | Embedded  \n",
    "|---:|:-------------|:-------------|:-----------|:------|\n",
    "| AUC| 72.21%|76.54% |    77.68%    |  75.87%  | \n",
    "| Size|    20    |    9    |    9    |   9 | \n",
    "| TIme|43.8 ms |34.5 ms |    865 ms   |   30.4 ms| "
   ]
  },
  {
   "cell_type": "markdown",
   "metadata": {
    "cell_style": "split",
    "slideshow": {
     "slide_type": "fragment"
    }
   },
   "source": [
    "- DT Classifier\n",
    "|Measure |Baseline| Filter-H  | Wrapper-H    | Embedded  \n",
    "|---:|:-------------|:-------------|:-----------|:------|\n",
    "| AUC| 59.86%|64.57% |    63.37%   |  59.86%  | \n",
    "| Size|    19    |    9    |    9    |   9 | \n",
    "| TIme|12.7 ms |45.1 ms |    940 ms    |   37 ms| "
   ]
  },
  {
   "cell_type": "markdown",
   "metadata": {
    "cell_style": "center",
    "slideshow": {
     "slide_type": "fragment"
    }
   },
   "source": [
    "## Summary\n",
    "- Wrapper methods are the least computationally efficent.\n",
    "- Filter methods can also be beneficial for embedded models.\n",
    "- Feature selection does not always improve performance."
   ]
  },
  {
   "cell_type": "markdown",
   "metadata": {
    "slideshow": {
     "slide_type": "slide"
    }
   },
   "source": [
    "**Content:**\n",
    "1. Introduction to Feature Selection (FS)\n",
    "2. Search strategies\n",
    "3. FS classes\n",
    "4. Evaluation metrics\n",
    "    - Mono-objective FS\n",
    "    - Multi-objective FS\n",
    "    - Many-objective FS\n",
    "5. Open challenges\n",
    "6. Conclusion"
   ]
  },
  {
   "cell_type": "markdown",
   "metadata": {
    "cell_style": "split",
    "slideshow": {
     "slide_type": "slide"
    }
   },
   "source": [
    "#### Evaluation metrics\n",
    "- Predictive Performance\n",
    "    - Accuracy\n",
    "    - Precision\n",
    "    - Recall\n",
    "    - Specificity\n",
    "    - F1 score\n",
    "    - ROC AUC"
   ]
  },
  {
   "cell_type": "markdown",
   "metadata": {
    "cell_style": "split",
    "slideshow": {
     "slide_type": "fragment"
    }
   },
   "source": [
    "- Model fairness\n",
    "    - Statistical Parity\n",
    "    - Equalized odds"
   ]
  },
  {
   "cell_type": "markdown",
   "metadata": {
    "cell_style": "split",
    "slideshow": {
     "slide_type": "fragment"
    }
   },
   "source": [
    "- Model understanding\n",
    "    - Number of features"
   ]
  },
  {
   "cell_type": "markdown",
   "metadata": {
    "cell_style": "split",
    "slideshow": {
     "slide_type": "fragment"
    }
   },
   "source": [
    "- Feature redundancy\n",
    "    - Correlation measures\n",
    "    - Variance inflation factor"
   ]
  },
  {
   "cell_type": "code",
   "execution_count": 66,
   "metadata": {
    "slideshow": {
     "slide_type": "skip"
    }
   },
   "outputs": [],
   "source": [
    "\n",
    "# Define the URL for the iframe\n",
    "url = \"https://wall.sli.do/event/73ty2hUXdRrxzig7PtxJ3s?section=52ab903f-d0a7-419c-888e-bce22d55cafd\"\n",
    "# Create the IFrame\n",
    "iframe = IFrame(url, width=600, height=800)\n",
    "# Define HTML/CSS to center the iframe\n",
    "slido3 = \"\"\"\n",
    "<div style=\"display: flex; justify-content: center;\">\n",
    "    {}\n",
    "</div>\n",
    "\"\"\".format(iframe._repr_html_())"
   ]
  },
  {
   "cell_type": "markdown",
   "metadata": {
    "cell_style": "split",
    "slideshow": {
     "slide_type": "slide"
    }
   },
   "source": [
    "# Join at slido.com #3297 347\n",
    "<br></br>\n",
    "<center>   \n",
    "<img src=\"./images/slido3.png\" alt=\"transition\" width=\"450\" height=\"250\">\n",
    "</center>"
   ]
  },
  {
   "cell_type": "code",
   "execution_count": 67,
   "metadata": {
    "cell_style": "split",
    "slideshow": {
     "slide_type": "fragment"
    }
   },
   "outputs": [
    {
     "data": {
      "text/html": [
       "\n",
       "<div style=\"display: flex; justify-content: center;\">\n",
       "    \n",
       "        <iframe\n",
       "            width=\"600\"\n",
       "            height=\"800\"\n",
       "            src=\"https://wall.sli.do/event/73ty2hUXdRrxzig7PtxJ3s?section=52ab903f-d0a7-419c-888e-bce22d55cafd\"\n",
       "            frameborder=\"0\"\n",
       "            allowfullscreen\n",
       "            \n",
       "        ></iframe>\n",
       "        \n",
       "</div>\n"
      ],
      "text/plain": [
       "<IPython.core.display.HTML object>"
      ]
     },
     "metadata": {},
     "output_type": "display_data"
    }
   ],
   "source": [
    "# Display the centered iframe\n",
    "display(HTML(slido3))"
   ]
  },
  {
   "cell_type": "markdown",
   "metadata": {
    "slideshow": {
     "slide_type": "slide"
    }
   },
   "source": [
    "## Mono-objective\n",
    "<center>\n",
    "<img src=\"./images/mono.png\" align=\"right\" alt=\"mono\" width=\"532\" height=\"284\">\n",
    "</center>\n",
    "\n",
    "\n",
    "1. One solution\n",
    "2. Least complexity\n",
    "3. Most commonly used\n",
    "\n",
    "\n",
    "E.g: Predictive performance, filter measures"
   ]
  },
  {
   "cell_type": "markdown",
   "metadata": {
    "slideshow": {
     "slide_type": "fragment"
    }
   },
   "source": [
    "### All examples seen so far are mono-objective FS"
   ]
  },
  {
   "cell_type": "code",
   "execution_count": 148,
   "metadata": {
    "slideshow": {
     "slide_type": "skip"
    }
   },
   "outputs": [],
   "source": [
    "class credit(BinaryProblem):\n",
    "    \n",
    "    def __init__(self, pred: pd.DataFrame, target: pd.Series, classifier, n_var:int=20):\n",
    "        super(credit, self).__init__()\n",
    "        self.pred = pred\n",
    "        self.target = target\n",
    "        self.classifier = classifier\n",
    "        self.n_var = n_var\n",
    "        self.obj_labels = [\"auc\"]\n",
    "        \n",
    "    def number_of_variables(self) -> int:\n",
    "        return 1\n",
    "    def number_of_objectives(self) -> int:\n",
    "        return 1\n",
    "    def number_of_constraints(self) -> int:\n",
    "        return 1\n",
    "        \n",
    "    def evaluate(self, solution: BinarySolution) -> BinarySolution:\n",
    "        \n",
    "        # check constraint and if violated generate a new solution\n",
    "        self.__evaluate_constraints(solution)\n",
    "        if solution.constraints[0] == 0:\n",
    "            check = random.randrange(self.n_var)\n",
    "            solution.variables[0] = [True if _ == check else False for _ in range(self.n_var)]\n",
    "       \n",
    "        auc = cross_val_score(estimator=self.classifier, \n",
    "                                   X=self.pred.iloc[:,solution.variables[0]], y=self.target,\n",
    "                                   scoring=\"roc_auc\", cv=2).mean()\n",
    "        solution.objectives[0] = auc * -1.0\n",
    "        return solution\n",
    "        \n",
    "    def __evaluate_constraints(self, solution: BinarySolution) -> None:\n",
    "        solution.constraints = [0 for _ in range(self.number_of_constraints())]\n",
    "        if sum(solution.variables[0]) == 0:\n",
    "            solution.constraints[0] = 0\n",
    "        else:\n",
    "            solution.constraints[0] = 1\n",
    "        \n",
    "    def create_solution(self) -> BinarySolution:\n",
    "        new_solution = BinarySolution(number_of_variables=self.number_of_variables(),\n",
    "                                      number_of_objectives=self.number_of_objectives())\n",
    "        new_solution.variables[0] =  [True if random.randint(0, 1) == 1 else \n",
    "                                      False for _ in range(self.n_var)]\n",
    "        return new_solution\n",
    "    \n",
    "    def name(self) -> str:\n",
    "        return 'Credit'\n",
    "logging.disable()"
   ]
  },
  {
   "cell_type": "markdown",
   "metadata": {
    "slideshow": {
     "slide_type": "slide"
    }
   },
   "source": [
    "#### Mono-objective FS Example\n",
    "- Predictive performance: AUC (↑)"
   ]
  },
  {
   "cell_type": "code",
   "execution_count": 149,
   "metadata": {
    "slideshow": {
     "slide_type": "fragment"
    }
   },
   "outputs": [],
   "source": [
    "problem = credit(X, y, nb)\n",
    "algorithm = GeneticAlgorithm(\n",
    "        problem=problem,\n",
    "        population_size=40,\n",
    "        offspring_population_size=40,\n",
    "        mutation=BitFlipMutation(1.0 / problem.n_var),\n",
    "        crossover=SPXCrossover(1.0),\n",
    "        termination_criterion=StoppingByEvaluations(max_evaluations=20000),\n",
    "    )\n",
    "\n",
    "algorithm.run()\n",
    "result = algorithm.get_result()\n",
    "indices = [int(i) for i in range(len(result.get_binary_string())) if result.get_binary_string()[i] == \"1\"]"
   ]
  },
  {
   "cell_type": "code",
   "execution_count": 150,
   "metadata": {
    "slideshow": {
     "slide_type": "skip"
    }
   },
   "outputs": [],
   "source": [
    "soln_df = pd.DataFrame(columns=[\"Solution\", \"AUC\"])\n",
    "soln_df[\"Solution\"] = [1]\n",
    "soln_df[\"AUC\"] = [result.objectives[0]*-100]"
   ]
  },
  {
   "cell_type": "code",
   "execution_count": 151,
   "metadata": {
    "slideshow": {
     "slide_type": "fragment"
    }
   },
   "outputs": [
    {
     "name": "stdout",
     "output_type": "stream",
     "text": [
      "+------------+-------+\n",
      "|   Solution |   AUC |\n",
      "|------------+-------|\n",
      "|          1 | 77.75 |\n",
      "+------------+-------+\n",
      "Execution time in seconds: 199.63\n",
      "Number of featurea: 9\n"
     ]
    }
   ],
   "source": [
    "\n",
    "print(tabulate(soln_df.set_index('Solution').round(2), headers = 'keys', tablefmt = 'psql'))\n",
    "print('Execution time in seconds: %.2f' %(algorithm.total_computing_time))\n",
    "print('Number of featurea: %.0f' %len(indices))"
   ]
  },
  {
   "cell_type": "markdown",
   "metadata": {
    "slideshow": {
     "slide_type": "slide"
    }
   },
   "source": [
    "## Multi-objective\n",
    "<center>\n",
    "<img src=\"./images/multi.png\" align=\"right\" alt=\"multi\" width=\"532\" height=\"284\">\n",
    "</center>\n",
    "\n",
    "1. Two or three objectives\n",
    "2. More than one solution\n",
    "3. High complexity\n",
    "\n",
    "\n",
    "\n",
    "E.g: Predictive performance and redundancy\n"
   ]
  },
  {
   "cell_type": "markdown",
   "metadata": {
    "slideshow": {
     "slide_type": "slide"
    }
   },
   "source": [
    "### Non-dominated Solutions\n",
    "Non-dominated solutions are solutions that are superior to others in at least one objective and not inferior in any other objective.\n",
    "<center>\n",
    "<img src=\"./images/pareto.png\" alt=\"pareto\" width=\"594\" height=\"340\">\n",
    "</center>"
   ]
  },
  {
   "cell_type": "code",
   "execution_count": 152,
   "metadata": {
    "slideshow": {
     "slide_type": "skip"
    }
   },
   "outputs": [],
   "source": [
    "class credit(BinaryProblem):\n",
    "    \n",
    "    def __init__(self, pred: pd.DataFrame, target: pd.Series, classifier, n_var:int=20):\n",
    "        super(credit, self).__init__()\n",
    "        self.pred = pred\n",
    "        self.target = target\n",
    "        self.classifier = classifier\n",
    "        self.n_var = n_var\n",
    "        self.obj_labels = [\"auc\", \"size\"]\n",
    "        \n",
    "    def number_of_variables(self) -> int:\n",
    "        return 1\n",
    "    def number_of_objectives(self) -> int:\n",
    "        return 2\n",
    "    def number_of_constraints(self) -> int:\n",
    "        return 1\n",
    "        \n",
    "    def evaluate(self, solution: BinarySolution) -> BinarySolution:\n",
    "        \n",
    "        # check constraint and if violated generate a new solution\n",
    "        self.__evaluate_constraints(solution)\n",
    "        if solution.constraints[0] == 0:\n",
    "            check = random.randrange(self.n_var)\n",
    "            solution.variables[0] = [True if _ == check else False for _ in range(self.n_var)]\n",
    "       \n",
    "        auc = cross_val_score(estimator=self.classifier, \n",
    "                                   X=self.pred.iloc[:,solution.variables[0]], y=self.target,\n",
    "                                   scoring=\"roc_auc\", cv=2).mean()\n",
    "        size = sum(solution.variables[0])\n",
    "        \n",
    "        solution.objectives[0] = auc * -1.0\n",
    "        solution.objectives[1] = size\n",
    "        return solution\n",
    "        \n",
    "    def __evaluate_constraints(self, solution: BinarySolution) -> None:\n",
    "        solution.constraints = [0 for _ in range(self.number_of_constraints())]\n",
    "        if sum(solution.variables[0]) == 0:\n",
    "            solution.constraints[0] = 0\n",
    "        else:\n",
    "            solution.constraints[0] = 1\n",
    "        \n",
    "    def create_solution(self) -> BinarySolution:\n",
    "        new_solution = BinarySolution(number_of_variables=self.number_of_variables(),\n",
    "                                      number_of_objectives=self.number_of_objectives())\n",
    "        new_solution.variables[0] =  [True if random.randint(0, 1) == 1 else \n",
    "                                      False for _ in range(self.n_var)]\n",
    "        return new_solution\n",
    "    \n",
    "    def name(self) -> str:\n",
    "        return 'Credit'\n",
    "logging.disable()"
   ]
  },
  {
   "cell_type": "markdown",
   "metadata": {
    "slideshow": {
     "slide_type": "slide"
    }
   },
   "source": [
    "#### Multi-objective FS Example\n",
    "- Predictive performance: AUC (↑)\n",
    "- Model understanding: Number of features (↓)"
   ]
  },
  {
   "cell_type": "code",
   "execution_count": 153,
   "metadata": {
    "slideshow": {
     "slide_type": "fragment"
    }
   },
   "outputs": [],
   "source": [
    "\n",
    "problem = credit(X, y, nb)\n",
    "algorithm = NSGAII(\n",
    "        problem=problem,\n",
    "        population_size=40,\n",
    "        offspring_population_size=40,\n",
    "        mutation=BitFlipMutation(1.0 / problem.n_var),\n",
    "        crossover=SPXCrossover(1.0),\n",
    "        termination_criterion=StoppingByEvaluations(max_evaluations=20000),\n",
    "    )\n",
    "\n",
    "algorithm.run()\n",
    "solutions = get_non_dominated_solutions(algorithm.get_result())"
   ]
  },
  {
   "cell_type": "code",
   "execution_count": 154,
   "metadata": {
    "slideshow": {
     "slide_type": "skip"
    }
   },
   "outputs": [],
   "source": [
    "soln_df = pd.DataFrame(columns=[\"Solution\", \"#Features\", \"AUC\"])\n",
    "soln_df[\"Solution\"] = [i for i in range(1, len(solutions)+1)]\n",
    "soln_df[\"#Features\"] = [solution.objectives[1] for solution in solutions]\n",
    "soln_df[\"AUC\"] = [solution.objectives[0]*-100 for solution in solutions]"
   ]
  },
  {
   "cell_type": "code",
   "execution_count": 155,
   "metadata": {
    "slideshow": {
     "slide_type": "fragment"
    }
   },
   "outputs": [
    {
     "name": "stdout",
     "output_type": "stream",
     "text": [
      "+------------+-------------+-------+\n",
      "|   Solution |   #Features |   AUC |\n",
      "|------------+-------------+-------|\n",
      "|          1 |           1 | 70.98 |\n",
      "|          2 |           9 | 77.75 |\n",
      "|          3 |           2 | 74.87 |\n",
      "|          4 |           3 | 76.34 |\n",
      "|          5 |           4 | 77.15 |\n",
      "|          6 |           5 | 77.45 |\n",
      "|          7 |           6 | 77.61 |\n",
      "|          8 |           7 | 77.73 |\n",
      "|          9 |           8 | 77.75 |\n",
      "+------------+-------------+-------+\n",
      "Execution time in seconds: 187.2803\n"
     ]
    }
   ],
   "source": [
    "\n",
    "print(tabulate(soln_df.set_index('Solution').round(2), headers = 'keys', tablefmt = 'psql'))\n",
    "print('Execution time in seconds: %.4f' %(algorithm.total_computing_time))"
   ]
  },
  {
   "cell_type": "markdown",
   "metadata": {
    "slideshow": {
     "slide_type": "slide"
    }
   },
   "source": [
    "## Many-objective\n",
    "<center>\n",
    "<img src=\"./images/many.png\" align=\"right\" alt=\"many\" width=\"532\" height=\"284\">\n",
    "</center>\n",
    "\n",
    "1. Four or more objectives\n",
    "2. More than one solution\n",
    "3. Most complex\n",
    "4. Reflect real worl scenarios\n",
    "\n",
    "\n",
    "\n",
    "E.g: Predictive performance, redundancy, complexity, and fairness\n"
   ]
  },
  {
   "cell_type": "markdown",
   "metadata": {
    "slideshow": {
     "slide_type": "slide"
    }
   },
   "source": [
    "#### Many-objective FS Example\n",
    "- Predictive performance: AUC (↑)\n",
    "- Model understanding: Number of features (↓)\n",
    "- Feature redundancy: Variance inflation factor (↓)\n",
    "- Model Fairness: Statistical parity (↑)"
   ]
  },
  {
   "cell_type": "code",
   "execution_count": 156,
   "metadata": {
    "slideshow": {
     "slide_type": "skip"
    }
   },
   "outputs": [],
   "source": [
    "\n",
    "class credit(BinaryProblem):\n",
    "    \n",
    "    def __init__(self, pred: pd.DataFrame, target: pd.Series, clf, sf, n_var:int=20):\n",
    "        super(credit, self).__init__()\n",
    "        self.pred = pred\n",
    "        self.target = target\n",
    "        self.classifier = clf\n",
    "        self.n_var = n_var\n",
    "        self.sf = sf\n",
    "        self.obj_labels = [\"auc\", \"size\", \"vif\", \"sp\"]\n",
    "        \n",
    "    def number_of_variables(self) -> int:\n",
    "        return 1\n",
    "    def number_of_objectives(self) -> int:\n",
    "        return 4\n",
    "    def number_of_constraints(self) -> int:\n",
    "        return 1\n",
    "        \n",
    "    def evaluate(self, solution: BinarySolution) -> BinarySolution:\n",
    "        \n",
    "        # check constraint and if violated generate a new solution\n",
    "        self.__evaluate_constraints(solution)\n",
    "        if solution.constraints[0] == 0:\n",
    "            check = random.randrange(self.n_var)\n",
    "            solution.variables[0] = [True if _ == check else False for _ in range(self.n_var)]\n",
    "       \n",
    "        auc = cross_val_score(estimator=self.classifier, \n",
    "                                   X=self.pred.iloc[:,solution.variables[0]], y=self.target,\n",
    "                                   scoring=\"roc_auc\", cv=2).mean()\n",
    "        size = sum(solution.variables[0])\n",
    "        \n",
    "        if len(self.pred.iloc[:,solution.variables[0]].columns) < 2:\n",
    "            vif_score = 0\n",
    "        else:\n",
    "            vif_data = pd.DataFrame()\n",
    "            vif_data[\"feature\"] = self.pred.iloc[:,solution.variables[0]].columns\n",
    "            # calculating VIF for each feature\n",
    "            vif_data[\"VIF\"] = [vif(self.pred.iloc[:,solution.variables[0]].values, i) \n",
    "                               for i in range(len(self.pred.iloc[:,solution.variables[0]].columns))]\n",
    "            vif_score = vif_data[\"VIF\"].mean()\n",
    "        y_pred = cross_val_predict(self.classifier, \n",
    "                                   self.pred.iloc[:,solution.variables[0]], \n",
    "                                   self.target, cv=2)\n",
    "        dp = demographic_parity_ratio(self.target, y_pred, sensitive_features=self.pred[self.sf])\n",
    "        \n",
    "        solution.objectives[0] = auc * -1.0\n",
    "        solution.objectives[1] = size\n",
    "        solution.objectives[2] = vif_score\n",
    "        solution.objectives[3] = dp * -1.0\n",
    "        return solution\n",
    "        \n",
    "    def __evaluate_constraints(self, solution: BinarySolution) -> None:\n",
    "        solution.constraints = [0 for _ in range(self.number_of_constraints())]\n",
    "        if sum(solution.variables[0]) == 0:\n",
    "            solution.constraints[0] = 0\n",
    "        else:\n",
    "            solution.constraints[0] = 1\n",
    "        \n",
    "    def create_solution(self) -> BinarySolution:\n",
    "        new_solution = BinarySolution(number_of_variables=self.number_of_variables(),\n",
    "                                      number_of_objectives=self.number_of_objectives())\n",
    "        new_solution.variables[0] =  [True if random.randint(0, 1) == 1 else \n",
    "                                      False for _ in range(self.n_var)]\n",
    "        return new_solution\n",
    "    \n",
    "    def name(self) -> str:\n",
    "        return 'Credit'\n",
    "logging.disable()"
   ]
  },
  {
   "cell_type": "code",
   "execution_count": 157,
   "metadata": {
    "slideshow": {
     "slide_type": "slide"
    }
   },
   "outputs": [],
   "source": [
    "\n",
    "problem = credit(X, y, nb, 'personal_status')\n",
    "algorithm = NSGAIII(problem=problem,\n",
    "                   population_size=40,\n",
    "                   reference_directions=UniformReferenceDirectionFactory(4, n_points=39),\n",
    "                   mutation=BitFlipMutation(1.0 / problem.n_var),\n",
    "                   crossover=SPXCrossover(1.0),\n",
    "                   termination_criterion=StoppingByEvaluations(max_evaluations=20000))\n",
    "\n",
    "algorithm.run()\n",
    "solutions = get_non_dominated_solutions(algorithm.get_result())"
   ]
  },
  {
   "cell_type": "code",
   "execution_count": 162,
   "metadata": {
    "slideshow": {
     "slide_type": "skip"
    }
   },
   "outputs": [],
   "source": [
    "soln_df = pd.DataFrame(columns=[\"Solution\", \"#Features\", \"AUC\", \"VIF\", \"SP\"])\n",
    "soln_df[\"Solution\"] = [i for i in range(1, len(solutions)+1)]\n",
    "soln_df[\"#Features\"] = [solution.objectives[1] for solution in solutions]\n",
    "soln_df[\"AUC\"] = [solution.objectives[0]*-100 for solution in solutions]\n",
    "soln_df[\"VIF\"] = [solution.objectives[2] for solution in solutions]\n",
    "soln_df[\"SP\"] = [solution.objectives[3]*-1 for solution in solutions]"
   ]
  },
  {
   "cell_type": "code",
   "execution_count": 163,
   "metadata": {
    "slideshow": {
     "slide_type": "fragment"
    }
   },
   "outputs": [
    {
     "name": "stdout",
     "output_type": "stream",
     "text": [
      "+------------+-------------+-------+-------+------+\n",
      "|   Solution |   #Features |   AUC |   VIF |   SP |\n",
      "|------------+-------------+-------+-------+------|\n",
      "|          1 |           9 | 76.75 |  7.21 | 0.96 |\n",
      "|          2 |           2 | 73.4  |  0.01 | 0.92 |\n",
      "|          3 |           9 | 76.48 |  0.13 | 0.98 |\n",
      "|          4 |           4 | 74.52 |  0.04 | 0.92 |\n",
      "|          5 |           3 | 62.85 |  0.07 | 0.98 |\n",
      "|          6 |           5 | 74.37 |  4.96 | 0.96 |\n",
      "|          7 |           6 | 77.02 |  0.06 | 0.91 |\n",
      "|          8 |           5 | 74.05 |  0.13 | 0.98 |\n",
      "|          9 |           1 | 70.98 |  0    | 0.94 |\n",
      "|         10 |           7 | 77.43 |  0.05 | 0.65 |\n",
      "|         11 |           4 | 76.78 |  0.05 | 0.56 |\n",
      "|         12 |           4 | 71.12 |  0.09 | 0.99 |\n",
      "|         13 |           4 | 75.24 |  5.03 | 0.84 |\n",
      "|         14 |           1 | 59.67 |  0    | 1    |\n",
      "|         15 |           2 | 74.87 |  0.06 | 0.86 |\n",
      "|         16 |           2 | 70.33 |  0.01 | 0.96 |\n",
      "|         17 |           5 | 74.71 |  0.01 | 0.85 |\n",
      "|         18 |           7 | 76.53 |  0.06 | 0.96 |\n",
      "|         19 |           8 | 76.35 |  5.71 | 0.98 |\n",
      "|         20 |           8 | 77.74 |  6.9  | 0.61 |\n",
      "|         21 |           1 | 62.68 |  0    | 0.98 |\n",
      "|         22 |           6 | 75.97 |  0.03 | 0.6  |\n",
      "|         23 |           3 | 75.13 |  0.07 | 0.64 |\n",
      "|         24 |           5 | 73.88 |  0.09 | 0.95 |\n",
      "|         25 |           4 | 76.43 |  0.04 | 0.83 |\n",
      "|         26 |           4 | 73.56 |  0.06 | 0.98 |\n",
      "|         27 |           5 | 77.08 |  0.07 | 0.95 |\n",
      "|         28 |           8 | 77.21 |  5.48 | 0.85 |\n",
      "|         29 |           3 | 75.02 |  0.05 | 0.85 |\n",
      "+------------+-------------+-------+-------+------+\n",
      "Execution time in seconds: 656.0492\n"
     ]
    }
   ],
   "source": [
    "\n",
    "print(tabulate(soln_df.set_index('Solution').round(2), headers = 'keys', tablefmt = 'psql'))\n",
    "print('Execution time in seconds: %.4f' %(algorithm.total_computing_time))"
   ]
  },
  {
   "cell_type": "markdown",
   "metadata": {
    "slideshow": {
     "slide_type": "skip"
    }
   },
   "source": [
    "## No feature selection?\n",
    "<center>   \n",
    "<img src=\"./images/person.png\" alt=\"transition\" width=\"450\" height=\"250\">\n",
    "</center>"
   ]
  },
  {
   "cell_type": "code",
   "execution_count": 51,
   "metadata": {
    "slideshow": {
     "slide_type": "skip"
    }
   },
   "outputs": [
    {
     "name": "stdout",
     "output_type": "stream",
     "text": [
      "AUC score with full dataset: 0.5914\n",
      "Execution time in seconds: 0.0796\n"
     ]
    }
   ],
   "source": [
    "start_time = time.time()\n",
    "baseline = cross_val_score(estimator=nb,X=X, y=y,\n",
    "                scoring=\"roc_auc\", cv=2).mean()\n",
    "end_time = time.time()\n",
    "\n",
    "print('AUC score with full dataset: %.4f' %baseline)\n",
    "print('Execution time in seconds: %.4f' %(end_time-start_time))"
   ]
  },
  {
   "cell_type": "markdown",
   "metadata": {
    "slideshow": {
     "slide_type": "slide"
    }
   },
   "source": [
    "## Summary\n",
    "1. Mono-objective FS is the most commonly used.\n",
    "2. Multi- and Many-objective FS mirror real world needs more accurately.\n",
    "3. It comes at a high computational cost.\n",
    "\n",
    "|Measure | Baseline |Mono-obj FS  | Multi-obj FS    | Many-obj FS  \n",
    "|---:|-------------|:-------------|:-----------|:------|\n",
    "| AUC|72.21%| 77.75 % |   77.75 %   |  77.74%  | \n",
    "| Size| 20|9 |    8    |   8 | \n",
    "| Time |43.8 ms| 200 secs  | 187 secs    |  656 secs  | "
   ]
  },
  {
   "cell_type": "markdown",
   "metadata": {
    "slideshow": {
     "slide_type": "slide"
    }
   },
   "source": [
    "## Open Challenges"
   ]
  },
  {
   "cell_type": "markdown",
   "metadata": {
    "cell_style": "split",
    "slideshow": {
     "slide_type": "fragment"
    }
   },
   "source": [
    "1. Efficiency of FS methods for\n",
    "    1. High-dimensional data\n",
    "    2. Large number of instances"
   ]
  },
  {
   "cell_type": "markdown",
   "metadata": {
    "cell_style": "split",
    "slideshow": {
     "slide_type": "fragment"
    }
   },
   "source": [
    "2. Scalability of FS methods considering\n",
    "    1. Parallelism\n",
    "    2. Distribution"
   ]
  },
  {
   "cell_type": "markdown",
   "metadata": {
    "cell_style": "split",
    "slideshow": {
     "slide_type": "fragment"
    }
   },
   "source": [
    "3. Many-objective FS"
   ]
  },
  {
   "cell_type": "markdown",
   "metadata": {
    "cell_style": "split",
    "slideshow": {
     "slide_type": "fragment"
    }
   },
   "source": [
    "4. Visualization and Interpretability of FS results\n",
    "    1. Feature-model relationship\n",
    "    2. Multiple solutions"
   ]
  },
  {
   "cell_type": "markdown",
   "metadata": {
    "cell_style": "split",
    "slideshow": {
     "slide_type": "fragment"
    }
   },
   "source": [
    "5. Adequacy of FS methods in dealing with:\n",
    "    1. Unbalanced classification\n",
    "    2. Multi-label classification"
   ]
  },
  {
   "cell_type": "markdown",
   "metadata": {
    "collapsed": true,
    "jupyter": {
     "outputs_hidden": true
    },
    "slideshow": {
     "slide_type": "slide"
    }
   },
   "source": [
    "## Conclusion\n",
    "1. Feature selection is an essential step in the ML pipeline.\n",
    "2. It can improve performance and consequently model understanding.\n",
    "3. The benefits of using FS for different ML models vary.\n",
    "4. There are many open challenges, expecially in the context of big data.\n",
    "5. Libraries: skfeature, mlxtend, jmetalpy, sklearn"
   ]
  },
  {
   "cell_type": "markdown",
   "metadata": {
    "slideshow": {
     "slide_type": "slide"
    }
   },
   "source": [
    "## Notebook on GitHub\n",
    "\n",
    "<center>   \n",
    "<img src=\"./images/qr-code.png\" alt=\"transition\" width=\"450\" height=\"250\">\n",
    "</center>\n",
    "\n",
    "### URL: https://github.com/F-U-Njoku/fs_tutorial"
   ]
  },
  {
   "cell_type": "code",
   "execution_count": 132,
   "metadata": {
    "cell_style": "center",
    "collapsed": true,
    "jupyter": {
     "outputs_hidden": true
    },
    "slideshow": {
     "slide_type": "skip"
    }
   },
   "outputs": [
    {
     "name": "stdout",
     "output_type": "stream",
     "text": [
      "Collecting git+https://github.com/jundongl/scikit-feature\n",
      "  Cloning https://github.com/jundongl/scikit-feature to /tmp/pip-req-build-0wjc_dx9\n",
      "  Running command git clone --filter=blob:none --quiet https://github.com/jundongl/scikit-feature /tmp/pip-req-build-0wjc_dx9\n",
      "  Resolved https://github.com/jundongl/scikit-feature to commit 48cffad4e88ff4b9d2f1c7baffb314d1b3303792\n",
      "  Preparing metadata (setup.py) ... \u001b[?25ldone\n",
      "\u001b[?25hBuilding wheels for collected packages: skfeature\n",
      "  Building wheel for skfeature (setup.py) ... \u001b[?25ldone\n",
      "\u001b[?25h  Created wheel for skfeature: filename=skfeature-1.0.0-py3-none-any.whl size=61488 sha256=74e3c02fe33e8636f1d142c59f1768744ac14e9c6b1485e029c064886919c3a5\n",
      "  Stored in directory: /tmp/pip-ephem-wheel-cache-z3xu7ziy/wheels/8f/62/16/dbf7334329e32e3674041b336ac91a5258f33ab10be507697c\n",
      "Successfully built skfeature\n",
      "Installing collected packages: skfeature\n",
      "Successfully installed skfeature-1.0.0\n"
     ]
    }
   ],
   "source": [
    "#!pip install openml\n",
    "#!pip install mlxtend\n",
    "#!pip install fairlearn\n",
    "#!pip install jmetalpy\n",
    "#!pip install git+https://github.com/jundongl/scikit-feature\n",
    "#!pip install nbconvert\n",
    "#!pip install pyppeteer"
   ]
  },
  {
   "cell_type": "code",
   "execution_count": 1,
   "metadata": {
    "cell_style": "center",
    "slideshow": {
     "slide_type": "skip"
    }
   },
   "outputs": [],
   "source": [
    "\n",
    "path = Path.home() / \".jupyter\" / \"nbconfig\"\n",
    "cm = BaseJSONConfigManager(config_dir=str(path))\n",
    "tmp = cm.update(\n",
    "        \"rise\",\n",
    "        {\n",
    "            \"theme\": \"serif\",\n",
    "            \"transition\": \"fade\",\n",
    "            \"start_slideshow_at\": \"selected\",\n",
    "            \"autolaunch\": True,\n",
    "            \"width\": \"100%\",\n",
    "            \"height\": \"100%\",\n",
    "            \"header\": \"\",\n",
    "            \"footer\":\"Finding Relevant Information in Big Datasets with ML\",\n",
    "            \"scroll\": True,\n",
    "            \"enable_chalkboard\": True,\n",
    "            \"slideNumber\": True,\n",
    "            \"center\": False,\n",
    "            \"controlsLayout\": \"edges\",\n",
    "            \"slideNumber\": True,\n",
    "            \"hash\": True,\n",
    "        }\n",
    "    )\n"
   ]
  }
 ],
 "metadata": {
  "celltoolbar": "Slideshow",
  "kernelspec": {
   "display_name": "Python 3 (ipykernel)",
   "language": "python",
   "name": "python3"
  },
  "language_info": {
   "codemirror_mode": {
    "name": "ipython",
    "version": 3
   },
   "file_extension": ".py",
   "mimetype": "text/x-python",
   "name": "python",
   "nbconvert_exporter": "python",
   "pygments_lexer": "ipython3",
   "version": "3.8.18"
  }
 },
 "nbformat": 4,
 "nbformat_minor": 4
}
