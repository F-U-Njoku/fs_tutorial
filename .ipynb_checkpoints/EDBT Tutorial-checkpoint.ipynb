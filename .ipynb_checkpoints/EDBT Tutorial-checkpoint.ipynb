{
 "cells": [
  {
   "cell_type": "markdown",
   "metadata": {
    "slideshow": {
     "slide_type": "slide"
    }
   },
   "source": [
    "<br/><br/>\n",
    "<h1 align=\"center\">Finding Relevant Information in Big Datasets with ML</h1> \n",
    "<br/><br/>\n",
    "<h3 align=\"center\">Authors:</h3> \n",
    "<h3 align=\"center\">Uchechukwu Njoku, Alberto Abelló, Besim Bilalli, Gianluca Bontempi</h3> \n",
    "<h4 align=\"center\">EDBT 2024</h4> \n",
    "<h4 align=\"center\">Paestum, Italy</h4> \n",
    "<h4 align=\"center\">27<sup>th</sup> March, 2024</h4> "
   ]
  },
  {
   "cell_type": "code",
   "execution_count": 1,
   "metadata": {
    "slideshow": {
     "slide_type": "skip"
    }
   },
   "outputs": [],
   "source": [
    "# Import all required libraries\n",
    "import time\n",
    "import random\n",
    "import numpy as np\n",
    "import pandas as pd\n",
    "import openml as oml \n",
    "from sklearn import svm\n",
    "from pathlib import Path\n",
    "from tabulate import tabulate\n",
    "from matplotlib import pyplot as plt\n",
    "from sklearn.naive_bayes import GaussianNB\n",
    "from jmetal.core.problem import BinaryProblem\n",
    "from jmetal.core.solution import BinarySolution\n",
    "from IPython.display import IFrame, display, HTML\n",
    "from sklearn.ensemble import RandomForestClassifier\n",
    "from fairlearn.metrics import demographic_parity_ratio\n",
    "from jmetal.algorithm.multiobjective.nsgaii import NSGAII\n",
    "from traitlets.config.manager import BaseJSONConfigManager\n",
    "from skfeature.function.statistical_based import gini_index\n",
    "from jmetal.util.solution import get_non_dominated_solutions\n",
    "from jmetal.algorithm.singleobjective.genetic_algorithm import GeneticAlgorithm\n",
    "from statsmodels.stats.outliers_influence import variance_inflation_factor as vif\n",
    "from jmetal.util.termination_criterion import StoppingByEvaluations, StoppingByTime\n",
    "from sklearn.model_selection import cross_val_score, StratifiedKFold, cross_val_predict\n",
    "from jmetal.operator import SBXCrossover, PolynomialMutation, SPXCrossover, BitFlipMutation\n",
    "from jmetal.algorithm.multiobjective.nsgaiii import NSGAIII, UniformReferenceDirectionFactory\n",
    "from mlxtend.feature_selection import ExhaustiveFeatureSelector as EFS, SequentialFeatureSelector as SFS"
   ]
  },
  {
   "cell_type": "markdown",
   "metadata": {
    "slideshow": {
     "slide_type": "slide"
    }
   },
   "source": [
    "**Content:**\n",
    "- Introduction to Feature Selection (FS)\n",
    "- Search strategies\n",
    "- FS classes\n",
    "- Evaluation metrics\n",
    "- Open challenges\n",
    "- Libraries\n",
    "- Conclusion"
   ]
  },
  {
   "cell_type": "markdown",
   "metadata": {
    "slideshow": {
     "slide_type": "slide"
    }
   },
   "source": [
    "**Part 1**\n",
    "- Introduction to Feature Selection (FS)\n",
    "- Search strategies\n",
    "    - Exponential search\n",
    "    - Sequential search \n",
    "    - Heuristics-based search"
   ]
  },
  {
   "cell_type": "markdown",
   "metadata": {
    "slideshow": {
     "slide_type": "slide"
    }
   },
   "source": [
    "## Where we are: Big data\n",
    "<center>   \n",
    "<img src=\"./images/fivevs.webp\" alt=\"Big data\" width=\"900\" height=\"500\">\n",
    "</center>"
   ]
  },
  {
   "cell_type": "code",
   "execution_count": 2,
   "metadata": {
    "slideshow": {
     "slide_type": "skip"
    }
   },
   "outputs": [],
   "source": [
    "\n",
    "# Define the URL for the iframe\n",
    "url = \"https://wall.sli.do/event/wT2yM4CDVA39n1XggtSeNg?section=769d6d7d-76ba-48da-9cad-c72b102daa84\"\n",
    "# Create the IFrame\n",
    "iframe = IFrame(url, width=450, height=600)\n",
    "# Define HTML/CSS to center the iframe\n",
    "slido1 = \"\"\"\n",
    "<div style=\"display: flex; justify-content: center;\">\n",
    "    {}\n",
    "</div>\n",
    "\"\"\".format(iframe._repr_html_())"
   ]
  },
  {
   "cell_type": "markdown",
   "metadata": {
    "cell_style": "split",
    "scrolled": true,
    "slideshow": {
     "slide_type": "slide"
    }
   },
   "source": [
    "# Join at slido.com #2198 009\n",
    "<center>   \n",
    "<img src=\"./images/slido1.png\" alt=\"transition\" width=\"450\" height=\"250\">\n",
    "</center>"
   ]
  },
  {
   "cell_type": "code",
   "execution_count": 3,
   "metadata": {
    "cell_style": "split",
    "scrolled": false,
    "slideshow": {
     "slide_type": "fragment"
    }
   },
   "outputs": [
    {
     "data": {
      "text/html": [
       "\n",
       "<div style=\"display: flex; justify-content: center;\">\n",
       "    \n",
       "        <iframe\n",
       "            width=\"450\"\n",
       "            height=\"600\"\n",
       "            src=\"https://wall.sli.do/event/wT2yM4CDVA39n1XggtSeNg?section=769d6d7d-76ba-48da-9cad-c72b102daa84\"\n",
       "            frameborder=\"0\"\n",
       "            allowfullscreen\n",
       "            \n",
       "        ></iframe>\n",
       "        \n",
       "</div>\n"
      ],
      "text/plain": [
       "<IPython.core.display.HTML object>"
      ]
     },
     "metadata": {},
     "output_type": "display_data"
    }
   ],
   "source": [
    "# Display Slido poll results\n",
    "display(HTML(slido1))"
   ]
  },
  {
   "cell_type": "markdown",
   "metadata": {
    "slideshow": {
     "slide_type": "slide"
    }
   },
   "source": [
    "## Challenges\n",
    "1. Data understanding\n",
    "2. Irrelevance\n",
    "3. Noise\n",
    "4. Processing speed\n",
    "5. Redundancy\n",
    "6. Storage cost"
   ]
  },
  {
   "cell_type": "markdown",
   "metadata": {
    "slideshow": {
     "slide_type": "slide"
    }
   },
   "source": [
    "## Necessary transition\n",
    "<center>   \n",
    "<img src=\"./images/Experimental Design.png\" alt=\"transition\" width=\"1200\" height=\"900\">\n",
    "</center>"
   ]
  },
  {
   "attachments": {},
   "cell_type": "markdown",
   "metadata": {
    "slideshow": {
     "slide_type": "slide"
    }
   },
   "source": [
    "## Necessary transition\n",
    "<center>   \n",
    "<img src=\"./images/Experimental Design2.jpg\" alt=\"transition\" width=\"1200\" height=\"900\">\n",
    "</center>"
   ]
  },
  {
   "cell_type": "markdown",
   "metadata": {
    "slideshow": {
     "slide_type": "slide"
    }
   },
   "source": [
    "## Feature selection (FS)\n",
    "\n",
    "Feature selection is **a search problem of detecting the relevant features and discarding the irrelevant and redundant ones** with the goal of obtaining a subset of features that accurately describe a given problem with a minimum degradation of performance."
   ]
  },
  {
   "cell_type": "markdown",
   "metadata": {
    "slideshow": {
     "slide_type": "fragment"
    }
   },
   "source": [
    "<center>   \n",
    "<img src=\"featureselection2.png\" alt=\"transition\" width=\"1200\" height=\"900\">\n",
    "</center>"
   ]
  },
  {
   "cell_type": "markdown",
   "metadata": {
    "slideshow": {
     "slide_type": "slide"
    }
   },
   "source": [
    "## Running example\n",
    "**German Credit dataset:** this dataset classifies people described by a set of attributes as good or bad credit risks.\n",
    "\n",
    "- 21 features\n",
    "- 1,000 instances\n",
    "- 1,048,574 possible solutions"
   ]
  },
  {
   "cell_type": "code",
   "execution_count": 2,
   "metadata": {
    "slideshow": {
     "slide_type": "skip"
    }
   },
   "outputs": [],
   "source": [
    "# Uncomment to install\n",
    "#!pip install openml\n",
    "\n",
    "\n",
    "  \n",
    "# function to retrieve data    \n",
    "def fetch_data(number):\n",
    "    dataset = oml.datasets.get_dataset(number, download_data=True, \n",
    "                                       download_qualities=True, \n",
    "                                       download_features_meta_data=True)\n",
    "    X, y, attribute_names, categorical_indicator,  = dataset.get_data(\n",
    "        dataset_format=\"dataframe\",\n",
    "        target=dataset.default_target_attribute)\n",
    "    return X, y, attribute_names, len(attribute_names)\n",
    "\n",
    "# fetch dataset \n",
    "data, y, attribute_names, z = fetch_data(43808)"
   ]
  },
  {
   "cell_type": "code",
   "execution_count": 3,
   "metadata": {
    "slideshow": {
     "slide_type": "skip"
    }
   },
   "outputs": [
    {
     "data": {
      "text/html": [
       "<div>\n",
       "<style scoped>\n",
       "    .dataframe tbody tr th:only-of-type {\n",
       "        vertical-align: middle;\n",
       "    }\n",
       "\n",
       "    .dataframe tbody tr th {\n",
       "        vertical-align: top;\n",
       "    }\n",
       "\n",
       "    .dataframe thead th {\n",
       "        text-align: right;\n",
       "    }\n",
       "</style>\n",
       "<table border=\"1\" class=\"dataframe\">\n",
       "  <thead>\n",
       "    <tr style=\"text-align: right;\">\n",
       "      <th></th>\n",
       "      <th>laufkont</th>\n",
       "      <th>laufzeit</th>\n",
       "      <th>moral</th>\n",
       "      <th>verw</th>\n",
       "      <th>hoehe</th>\n",
       "      <th>sparkont</th>\n",
       "      <th>beszeit</th>\n",
       "      <th>rate</th>\n",
       "      <th>famges</th>\n",
       "      <th>buerge</th>\n",
       "      <th>...</th>\n",
       "      <th>verm</th>\n",
       "      <th>alter</th>\n",
       "      <th>weitkred</th>\n",
       "      <th>wohn</th>\n",
       "      <th>bishkred</th>\n",
       "      <th>beruf</th>\n",
       "      <th>pers</th>\n",
       "      <th>telef</th>\n",
       "      <th>gastarb</th>\n",
       "      <th>kredit</th>\n",
       "    </tr>\n",
       "  </thead>\n",
       "  <tbody>\n",
       "    <tr>\n",
       "      <th>0</th>\n",
       "      <td>1</td>\n",
       "      <td>18</td>\n",
       "      <td>4</td>\n",
       "      <td>2</td>\n",
       "      <td>1049</td>\n",
       "      <td>1</td>\n",
       "      <td>2</td>\n",
       "      <td>4</td>\n",
       "      <td>2</td>\n",
       "      <td>1</td>\n",
       "      <td>...</td>\n",
       "      <td>2</td>\n",
       "      <td>21</td>\n",
       "      <td>3</td>\n",
       "      <td>1</td>\n",
       "      <td>1</td>\n",
       "      <td>3</td>\n",
       "      <td>2</td>\n",
       "      <td>1</td>\n",
       "      <td>2</td>\n",
       "      <td>1</td>\n",
       "    </tr>\n",
       "    <tr>\n",
       "      <th>1</th>\n",
       "      <td>1</td>\n",
       "      <td>9</td>\n",
       "      <td>4</td>\n",
       "      <td>0</td>\n",
       "      <td>2799</td>\n",
       "      <td>1</td>\n",
       "      <td>3</td>\n",
       "      <td>2</td>\n",
       "      <td>3</td>\n",
       "      <td>1</td>\n",
       "      <td>...</td>\n",
       "      <td>1</td>\n",
       "      <td>36</td>\n",
       "      <td>3</td>\n",
       "      <td>1</td>\n",
       "      <td>2</td>\n",
       "      <td>3</td>\n",
       "      <td>1</td>\n",
       "      <td>1</td>\n",
       "      <td>2</td>\n",
       "      <td>1</td>\n",
       "    </tr>\n",
       "    <tr>\n",
       "      <th>2</th>\n",
       "      <td>2</td>\n",
       "      <td>12</td>\n",
       "      <td>2</td>\n",
       "      <td>9</td>\n",
       "      <td>841</td>\n",
       "      <td>2</td>\n",
       "      <td>4</td>\n",
       "      <td>2</td>\n",
       "      <td>2</td>\n",
       "      <td>1</td>\n",
       "      <td>...</td>\n",
       "      <td>1</td>\n",
       "      <td>23</td>\n",
       "      <td>3</td>\n",
       "      <td>1</td>\n",
       "      <td>1</td>\n",
       "      <td>2</td>\n",
       "      <td>2</td>\n",
       "      <td>1</td>\n",
       "      <td>2</td>\n",
       "      <td>1</td>\n",
       "    </tr>\n",
       "    <tr>\n",
       "      <th>3</th>\n",
       "      <td>1</td>\n",
       "      <td>12</td>\n",
       "      <td>4</td>\n",
       "      <td>0</td>\n",
       "      <td>2122</td>\n",
       "      <td>1</td>\n",
       "      <td>3</td>\n",
       "      <td>3</td>\n",
       "      <td>3</td>\n",
       "      <td>1</td>\n",
       "      <td>...</td>\n",
       "      <td>1</td>\n",
       "      <td>39</td>\n",
       "      <td>3</td>\n",
       "      <td>1</td>\n",
       "      <td>2</td>\n",
       "      <td>2</td>\n",
       "      <td>1</td>\n",
       "      <td>1</td>\n",
       "      <td>1</td>\n",
       "      <td>1</td>\n",
       "    </tr>\n",
       "    <tr>\n",
       "      <th>4</th>\n",
       "      <td>1</td>\n",
       "      <td>12</td>\n",
       "      <td>4</td>\n",
       "      <td>0</td>\n",
       "      <td>2171</td>\n",
       "      <td>1</td>\n",
       "      <td>3</td>\n",
       "      <td>4</td>\n",
       "      <td>3</td>\n",
       "      <td>1</td>\n",
       "      <td>...</td>\n",
       "      <td>2</td>\n",
       "      <td>38</td>\n",
       "      <td>1</td>\n",
       "      <td>2</td>\n",
       "      <td>2</td>\n",
       "      <td>2</td>\n",
       "      <td>2</td>\n",
       "      <td>1</td>\n",
       "      <td>1</td>\n",
       "      <td>1</td>\n",
       "    </tr>\n",
       "  </tbody>\n",
       "</table>\n",
       "<p>5 rows × 21 columns</p>\n",
       "</div>"
      ],
      "text/plain": [
       "   laufkont  laufzeit  moral  verw  hoehe  sparkont  beszeit  rate  famges  \\\n",
       "0         1        18      4     2   1049         1        2     4       2   \n",
       "1         1         9      4     0   2799         1        3     2       3   \n",
       "2         2        12      2     9    841         2        4     2       2   \n",
       "3         1        12      4     0   2122         1        3     3       3   \n",
       "4         1        12      4     0   2171         1        3     4       3   \n",
       "\n",
       "   buerge  ...  verm  alter  weitkred  wohn  bishkred  beruf  pers  telef  \\\n",
       "0       1  ...     2     21         3     1         1      3     2      1   \n",
       "1       1  ...     1     36         3     1         2      3     1      1   \n",
       "2       1  ...     1     23         3     1         1      2     2      1   \n",
       "3       1  ...     1     39         3     1         2      2     1      1   \n",
       "4       1  ...     2     38         1     2         2      2     2      1   \n",
       "\n",
       "   gastarb  kredit  \n",
       "0        2       1  \n",
       "1        2       1  \n",
       "2        2       1  \n",
       "3        1       1  \n",
       "4        1       1  \n",
       "\n",
       "[5 rows x 21 columns]"
      ]
     },
     "execution_count": 3,
     "metadata": {},
     "output_type": "execute_result"
    }
   ],
   "source": [
    "data.head()"
   ]
  },
  {
   "cell_type": "code",
   "execution_count": 4,
   "metadata": {
    "slideshow": {
     "slide_type": "skip"
    }
   },
   "outputs": [],
   "source": [
    "# Rename columns\n",
    "data.rename(columns={'laufkont':\"checking_status\", \n",
    "                  'laufzeit':\"duration\", \n",
    "                  'moral':\"credit_history\", \n",
    "                  'verw':\"purpose\", \n",
    "                  'hoehe':\"credit_amount\", \n",
    "                  'sparkont':\"savings_status\", \n",
    "                  'beszeit':\"employment\",\n",
    "                  'rate':\"installment_commitment\", \n",
    "                  'famges':\"personal_status\", \n",
    "                  'buerge':\"other_parties\",\n",
    "                  'wohnzeit':\"residence_since\", \n",
    "                  'verm':\"property_magnitude\", \n",
    "                  'alter':\"age\", \n",
    "                  'weitkred':\"other_payment_plans\",\n",
    "                  'wohn':\"housing\", \n",
    "                  'bishkred':\"existing_credits\", \n",
    "                  'beruf':\"job\", \n",
    "                  'pers':\"num_dependents\", \n",
    "                  'telef':\"own_telephone\", \n",
    "                  'gastarb':\"foreign_worker\",\n",
    "                  'kredit':\"credit\"}, inplace=True)"
   ]
  },
  {
   "cell_type": "code",
   "execution_count": 5,
   "metadata": {
    "slideshow": {
     "slide_type": "fragment"
    }
   },
   "outputs": [
    {
     "data": {
      "text/html": [
       "<div>\n",
       "<style scoped>\n",
       "    .dataframe tbody tr th:only-of-type {\n",
       "        vertical-align: middle;\n",
       "    }\n",
       "\n",
       "    .dataframe tbody tr th {\n",
       "        vertical-align: top;\n",
       "    }\n",
       "\n",
       "    .dataframe thead th {\n",
       "        text-align: right;\n",
       "    }\n",
       "</style>\n",
       "<table border=\"1\" class=\"dataframe\">\n",
       "  <thead>\n",
       "    <tr style=\"text-align: right;\">\n",
       "      <th></th>\n",
       "      <th>checking_status</th>\n",
       "      <th>duration</th>\n",
       "      <th>credit_history</th>\n",
       "      <th>purpose</th>\n",
       "      <th>credit_amount</th>\n",
       "      <th>savings_status</th>\n",
       "      <th>employment</th>\n",
       "      <th>installment_commitment</th>\n",
       "      <th>personal_status</th>\n",
       "      <th>other_parties</th>\n",
       "      <th>...</th>\n",
       "      <th>property_magnitude</th>\n",
       "      <th>age</th>\n",
       "      <th>other_payment_plans</th>\n",
       "      <th>housing</th>\n",
       "      <th>existing_credits</th>\n",
       "      <th>job</th>\n",
       "      <th>num_dependents</th>\n",
       "      <th>own_telephone</th>\n",
       "      <th>foreign_worker</th>\n",
       "      <th>credit</th>\n",
       "    </tr>\n",
       "  </thead>\n",
       "  <tbody>\n",
       "    <tr>\n",
       "      <th>0</th>\n",
       "      <td>1</td>\n",
       "      <td>18</td>\n",
       "      <td>4</td>\n",
       "      <td>2</td>\n",
       "      <td>1049</td>\n",
       "      <td>1</td>\n",
       "      <td>2</td>\n",
       "      <td>4</td>\n",
       "      <td>2</td>\n",
       "      <td>1</td>\n",
       "      <td>...</td>\n",
       "      <td>2</td>\n",
       "      <td>21</td>\n",
       "      <td>3</td>\n",
       "      <td>1</td>\n",
       "      <td>1</td>\n",
       "      <td>3</td>\n",
       "      <td>2</td>\n",
       "      <td>1</td>\n",
       "      <td>2</td>\n",
       "      <td>1</td>\n",
       "    </tr>\n",
       "    <tr>\n",
       "      <th>1</th>\n",
       "      <td>1</td>\n",
       "      <td>9</td>\n",
       "      <td>4</td>\n",
       "      <td>0</td>\n",
       "      <td>2799</td>\n",
       "      <td>1</td>\n",
       "      <td>3</td>\n",
       "      <td>2</td>\n",
       "      <td>3</td>\n",
       "      <td>1</td>\n",
       "      <td>...</td>\n",
       "      <td>1</td>\n",
       "      <td>36</td>\n",
       "      <td>3</td>\n",
       "      <td>1</td>\n",
       "      <td>2</td>\n",
       "      <td>3</td>\n",
       "      <td>1</td>\n",
       "      <td>1</td>\n",
       "      <td>2</td>\n",
       "      <td>1</td>\n",
       "    </tr>\n",
       "    <tr>\n",
       "      <th>2</th>\n",
       "      <td>2</td>\n",
       "      <td>12</td>\n",
       "      <td>2</td>\n",
       "      <td>9</td>\n",
       "      <td>841</td>\n",
       "      <td>2</td>\n",
       "      <td>4</td>\n",
       "      <td>2</td>\n",
       "      <td>2</td>\n",
       "      <td>1</td>\n",
       "      <td>...</td>\n",
       "      <td>1</td>\n",
       "      <td>23</td>\n",
       "      <td>3</td>\n",
       "      <td>1</td>\n",
       "      <td>1</td>\n",
       "      <td>2</td>\n",
       "      <td>2</td>\n",
       "      <td>1</td>\n",
       "      <td>2</td>\n",
       "      <td>1</td>\n",
       "    </tr>\n",
       "    <tr>\n",
       "      <th>3</th>\n",
       "      <td>1</td>\n",
       "      <td>12</td>\n",
       "      <td>4</td>\n",
       "      <td>0</td>\n",
       "      <td>2122</td>\n",
       "      <td>1</td>\n",
       "      <td>3</td>\n",
       "      <td>3</td>\n",
       "      <td>3</td>\n",
       "      <td>1</td>\n",
       "      <td>...</td>\n",
       "      <td>1</td>\n",
       "      <td>39</td>\n",
       "      <td>3</td>\n",
       "      <td>1</td>\n",
       "      <td>2</td>\n",
       "      <td>2</td>\n",
       "      <td>1</td>\n",
       "      <td>1</td>\n",
       "      <td>1</td>\n",
       "      <td>1</td>\n",
       "    </tr>\n",
       "    <tr>\n",
       "      <th>4</th>\n",
       "      <td>1</td>\n",
       "      <td>12</td>\n",
       "      <td>4</td>\n",
       "      <td>0</td>\n",
       "      <td>2171</td>\n",
       "      <td>1</td>\n",
       "      <td>3</td>\n",
       "      <td>4</td>\n",
       "      <td>3</td>\n",
       "      <td>1</td>\n",
       "      <td>...</td>\n",
       "      <td>2</td>\n",
       "      <td>38</td>\n",
       "      <td>1</td>\n",
       "      <td>2</td>\n",
       "      <td>2</td>\n",
       "      <td>2</td>\n",
       "      <td>2</td>\n",
       "      <td>1</td>\n",
       "      <td>1</td>\n",
       "      <td>1</td>\n",
       "    </tr>\n",
       "  </tbody>\n",
       "</table>\n",
       "<p>5 rows × 21 columns</p>\n",
       "</div>"
      ],
      "text/plain": [
       "   checking_status  duration  credit_history  purpose  credit_amount  \\\n",
       "0                1        18               4        2           1049   \n",
       "1                1         9               4        0           2799   \n",
       "2                2        12               2        9            841   \n",
       "3                1        12               4        0           2122   \n",
       "4                1        12               4        0           2171   \n",
       "\n",
       "   savings_status  employment  installment_commitment  personal_status  \\\n",
       "0               1           2                       4                2   \n",
       "1               1           3                       2                3   \n",
       "2               2           4                       2                2   \n",
       "3               1           3                       3                3   \n",
       "4               1           3                       4                3   \n",
       "\n",
       "   other_parties  ...  property_magnitude  age  other_payment_plans  housing  \\\n",
       "0              1  ...                   2   21                    3        1   \n",
       "1              1  ...                   1   36                    3        1   \n",
       "2              1  ...                   1   23                    3        1   \n",
       "3              1  ...                   1   39                    3        1   \n",
       "4              1  ...                   2   38                    1        2   \n",
       "\n",
       "   existing_credits  job  num_dependents  own_telephone  foreign_worker  \\\n",
       "0                 1    3               2              1               2   \n",
       "1                 2    3               1              1               2   \n",
       "2                 1    2               2              1               2   \n",
       "3                 2    2               1              1               1   \n",
       "4                 2    2               2              1               1   \n",
       "\n",
       "   credit  \n",
       "0       1  \n",
       "1       1  \n",
       "2       1  \n",
       "3       1  \n",
       "4       1  \n",
       "\n",
       "[5 rows x 21 columns]"
      ]
     },
     "execution_count": 5,
     "metadata": {},
     "output_type": "execute_result"
    }
   ],
   "source": [
    "data.head()"
   ]
  },
  {
   "cell_type": "code",
   "execution_count": 6,
   "metadata": {
    "slideshow": {
     "slide_type": "skip"
    }
   },
   "outputs": [],
   "source": [
    "# Display data\n",
    "X = data.drop([\"credit\"], axis=1)\n",
    "y = data[\"credit\"]"
   ]
  },
  {
   "cell_type": "code",
   "execution_count": 7,
   "metadata": {
    "slideshow": {
     "slide_type": "slide"
    }
   },
   "outputs": [
    {
     "data": {
      "text/html": [
       "<div>\n",
       "<style scoped>\n",
       "    .dataframe tbody tr th:only-of-type {\n",
       "        vertical-align: middle;\n",
       "    }\n",
       "\n",
       "    .dataframe tbody tr th {\n",
       "        vertical-align: top;\n",
       "    }\n",
       "\n",
       "    .dataframe thead th {\n",
       "        text-align: right;\n",
       "    }\n",
       "</style>\n",
       "<table border=\"1\" class=\"dataframe\">\n",
       "  <thead>\n",
       "    <tr style=\"text-align: right;\">\n",
       "      <th></th>\n",
       "      <th>checking_status</th>\n",
       "      <th>duration</th>\n",
       "      <th>credit_history</th>\n",
       "      <th>purpose</th>\n",
       "      <th>credit_amount</th>\n",
       "      <th>savings_status</th>\n",
       "      <th>employment</th>\n",
       "      <th>installment_commitment</th>\n",
       "      <th>personal_status</th>\n",
       "      <th>other_parties</th>\n",
       "      <th>residence_since</th>\n",
       "      <th>property_magnitude</th>\n",
       "      <th>age</th>\n",
       "      <th>other_payment_plans</th>\n",
       "      <th>housing</th>\n",
       "      <th>existing_credits</th>\n",
       "      <th>job</th>\n",
       "      <th>num_dependents</th>\n",
       "      <th>own_telephone</th>\n",
       "      <th>foreign_worker</th>\n",
       "    </tr>\n",
       "  </thead>\n",
       "  <tbody>\n",
       "    <tr>\n",
       "      <th>0</th>\n",
       "      <td>1</td>\n",
       "      <td>18</td>\n",
       "      <td>4</td>\n",
       "      <td>2</td>\n",
       "      <td>1049</td>\n",
       "      <td>1</td>\n",
       "      <td>2</td>\n",
       "      <td>4</td>\n",
       "      <td>2</td>\n",
       "      <td>1</td>\n",
       "      <td>4</td>\n",
       "      <td>2</td>\n",
       "      <td>21</td>\n",
       "      <td>3</td>\n",
       "      <td>1</td>\n",
       "      <td>1</td>\n",
       "      <td>3</td>\n",
       "      <td>2</td>\n",
       "      <td>1</td>\n",
       "      <td>2</td>\n",
       "    </tr>\n",
       "    <tr>\n",
       "      <th>1</th>\n",
       "      <td>1</td>\n",
       "      <td>9</td>\n",
       "      <td>4</td>\n",
       "      <td>0</td>\n",
       "      <td>2799</td>\n",
       "      <td>1</td>\n",
       "      <td>3</td>\n",
       "      <td>2</td>\n",
       "      <td>3</td>\n",
       "      <td>1</td>\n",
       "      <td>2</td>\n",
       "      <td>1</td>\n",
       "      <td>36</td>\n",
       "      <td>3</td>\n",
       "      <td>1</td>\n",
       "      <td>2</td>\n",
       "      <td>3</td>\n",
       "      <td>1</td>\n",
       "      <td>1</td>\n",
       "      <td>2</td>\n",
       "    </tr>\n",
       "    <tr>\n",
       "      <th>2</th>\n",
       "      <td>2</td>\n",
       "      <td>12</td>\n",
       "      <td>2</td>\n",
       "      <td>9</td>\n",
       "      <td>841</td>\n",
       "      <td>2</td>\n",
       "      <td>4</td>\n",
       "      <td>2</td>\n",
       "      <td>2</td>\n",
       "      <td>1</td>\n",
       "      <td>4</td>\n",
       "      <td>1</td>\n",
       "      <td>23</td>\n",
       "      <td>3</td>\n",
       "      <td>1</td>\n",
       "      <td>1</td>\n",
       "      <td>2</td>\n",
       "      <td>2</td>\n",
       "      <td>1</td>\n",
       "      <td>2</td>\n",
       "    </tr>\n",
       "    <tr>\n",
       "      <th>3</th>\n",
       "      <td>1</td>\n",
       "      <td>12</td>\n",
       "      <td>4</td>\n",
       "      <td>0</td>\n",
       "      <td>2122</td>\n",
       "      <td>1</td>\n",
       "      <td>3</td>\n",
       "      <td>3</td>\n",
       "      <td>3</td>\n",
       "      <td>1</td>\n",
       "      <td>2</td>\n",
       "      <td>1</td>\n",
       "      <td>39</td>\n",
       "      <td>3</td>\n",
       "      <td>1</td>\n",
       "      <td>2</td>\n",
       "      <td>2</td>\n",
       "      <td>1</td>\n",
       "      <td>1</td>\n",
       "      <td>1</td>\n",
       "    </tr>\n",
       "    <tr>\n",
       "      <th>4</th>\n",
       "      <td>1</td>\n",
       "      <td>12</td>\n",
       "      <td>4</td>\n",
       "      <td>0</td>\n",
       "      <td>2171</td>\n",
       "      <td>1</td>\n",
       "      <td>3</td>\n",
       "      <td>4</td>\n",
       "      <td>3</td>\n",
       "      <td>1</td>\n",
       "      <td>4</td>\n",
       "      <td>2</td>\n",
       "      <td>38</td>\n",
       "      <td>1</td>\n",
       "      <td>2</td>\n",
       "      <td>2</td>\n",
       "      <td>2</td>\n",
       "      <td>2</td>\n",
       "      <td>1</td>\n",
       "      <td>1</td>\n",
       "    </tr>\n",
       "  </tbody>\n",
       "</table>\n",
       "</div>"
      ],
      "text/plain": [
       "   checking_status  duration  credit_history  purpose  credit_amount  \\\n",
       "0                1        18               4        2           1049   \n",
       "1                1         9               4        0           2799   \n",
       "2                2        12               2        9            841   \n",
       "3                1        12               4        0           2122   \n",
       "4                1        12               4        0           2171   \n",
       "\n",
       "   savings_status  employment  installment_commitment  personal_status  \\\n",
       "0               1           2                       4                2   \n",
       "1               1           3                       2                3   \n",
       "2               2           4                       2                2   \n",
       "3               1           3                       3                3   \n",
       "4               1           3                       4                3   \n",
       "\n",
       "   other_parties  residence_since  property_magnitude  age  \\\n",
       "0              1                4                   2   21   \n",
       "1              1                2                   1   36   \n",
       "2              1                4                   1   23   \n",
       "3              1                2                   1   39   \n",
       "4              1                4                   2   38   \n",
       "\n",
       "   other_payment_plans  housing  existing_credits  job  num_dependents  \\\n",
       "0                    3        1                 1    3               2   \n",
       "1                    3        1                 2    3               1   \n",
       "2                    3        1                 1    2               2   \n",
       "3                    3        1                 2    2               1   \n",
       "4                    1        2                 2    2               2   \n",
       "\n",
       "   own_telephone  foreign_worker  \n",
       "0              1               2  \n",
       "1              1               2  \n",
       "2              1               2  \n",
       "3              1               1  \n",
       "4              1               1  "
      ]
     },
     "execution_count": 7,
     "metadata": {},
     "output_type": "execute_result"
    }
   ],
   "source": [
    "# Predictors\n",
    "X.head()"
   ]
  },
  {
   "cell_type": "code",
   "execution_count": 8,
   "metadata": {
    "slideshow": {
     "slide_type": "fragment"
    }
   },
   "outputs": [
    {
     "data": {
      "text/plain": [
       "809    0\n",
       "609    1\n",
       "261    1\n",
       "518    0\n",
       "411    1\n",
       "Name: credit, dtype: uint8"
      ]
     },
     "execution_count": 8,
     "metadata": {},
     "output_type": "execute_result"
    }
   ],
   "source": [
    "# Target\n",
    "y.sample(5)"
   ]
  },
  {
   "cell_type": "code",
   "execution_count": 9,
   "metadata": {
    "slideshow": {
     "slide_type": "fragment"
    }
   },
   "outputs": [],
   "source": [
    "# Naive Bayes Classifier\n",
    "nb = GaussianNB()"
   ]
  },
  {
   "cell_type": "markdown",
   "metadata": {
    "slideshow": {
     "slide_type": "slide"
    }
   },
   "source": [
    "## No feature selection?\n",
    "<center>   \n",
    "<img src=\"person.png\" alt=\"transition\" width=\"450\" height=\"250\">\n",
    "</center>"
   ]
  },
  {
   "cell_type": "code",
   "execution_count": 81,
   "metadata": {
    "slideshow": {
     "slide_type": "fragment"
    }
   },
   "outputs": [
    {
     "name": "stdout",
     "output_type": "stream",
     "text": [
      "AUC score with full dataset: 0.72\n",
      "CPU times: user 10.3 ms, sys: 0 ns, total: 10.3 ms\n",
      "Wall time: 9.77 ms\n"
     ]
    }
   ],
   "source": [
    "%%time\n",
    "baseline = cross_val_score(estimator=nb,X=X, y=y,\n",
    "                scoring=\"roc_auc\", cv=2).mean()\n",
    "\n",
    "print('AUC score with full dataset: %.2f' %baseline)"
   ]
  },
  {
   "cell_type": "markdown",
   "metadata": {
    "slideshow": {
     "slide_type": "slide"
    }
   },
   "source": [
    "## Exponential search\n",
    "Evaluates an increasing number of subsets which scales exponentially with the size of the feature space."
   ]
  },
  {
   "cell_type": "markdown",
   "metadata": {
    "cell_style": "split",
    "slideshow": {
     "slide_type": "fragment"
    }
   },
   "source": [
    "<br/><br/>\n",
    "<img src=\"exhaustive.png\" align=\"left\" alt=\"exaustive search\" width=\"450\" height=\"250\">"
   ]
  },
  {
   "cell_type": "markdown",
   "metadata": {
    "cell_style": "split",
    "slideshow": {
     "slide_type": "fragment"
    }
   },
   "source": [
    "1. Traverses the entire search\n",
    "2. Guaranteed best solution\n",
    "3. Computationally expensive\n",
    "3. Feasible for small datasets\n",
    "\n",
    "    E.g: Exhaustive search, Branch-and-bound"
   ]
  },
  {
   "cell_type": "code",
   "execution_count": 86,
   "metadata": {
    "slideshow": {
     "slide_type": "subslide"
    }
   },
   "outputs": [
    {
     "name": "stdout",
     "output_type": "stream",
     "text": [
      "Best AUC score: 0.78\n",
      "Number of features: 9\n",
      "CPU times: user 50min 33s, sys: 3.42 s, total: 50min 36s\n",
      "Wall time: 50min 37s\n"
     ]
    }
   ],
   "source": [
    "%%time\n",
    "# Exhaustive search\n",
    "efs1 = EFS(nb, \n",
    "           min_features=1,\n",
    "           max_features=20,\n",
    "           scoring='roc_auc',\n",
    "           print_progress=False,\n",
    "           cv=2)\n",
    "\n",
    "# Estimated execution time is 1 hour and 30 mins.\n",
    "efs1 = efs1.fit(X, y.values.ravel())\n",
    "print('Best AUC score: %.2f' % efs1.best_score_)\n",
    "print('Number of features:', len(efs1.best_idx_))"
   ]
  },
  {
   "cell_type": "markdown",
   "metadata": {
    "slideshow": {
     "slide_type": "slide"
    }
   },
   "source": [
    "## Sequential search\n",
    "Simple greedy algorithms that consecutively update the feature subset with features that improve or maintain the evaluation criterion."
   ]
  },
  {
   "cell_type": "markdown",
   "metadata": {
    "cell_style": "split",
    "slideshow": {
     "slide_type": "fragment"
    }
   },
   "source": [
    "<br/><br/>\n",
    "<img src=\"sequential.png\" align=\"left\" alt=\"exaustive search\" width=\"450\" height=\"250\">"
   ]
  },
  {
   "cell_type": "markdown",
   "metadata": {
    "cell_style": "split",
    "slideshow": {
     "slide_type": "fragment"
    }
   },
   "source": [
    "1. Simple\n",
    "2. Greedy algorithms\n",
    "3. Resilience against overfitting\n",
    "4. Best solution not guaranteed\n",
    "\n",
    "    E.g: Sequential Forward Selection, Sequential Backward Selection"
   ]
  },
  {
   "cell_type": "code",
   "execution_count": 87,
   "metadata": {
    "slideshow": {
     "slide_type": "slide"
    }
   },
   "outputs": [
    {
     "name": "stdout",
     "output_type": "stream",
     "text": [
      "Best AUC score: 0.78\n",
      "CPU times: user 442 ms, sys: 3 µs, total: 442 ms\n",
      "Wall time: 441 ms\n"
     ]
    }
   ],
   "source": [
    "%%time\n",
    "# Sequential Foward Selection\n",
    "sfs1 = SFS(nb, \n",
    "           k_features=9, \n",
    "           forward=True, \n",
    "           scoring='roc_auc',\n",
    "           cv=2)\n",
    "\n",
    "sfs1 = sfs1.fit(X, y)\n",
    "print('Best AUC score: %.2f' % sfs1.k_score_)"
   ]
  },
  {
   "cell_type": "markdown",
   "metadata": {
    "slideshow": {
     "slide_type": "slide"
    }
   },
   "source": [
    "## Heuristics-based search\n",
    "Integrate randomness into their search process through heuristics to navigate large search spaces and avoid local minima. "
   ]
  },
  {
   "cell_type": "markdown",
   "metadata": {
    "cell_style": "split",
    "slideshow": {
     "slide_type": "fragment"
    }
   },
   "source": [
    "<br/><br/>\n",
    "<img src=\"population-based.png\" align=\"left\" alt=\"exaustive search\" width=\"450\" height=\"250\">"
   ]
  },
  {
   "cell_type": "markdown",
   "metadata": {
    "cell_style": "split",
    "scrolled": true,
    "slideshow": {
     "slide_type": "fragment"
    }
   },
   "source": [
    "1. Heuristics that imitate natural population evolution\n",
    "2. Wider exploration of search space\n",
    "3. Trap in local optimum\n",
    "\n",
    "E.g: Particle swarm optimisation, genetic algorithms"
   ]
  },
  {
   "cell_type": "code",
   "execution_count": 88,
   "metadata": {
    "slideshow": {
     "slide_type": "skip"
    }
   },
   "outputs": [],
   "source": [
    "class credit(BinaryProblem):\n",
    "    \n",
    "    def __init__(self, pred: pd.DataFrame, target: pd.Series, classifier, n_var:int=20):\n",
    "        super(credit, self).__init__()\n",
    "        self.pred = pred\n",
    "        self.target = target\n",
    "        self.classifier = classifier\n",
    "        self.n_var = n_var\n",
    "        self.obj_labels = [\"auc\"]\n",
    "        \n",
    "    def number_of_variables(self) -> int:\n",
    "        return 1\n",
    "    def number_of_objectives(self) -> int:\n",
    "        return 1\n",
    "    def number_of_constraints(self) -> int:\n",
    "        return 1\n",
    "        \n",
    "    def evaluate(self, solution: BinarySolution) -> BinarySolution:\n",
    "        \n",
    "        # check constraint and if violated generate a new solution\n",
    "        self.__evaluate_constraints(solution)\n",
    "        if solution.constraints[0] == 0:\n",
    "            check = random.randrange(self.n_var)\n",
    "            solution.variables[0] = [True if _ == check else False for _ in range(self.n_var)]\n",
    "       \n",
    "        auc = cross_val_score(estimator=self.classifier, \n",
    "                                   X=self.pred.iloc[:,solution.variables[0]], y=self.target,\n",
    "                                   scoring=\"roc_auc\", cv=2).mean()\n",
    "        solution.objectives[0] = auc * -1.0\n",
    "        return solution\n",
    "        \n",
    "    def __evaluate_constraints(self, solution: BinarySolution) -> None:\n",
    "        solution.constraints = [0 for _ in range(self.number_of_constraints())]\n",
    "        if sum(solution.variables[0]) == 0:\n",
    "            solution.constraints[0] = 0\n",
    "        else:\n",
    "            solution.constraints[0] = 1\n",
    "        \n",
    "    def create_solution(self) -> BinarySolution:\n",
    "        new_solution = BinarySolution(number_of_variables=self.number_of_variables(),\n",
    "                                      number_of_objectives=self.number_of_objectives())\n",
    "        new_solution.variables[0] =  [True if random.randint(0, 1) == 1 else \n",
    "                                      False for _ in range(self.n_var)]\n",
    "        return new_solution\n",
    "    \n",
    "    def name(self) -> str:\n",
    "        return 'Credit'"
   ]
  },
  {
   "cell_type": "code",
   "execution_count": 89,
   "metadata": {
    "jupyter": {
     "outputs_hidden": true
    },
    "slideshow": {
     "slide_type": "slide"
    }
   },
   "outputs": [
    {
     "name": "stderr",
     "output_type": "stream",
     "text": [
      "[2024-03-20 01:17:11,207] [jmetal.core.algorithm] [DEBUG] Creating initial set of solutions...\n",
      "[2024-03-20 01:17:11,208] [jmetal.core.algorithm] [DEBUG] Evaluating solutions...\n",
      "[2024-03-20 01:17:11,425] [jmetal.core.algorithm] [DEBUG] Initializing progress...\n",
      "[2024-03-20 01:17:11,426] [jmetal.core.algorithm] [DEBUG] Running main loop until termination criteria is met\n",
      "[2024-03-20 01:18:54,625] [jmetal.core.algorithm] [DEBUG] Finished!\n"
     ]
    },
    {
     "name": "stdout",
     "output_type": "stream",
     "text": [
      "CPU times: user 1min 43s, sys: 56 ms, total: 1min 43s\n",
      "Wall time: 1min 43s\n"
     ]
    }
   ],
   "source": [
    "%%time\n",
    "# Genetic algorithm\n",
    "problem = credit(X, y, nb)\n",
    "algorithm = GeneticAlgorithm(\n",
    "        problem=problem,\n",
    "        population_size=40,\n",
    "        offspring_population_size=40,\n",
    "        mutation=BitFlipMutation(1.0 / problem.n_var),\n",
    "        crossover=SPXCrossover(1.0),\n",
    "        termination_criterion=StoppingByEvaluations(max_evaluations=20000),\n",
    "    )\n",
    "# Estimated execution time is 2 mins.\n",
    "algorithm.run()\n",
    "result = algorithm.get_result()\n",
    "indices = [int(i) for i in range(len(result.get_binary_string())) if result.get_binary_string()[i] == \"1\"]"
   ]
  },
  {
   "cell_type": "code",
   "execution_count": 90,
   "metadata": {
    "slideshow": {
     "slide_type": "fragment"
    }
   },
   "outputs": [
    {
     "name": "stdout",
     "output_type": "stream",
     "text": [
      "Best AUC score: 0.78\n",
      "Number of features: 8\n",
      "Execution time in seconds: 103.42\n"
     ]
    }
   ],
   "source": [
    "print('Best AUC score: %.2f' % (result.objectives[0]*-1))\n",
    "print('Number of features:', len(indices))\n",
    "print('Execution time in seconds: %.2f' %(algorithm.total_computing_time))"
   ]
  },
  {
   "cell_type": "markdown",
   "metadata": {
    "slideshow": {
     "slide_type": "slide"
    }
   },
   "source": [
    "## Summary\n",
    "- In the context of big data, exponential search is infeasible.\n",
    "- The outcome of exponential and sequential methods are deterministic.\n",
    "- In general, feature selection may improve performance and model understanding.\n",
    "\n",
    "|Measure | Baseline |Exponential  | Sequential    | Heuristics-based  \n",
    "|---:|-------------|:-------------|:-----------|:------|\n",
    "| AUC|72%| 78 % |    78%    |  78%  | \n",
    "| Size| 20|9 |    9    |   9 | \n",
    "| Time |0.01sec| 88.85 mins  | 0.95 secs    |  121secs  | "
   ]
  },
  {
   "cell_type": "markdown",
   "metadata": {
    "slideshow": {
     "slide_type": "slide"
    }
   },
   "source": [
    "**Part 2**\n",
    "- FS Classes\n",
    "    - Filter methods\n",
    "    - Wrapper methods\n",
    "    - Embeded methods\n",
    "    - Hybrid methods"
   ]
  },
  {
   "cell_type": "code",
   "execution_count": 52,
   "metadata": {
    "slideshow": {
     "slide_type": "skip"
    }
   },
   "outputs": [],
   "source": [
    "\n",
    "# Define the URL for the iframe\n",
    "url = \"https://wall.sli.do/event/4x1hRrKH2aAagWbB3j4XA1?section=b8b6bb36-55a1-44f9-9680-2895646ddf65\"\n",
    "# Create the IFrame\n",
    "iframe = IFrame(url, width=450, height=600)\n",
    "# Define HTML/CSS to center the iframe\n",
    "slido2 = \"\"\"\n",
    "<div style=\"display: flex; justify-content: center;\">\n",
    "    {}\n",
    "</div>\n",
    "\"\"\".format(iframe._repr_html_())"
   ]
  },
  {
   "cell_type": "markdown",
   "metadata": {
    "cell_style": "split",
    "slideshow": {
     "slide_type": "slide"
    }
   },
   "source": [
    "# Join at slido.com #2256 105\n",
    "<center>   \n",
    "<img src=\"slido2.png\" alt=\"transition\" width=\"450\" height=\"250\">\n",
    "</center>"
   ]
  },
  {
   "cell_type": "code",
   "execution_count": 53,
   "metadata": {
    "cell_style": "split",
    "jupyter": {
     "outputs_hidden": true
    },
    "slideshow": {
     "slide_type": "fragment"
    }
   },
   "outputs": [
    {
     "data": {
      "text/html": [
       "\n",
       "<div style=\"display: flex; justify-content: center;\">\n",
       "    \n",
       "        <iframe\n",
       "            width=\"450\"\n",
       "            height=\"600\"\n",
       "            src=\"https://wall.sli.do/event/4x1hRrKH2aAagWbB3j4XA1?section=b8b6bb36-55a1-44f9-9680-2895646ddf65\"\n",
       "            frameborder=\"0\"\n",
       "            allowfullscreen\n",
       "            \n",
       "        ></iframe>\n",
       "        \n",
       "</div>\n"
      ],
      "text/plain": [
       "<IPython.core.display.HTML object>"
      ]
     },
     "metadata": {},
     "output_type": "display_data"
    }
   ],
   "source": [
    "# Display Slido poll resutls\n",
    "display(HTML(slido2))"
   ]
  },
  {
   "cell_type": "markdown",
   "metadata": {
    "slideshow": {
     "slide_type": "slide"
    }
   },
   "source": [
    "## Filter methods\n",
    "Evaluate and select features independent of any learning algorithm by solely relying on the characteristics of the dataset to determine the relevance of a feature."
   ]
  },
  {
   "cell_type": "markdown",
   "metadata": {
    "cell_style": "split",
    "slideshow": {
     "slide_type": "fragment"
    }
   },
   "source": [
    "<br/><br/>\n",
    "<img src=\"filter.jpg\" align=\"left\" alt=\"filter\">"
   ]
  },
  {
   "cell_type": "markdown",
   "metadata": {
    "cell_style": "split",
    "slideshow": {
     "slide_type": "fragment"
    }
   },
   "source": [
    "1. Fast execution time\n",
    "2. Good generalization\n",
    "3. Robust to overfitting\n",
    "4. Possible redundancy \n",
    "5. Model independent\n",
    "6. Non ‘optimal’ selection\n",
    "\n",
    "E.g: Gini, Mutual information, Correlation measures"
   ]
  },
  {
   "cell_type": "code",
   "execution_count": 91,
   "metadata": {
    "scrolled": false,
    "slideshow": {
     "slide_type": "slide"
    }
   },
   "outputs": [
    {
     "name": "stdout",
     "output_type": "stream",
     "text": [
      "CPU times: user 33.9 ms, sys: 3 µs, total: 33.9 ms\n",
      "Wall time: 34.5 ms\n"
     ]
    },
    {
     "data": {
      "text/plain": [
       "[('checking_status', 0.3720903804538366),\n",
       " ('credit_history', 0.40293787540546877),\n",
       " ('savings_status', 0.40519357884796975),\n",
       " ('duration', 0.4063784549964565),\n",
       " ('credit_amount', 0.4089123232700295),\n",
       " ('age', 0.4131254061078623),\n",
       " ('property_magnitude', 0.41335850910319),\n",
       " ('employment', 0.41419963848162283),\n",
       " ('other_payment_plans', 0.4146099178357242),\n",
       " ('purpose', 0.4160563254558033),\n",
       " ('personal_status', 0.4161718750000001),\n",
       " ('housing', 0.4163841615688729),\n",
       " ('foreign_worker', 0.4171704414695068),\n",
       " ('installment_commitment', 0.4178956315350569),\n",
       " ('other_parties', 0.4187276858162934),\n",
       " ('existing_credits', 0.4191217807163674),\n",
       " ('job', 0.41930909783022463),\n",
       " ('own_telephone', 0.41944149112897866),\n",
       " ('residence_since', 0.4198408488063661),\n",
       " ('num_dependents', 0.4199961824775721)]"
      ]
     },
     "execution_count": 91,
     "metadata": {},
     "output_type": "execute_result"
    }
   ],
   "source": [
    "%%time\n",
    "# Filter example with Gini method\n",
    "score = gini_index.gini_index(X.values, y.values)\n",
    "\n",
    "# rank features in descending order according to score\n",
    "idx = gini_index.feature_ranking(score)\n",
    "\n",
    "# The lower the Gini index value, the more relevant the feature is.\n",
    "sorted(zip(X.columns, score),key=lambda x: x[1])"
   ]
  },
  {
   "cell_type": "code",
   "execution_count": 92,
   "metadata": {
    "slideshow": {
     "slide_type": "slide"
    }
   },
   "outputs": [
    {
     "name": "stdout",
     "output_type": "stream",
     "text": [
      "Filter --> AUC score with top 9 features: 0.7654\n"
     ]
    }
   ],
   "source": [
    "top_9 = ['checking_status','credit_history','savings_status', 'duration','credit_amount', \n",
    "'age','property_magnitude', 'employment', 'other_payment_plans']\n",
    "auc = cross_val_score(estimator=nb,X=X.loc[:,top_9], y=y,\n",
    "                scoring=\"roc_auc\", cv=2).mean()\n",
    "print('Filter --> AUC score with top 9 features: %.4f' %auc)"
   ]
  },
  {
   "cell_type": "markdown",
   "metadata": {
    "slideshow": {
     "slide_type": "slide"
    }
   },
   "source": [
    "## Wrapper methods\n",
    "Depend on the performance metrics (e.g., accuracy or AUC) of a chosen ML algorithm to evaluate generated feature subsets."
   ]
  },
  {
   "cell_type": "markdown",
   "metadata": {
    "cell_style": "split",
    "slideshow": {
     "slide_type": "fragment"
    }
   },
   "source": [
    "<br/><br/>\n",
    "<img src=\"wrapper.jpg\" align=\"center\" alt=\"wrapper\">"
   ]
  },
  {
   "cell_type": "markdown",
   "metadata": {
    "cell_style": "split",
    "slideshow": {
     "slide_type": "fragment"
    }
   },
   "source": [
    "1. Model dependent\n",
    "2. High accuracy \n",
    "3. Captures dependencies\n",
    "4. Poor generalization\n",
    "5. Risk of overfitting\n",
    "6. Computationally intense\n",
    "\n",
    "E.g: ML performance metrics"
   ]
  },
  {
   "cell_type": "code",
   "execution_count": 93,
   "metadata": {
    "slideshow": {
     "slide_type": "slide"
    }
   },
   "outputs": [
    {
     "name": "stdout",
     "output_type": "stream",
     "text": [
      "Wrapper --> AUC score with top 9 features: 0.7768\n",
      "CPU times: user 451 ms, sys: 4 µs, total: 451 ms\n",
      "Wall time: 449 ms\n"
     ]
    }
   ],
   "source": [
    "%%time\n",
    "sfs1 = SFS(nb, \n",
    "           k_features=9, \n",
    "           forward=True, \n",
    "           scoring='roc_auc',\n",
    "           cv=2)\n",
    "\n",
    "sfs1 = sfs1.fit(X, y)\n",
    "print('Wrapper --> AUC score with top 9 features: %.4f' % sfs1.k_score_)"
   ]
  },
  {
   "cell_type": "markdown",
   "metadata": {
    "slideshow": {
     "slide_type": "slide"
    }
   },
   "source": [
    "## Embedded methods\n",
    "ML algorithms that intrinsically do feature selection while building the model."
   ]
  },
  {
   "cell_type": "markdown",
   "metadata": {
    "cell_style": "split",
    "slideshow": {
     "slide_type": "fragment"
    }
   },
   "source": [
    "<br/><br/>\n",
    "<img src=\"embedded.jpg\" align=\"center\" alt=\"embedded\">"
   ]
  },
  {
   "cell_type": "markdown",
   "metadata": {
    "cell_style": "split",
    "slideshow": {
     "slide_type": "fragment"
    }
   },
   "source": [
    "1. Model dependent\n",
    "2. Moderate execution time\n",
    "3. Captures dependencies\n",
    "4. Poor generalization\n",
    "\n",
    "\n",
    "E.g: Tree based algorithms, LASSO Regression"
   ]
  },
  {
   "cell_type": "code",
   "execution_count": 42,
   "metadata": {
    "slideshow": {
     "slide_type": "slide"
    }
   },
   "outputs": [
    {
     "data": {
      "image/png": "[encoded data removed]",
      "text/plain": [
       "<Figure size 640x480 with 1 Axes>"
      ]
     },
     "metadata": {},
     "output_type": "display_data"
    }
   ],
   "source": [
    "# Embedded method example with Random Forest Classifier\n",
    "# Requires tunning of the parameters\n",
    "tree = RandomForestClassifier(random_state=0,max_features=7,max_depth=1)\n",
    "tree.fit(X,y)\n",
    "tree_importances = pd.Series(tree.feature_importances_, index=X.columns)\n",
    "std = np.std([t.feature_importances_ for t in tree.estimators_], axis=0)\n",
    "\n",
    "fig, ax = plt.subplots()\n",
    "tree_importances.plot.bar(yerr=std, ax=ax)\n",
    "\n",
    "ax.set_title(\"Feature importances using MDI\")\n",
    "ax.set_ylabel(\"Mean decrease in impurity\")\n",
    "fig.tight_layout()"
   ]
  },
  {
   "cell_type": "code",
   "execution_count": 43,
   "metadata": {
    "slideshow": {
     "slide_type": "skip"
    }
   },
   "outputs": [
    {
     "data": {
      "text/plain": [
       "[('checking_status', 0.38),\n",
       " ('duration', 0.17),\n",
       " ('credit_amount', 0.17),\n",
       " ('credit_history', 0.12),\n",
       " ('savings_status', 0.07),\n",
       " ('age', 0.04),\n",
       " ('property_magnitude', 0.03),\n",
       " ('purpose', 0.01),\n",
       " ('installment_commitment', 0.01),\n",
       " ('employment', 0.0),\n",
       " ('personal_status', 0.0),\n",
       " ('other_parties', 0.0),\n",
       " ('residence_since', 0.0),\n",
       " ('other_payment_plans', 0.0),\n",
       " ('housing', 0.0),\n",
       " ('existing_credits', 0.0),\n",
       " ('job', 0.0),\n",
       " ('num_dependents', 0.0),\n",
       " ('own_telephone', 0.0),\n",
       " ('foreign_worker', 0.0)]"
      ]
     },
     "execution_count": 43,
     "metadata": {},
     "output_type": "execute_result"
    }
   ],
   "source": [
    "# The higher the score value, the more relevant the feature is.\n",
    "sorted(zip(X.columns, tree.feature_importances_),key=lambda x: x[1], reverse=True)"
   ]
  },
  {
   "cell_type": "code",
   "execution_count": 44,
   "metadata": {
    "slideshow": {
     "slide_type": "slide"
    }
   },
   "outputs": [
    {
     "name": "stdout",
     "output_type": "stream",
     "text": [
      "Embedded --> AUC score with top 9 features: 0.7397\n",
      "CPU times: user 145 ms, sys: 0 ns, total: 145 ms\n",
      "Wall time: 144 ms\n"
     ]
    }
   ],
   "source": [
    "%%time\n",
    "# Tree \n",
    "top_9 = ['checking_status','duration','credit_amount', 'credit_history',\n",
    "         'savings_status','age','property_magnitude', 'purpose','installment_commitment'] \n",
    "auc = cross_val_score(estimator=tree,X=X.loc[:,top_9], y=y,\n",
    "                scoring=\"roc_auc\", cv=2).mean()\n",
    "\n",
    "print('Embedded --> AUC score with top 9 features: %.4f' %auc)"
   ]
  },
  {
   "cell_type": "code",
   "execution_count": 48,
   "metadata": {
    "slideshow": {
     "slide_type": "fragment"
    }
   },
   "outputs": [
    {
     "name": "stdout",
     "output_type": "stream",
     "text": [
      "Embedded --> AUC score with top 9 features: 0.7648\n",
      "CPU times: user 8.45 ms, sys: 16 µs, total: 8.47 ms\n",
      "Wall time: 8.11 ms\n"
     ]
    }
   ],
   "source": [
    "%%time\n",
    "# NB\n",
    "top_9 = ['checking_status','duration','credit_amount', 'credit_history',\n",
    "         'savings_status','age','property_magnitude', 'purpose','installment_commitment'] \n",
    "auc = cross_val_score(estimator=nb,X=X.loc[:,top_9], y=y,\n",
    "                scoring=\"roc_auc\", cv=2).mean()\n",
    "\n",
    "print('Embedded --> AUC score with top 9 features: %.4f' %auc)"
   ]
  },
  {
   "cell_type": "markdown",
   "metadata": {
    "slideshow": {
     "slide_type": "slide"
    }
   },
   "source": [
    "## Hybrid methods\n",
    "Combine multiple classes of feature selection to find the most relevant features from a dataset."
   ]
  },
  {
   "cell_type": "markdown",
   "metadata": {
    "cell_style": "split",
    "slideshow": {
     "slide_type": "fragment"
    }
   },
   "source": [
    "<img src=\"hybrid.png\" align=\"center\" alt=\"embedded\" width=\"450\" height=\"300\" >"
   ]
  },
  {
   "cell_type": "markdown",
   "metadata": {
    "cell_style": "split",
    "slideshow": {
     "slide_type": "fragment"
    }
   },
   "source": [
    "- Leverages the complementary strenghts of the FS classes.\n",
    "- Mitigate limitations of FS classes.\n",
    "- Examples:\n",
    "    - Gini + NB classifier\n",
    "    - Gini + Tree-based classifier"
   ]
  },
  {
   "cell_type": "code",
   "execution_count": 47,
   "metadata": {
    "slideshow": {
     "slide_type": "slide"
    }
   },
   "outputs": [
    {
     "name": "stdout",
     "output_type": "stream",
     "text": [
      "Hybrid(Filter+Embedded) --> AUC score with top 9 features: 0.7475\n",
      "CPU times: user 148 ms, sys: 0 ns, total: 148 ms\n",
      "Wall time: 147 ms\n"
     ]
    }
   ],
   "source": [
    "%%time\n",
    "top_9 = ['checking_status','credit_history','savings_status', 'duration','credit_amount', \n",
    "'age','property_magnitude', 'employment', 'other_payment_plans']\n",
    "auc = cross_val_score(estimator=tree,X=X.loc[:,top_9], y=y,\n",
    "                scoring=\"roc_auc\", cv=2).mean()\n",
    "print('Hybrid(Filter+Embedded) --> AUC score with top 9 features: %.4f' %auc)"
   ]
  },
  {
   "cell_type": "markdown",
   "metadata": {
    "slideshow": {
     "slide_type": "skip"
    }
   },
   "source": [
    "## No feature selection?\n",
    "<center>   \n",
    "<img src=\"person.png\" alt=\"transition\" width=\"450\" height=\"250\">\n",
    "</center>"
   ]
  },
  {
   "cell_type": "code",
   "execution_count": 46,
   "metadata": {
    "slideshow": {
     "slide_type": "skip"
    }
   },
   "outputs": [
    {
     "name": "stdout",
     "output_type": "stream",
     "text": [
      "AUC score with full dataset: 0.7361\n",
      "CPU times: user 143 ms, sys: 3.94 ms, total: 147 ms\n",
      "Wall time: 146 ms\n"
     ]
    }
   ],
   "source": [
    "%%time\n",
    "baseline = cross_val_score(estimator=tree,X=X, y=y,\n",
    "                scoring=\"roc_auc\", cv=2).mean()\n",
    "\n",
    "\n",
    "print('AUC score with full dataset: %.4f' %baseline)"
   ]
  },
  {
   "cell_type": "markdown",
   "metadata": {
    "cell_style": "center",
    "slideshow": {
     "slide_type": "slide"
    }
   },
   "source": [
    "- NB Classifier\n",
    "|Measure |Baseline| Filter  | Wrapper    | Embedded  \n",
    "|---:|:-------------|:-------------|:-----------|:------|\n",
    "| AUC| 73.27%|76.54 % |    77.68%    |  76.48%  | \n",
    "| Size|    20    |    9    |    9    |   9 | \n",
    "| TIme|0.1939 |34.5 ms |    449 ms   |   0.1908| "
   ]
  },
  {
   "cell_type": "markdown",
   "metadata": {
    "slideshow": {
     "slide_type": "fragment"
    }
   },
   "source": [
    "- RF Classifier\n",
    "|Measure |Baseline| Filter  | Wrapper    | Embedded  \n",
    "|---:|:-------------|:-------------|:-----------|:------|\n",
    "| AUC| 73.61%|74.75 % |    72.79%    |  73.97%  | \n",
    "| Size|    20    |    9    |    9    |   9 | \n",
    "| TIme|146 ms |0.3128 |    30.2414    |   0.1908| "
   ]
  },
  {
   "cell_type": "markdown",
   "metadata": {
    "cell_style": "center",
    "slideshow": {
     "slide_type": "slide"
    }
   },
   "source": [
    "## Summary\n",
    "- Wrapper methods are the least computationally efficent.\n",
    "- Filter methods can also be beneficial for embedded models.\n",
    "- Feature selection does not always improve performance."
   ]
  },
  {
   "cell_type": "markdown",
   "metadata": {
    "slideshow": {
     "slide_type": "slide"
    }
   },
   "source": [
    "**Part 3**\n",
    "- Evaluation metrics\n",
    "    - Mono-objective FS\n",
    "    - Multi-objective FS\n",
    "    - Many-objective FS\n",
    "- Open challenges"
   ]
  },
  {
   "cell_type": "code",
   "execution_count": 54,
   "metadata": {
    "slideshow": {
     "slide_type": "skip"
    }
   },
   "outputs": [],
   "source": [
    "\n",
    "# Define the URL for the iframe\n",
    "url = \"https://wall.sli.do/event/73ty2hUXdRrxzig7PtxJ3s?section=52ab903f-d0a7-419c-888e-bce22d55cafd\"\n",
    "# Create the IFrame\n",
    "iframe = IFrame(url, width=450, height=600)\n",
    "# Define HTML/CSS to center the iframe\n",
    "slido3 = \"\"\"\n",
    "<div style=\"display: flex; justify-content: center;\">\n",
    "    {}\n",
    "</div>\n",
    "\"\"\".format(iframe._repr_html_())"
   ]
  },
  {
   "cell_type": "markdown",
   "metadata": {
    "cell_style": "split",
    "slideshow": {
     "slide_type": "slide"
    }
   },
   "source": [
    "# Join at slido.com #3297 347\n",
    "<center>   \n",
    "<img src=\"slido3.png\" alt=\"transition\" width=\"450\" height=\"250\">\n",
    "</center>"
   ]
  },
  {
   "cell_type": "code",
   "execution_count": 55,
   "metadata": {
    "cell_style": "split",
    "slideshow": {
     "slide_type": "fragment"
    }
   },
   "outputs": [
    {
     "data": {
      "text/html": [
       "\n",
       "<div style=\"display: flex; justify-content: center;\">\n",
       "    \n",
       "        <iframe\n",
       "            width=\"450\"\n",
       "            height=\"600\"\n",
       "            src=\"https://wall.sli.do/event/73ty2hUXdRrxzig7PtxJ3s?section=52ab903f-d0a7-419c-888e-bce22d55cafd\"\n",
       "            frameborder=\"0\"\n",
       "            allowfullscreen\n",
       "            \n",
       "        ></iframe>\n",
       "        \n",
       "</div>\n"
      ],
      "text/plain": [
       "<IPython.core.display.HTML object>"
      ]
     },
     "metadata": {},
     "output_type": "display_data"
    }
   ],
   "source": [
    "# Display the centered iframe\n",
    "display(HTML(slido3))"
   ]
  },
  {
   "cell_type": "markdown",
   "metadata": {
    "slideshow": {
     "slide_type": "slide"
    }
   },
   "source": [
    "## Mono-objective\n",
    "\n",
    "<img src=\"mono.jpg\" align=\"right\" alt=\"mono\">\n",
    "\n",
    "1. One solution\n",
    "2. Least complexity\n",
    "3. Most commonly used\n",
    "\n",
    "\n",
    "E.g: Predictive performance, most filter measures"
   ]
  },
  {
   "cell_type": "markdown",
   "metadata": {
    "slideshow": {
     "slide_type": "fragment"
    }
   },
   "source": [
    "### All examples seen so far are mono-objective FS"
   ]
  },
  {
   "cell_type": "code",
   "execution_count": 95,
   "metadata": {
    "slideshow": {
     "slide_type": "skip"
    }
   },
   "outputs": [],
   "source": [
    "class credit(BinaryProblem):\n",
    "    \n",
    "    def __init__(self, pred: pd.DataFrame, target: pd.Series, classifier, n_var:int=20):\n",
    "        super(credit, self).__init__()\n",
    "        self.pred = pred\n",
    "        self.target = target\n",
    "        self.classifier = classifier\n",
    "        self.n_var = n_var\n",
    "        self.obj_labels = [\"auc\"]\n",
    "        \n",
    "    def number_of_variables(self) -> int:\n",
    "        return 1\n",
    "    def number_of_objectives(self) -> int:\n",
    "        return 1\n",
    "    def number_of_constraints(self) -> int:\n",
    "        return 1\n",
    "        \n",
    "    def evaluate(self, solution: BinarySolution) -> BinarySolution:\n",
    "        \n",
    "        # check constraint and if violated generate a new solution\n",
    "        self.__evaluate_constraints(solution)\n",
    "        if solution.constraints[0] == 0:\n",
    "            check = random.randrange(self.n_var)\n",
    "            solution.variables[0] = [True if _ == check else False for _ in range(self.n_var)]\n",
    "       \n",
    "        auc = cross_val_score(estimator=self.classifier, \n",
    "                                   X=self.pred.iloc[:,solution.variables[0]], y=self.target,\n",
    "                                   scoring=\"roc_auc\", cv=2).mean()\n",
    "        solution.objectives[0] = auc * -1.0\n",
    "        return solution\n",
    "        \n",
    "    def __evaluate_constraints(self, solution: BinarySolution) -> None:\n",
    "        solution.constraints = [0 for _ in range(self.number_of_constraints())]\n",
    "        if sum(solution.variables[0]) == 0:\n",
    "            solution.constraints[0] = 0\n",
    "        else:\n",
    "            solution.constraints[0] = 1\n",
    "        \n",
    "    def create_solution(self) -> BinarySolution:\n",
    "        new_solution = BinarySolution(number_of_variables=self.number_of_variables(),\n",
    "                                      number_of_objectives=self.number_of_objectives())\n",
    "        new_solution.variables[0] =  [True if random.randint(0, 1) == 1 else \n",
    "                                      False for _ in range(self.n_var)]\n",
    "        return new_solution\n",
    "    \n",
    "    def name(self) -> str:\n",
    "        return 'Credit'"
   ]
  },
  {
   "cell_type": "code",
   "execution_count": 96,
   "metadata": {
    "slideshow": {
     "slide_type": "slide"
    }
   },
   "outputs": [
    {
     "name": "stderr",
     "output_type": "stream",
     "text": [
      "[2024-03-20 01:18:55,353] [jmetal.core.algorithm] [DEBUG] Creating initial set of solutions...\n",
      "[2024-03-20 01:18:55,355] [jmetal.core.algorithm] [DEBUG] Evaluating solutions...\n",
      "[2024-03-20 01:18:55,568] [jmetal.core.algorithm] [DEBUG] Initializing progress...\n",
      "[2024-03-20 01:18:55,568] [jmetal.core.algorithm] [DEBUG] Running main loop until termination criteria is met\n",
      "[2024-03-20 01:20:42,377] [jmetal.core.algorithm] [DEBUG] Finished!\n"
     ]
    }
   ],
   "source": [
    "problem = credit(X, y, nb)\n",
    "algorithm = GeneticAlgorithm(\n",
    "        problem=problem,\n",
    "        population_size=40,\n",
    "        offspring_population_size=40,\n",
    "        mutation=BitFlipMutation(1.0 / problem.n_var),\n",
    "        crossover=SPXCrossover(1.0),\n",
    "        termination_criterion=StoppingByEvaluations(max_evaluations=20000),\n",
    "    )\n",
    "\n",
    "algorithm.run()\n",
    "result = algorithm.get_result()\n",
    "indices = [int(i) for i in range(len(result.get_binary_string())) if result.get_binary_string()[i] == \"1\"]"
   ]
  },
  {
   "cell_type": "code",
   "execution_count": 97,
   "metadata": {
    "slideshow": {
     "slide_type": "skip"
    }
   },
   "outputs": [],
   "source": [
    "soln_df = pd.DataFrame(columns=[\"Solution\", \"AUC\", \"#Features\"])\n",
    "soln_df[\"Solution\"] = [1]\n",
    "soln_df[\"AUC\"] = [result.objectives[0]*-1]\n",
    "soln_df[\"#Features\"] = len(indices)"
   ]
  },
  {
   "cell_type": "code",
   "execution_count": 98,
   "metadata": {
    "slideshow": {
     "slide_type": "fragment"
    }
   },
   "outputs": [
    {
     "name": "stdout",
     "output_type": "stream",
     "text": [
      "+------------+-------+-------------+\n",
      "|   Solution |   AUC |   #Features |\n",
      "|------------+-------+-------------|\n",
      "|          1 |  0.78 |           9 |\n",
      "+------------+-------+-------------+\n",
      "Execution time in seconds: 107.02\n"
     ]
    }
   ],
   "source": [
    "\n",
    "print(tabulate(soln_df.set_index('Solution').round(2), headers = 'keys', tablefmt = 'psql'))\n",
    "print('Execution time in seconds: %.2f' %(algorithm.total_computing_time))"
   ]
  },
  {
   "cell_type": "markdown",
   "metadata": {
    "slideshow": {
     "slide_type": "slide"
    }
   },
   "source": [
    "## Multi-objective\n",
    "\n",
    "<img src=\"multi.jpg\" align=\"right\" alt=\"multi\">\n",
    "\n",
    "1. Two or three objectives\n",
    "2. More than one solution\n",
    "3. High complexity\n",
    "\n",
    "\n",
    "\n",
    "E.g: Predictive performance and redundancy\n"
   ]
  },
  {
   "cell_type": "code",
   "execution_count": 99,
   "metadata": {
    "slideshow": {
     "slide_type": "skip"
    }
   },
   "outputs": [],
   "source": [
    "class credit(BinaryProblem):\n",
    "    \n",
    "    def __init__(self, pred: pd.DataFrame, target: pd.Series, classifier, n_var:int=20):\n",
    "        super(credit, self).__init__()\n",
    "        self.pred = pred\n",
    "        self.target = target\n",
    "        self.classifier = classifier\n",
    "        self.n_var = n_var\n",
    "        self.obj_labels = [\"auc\", \"size\"]\n",
    "        \n",
    "    def number_of_variables(self) -> int:\n",
    "        return 1\n",
    "    def number_of_objectives(self) -> int:\n",
    "        return 2\n",
    "    def number_of_constraints(self) -> int:\n",
    "        return 1\n",
    "        \n",
    "    def evaluate(self, solution: BinarySolution) -> BinarySolution:\n",
    "        \n",
    "        # check constraint and if violated generate a new solution\n",
    "        self.__evaluate_constraints(solution)\n",
    "        if solution.constraints[0] == 0:\n",
    "            check = random.randrange(self.n_var)\n",
    "            solution.variables[0] = [True if _ == check else False for _ in range(self.n_var)]\n",
    "       \n",
    "        auc = cross_val_score(estimator=self.classifier, \n",
    "                                   X=self.pred.iloc[:,solution.variables[0]], y=self.target,\n",
    "                                   scoring=\"roc_auc\", cv=2).mean()\n",
    "        size = sum(solution.variables[0])\n",
    "        \n",
    "        solution.objectives[0] = auc * -1.0\n",
    "        solution.objectives[1] = size\n",
    "        return solution\n",
    "        \n",
    "    def __evaluate_constraints(self, solution: BinarySolution) -> None:\n",
    "        solution.constraints = [0 for _ in range(self.number_of_constraints())]\n",
    "        if sum(solution.variables[0]) == 0:\n",
    "            solution.constraints[0] = 0\n",
    "        else:\n",
    "            solution.constraints[0] = 1\n",
    "        \n",
    "    def create_solution(self) -> BinarySolution:\n",
    "        new_solution = BinarySolution(number_of_variables=self.number_of_variables(),\n",
    "                                      number_of_objectives=self.number_of_objectives())\n",
    "        new_solution.variables[0] =  [True if random.randint(0, 1) == 1 else \n",
    "                                      False for _ in range(self.n_var)]\n",
    "        return new_solution\n",
    "    \n",
    "    def name(self) -> str:\n",
    "        return 'Credit'"
   ]
  },
  {
   "cell_type": "code",
   "execution_count": 100,
   "metadata": {
    "slideshow": {
     "slide_type": "slide"
    }
   },
   "outputs": [
    {
     "name": "stderr",
     "output_type": "stream",
     "text": [
      "[2024-03-20 01:20:42,425] [jmetal.core.algorithm] [DEBUG] Creating initial set of solutions...\n",
      "[2024-03-20 01:20:42,427] [jmetal.core.algorithm] [DEBUG] Evaluating solutions...\n",
      "[2024-03-20 01:20:42,638] [jmetal.core.algorithm] [DEBUG] Initializing progress...\n",
      "[2024-03-20 01:20:42,638] [jmetal.core.algorithm] [DEBUG] Running main loop until termination criteria is met\n",
      "[2024-03-20 01:22:23,857] [jmetal.core.algorithm] [DEBUG] Finished!\n"
     ]
    }
   ],
   "source": [
    "\n",
    "problem = credit(X, y, nb)\n",
    "algorithm = NSGAII(\n",
    "        problem=problem,\n",
    "        population_size=40,\n",
    "        offspring_population_size=40,\n",
    "        mutation=BitFlipMutation(1.0 / problem.n_var),\n",
    "        crossover=SPXCrossover(1.0),\n",
    "        termination_criterion=StoppingByEvaluations(max_evaluations=20000),\n",
    "    )\n",
    "\n",
    "algorithm.run()\n",
    "solutions = get_non_dominated_solutions(algorithm.get_result())"
   ]
  },
  {
   "cell_type": "code",
   "execution_count": 101,
   "metadata": {
    "slideshow": {
     "slide_type": "skip"
    }
   },
   "outputs": [],
   "source": [
    "soln_df = pd.DataFrame(columns=[\"Solution\", \"#Features\", \"AUC\"])\n",
    "soln_df[\"Solution\"] = [i for i in range(1, len(solutions)+1)]\n",
    "soln_df[\"#Features\"] = [solution.objectives[1] for solution in solutions]\n",
    "soln_df[\"AUC\"] = [solution.objectives[0]*-1 for solution in solutions]"
   ]
  },
  {
   "cell_type": "code",
   "execution_count": 102,
   "metadata": {
    "slideshow": {
     "slide_type": "fragment"
    }
   },
   "outputs": [
    {
     "name": "stdout",
     "output_type": "stream",
     "text": [
      "+------------+-------------+-------+\n",
      "|   Solution |   #Features |   AUC |\n",
      "|------------+-------------+-------|\n",
      "|          1 |           1 |  0.71 |\n",
      "|          2 |           9 |  0.78 |\n",
      "|          3 |           2 |  0.75 |\n",
      "|          4 |           3 |  0.76 |\n",
      "|          5 |           4 |  0.77 |\n",
      "|          6 |           5 |  0.77 |\n",
      "|          7 |           6 |  0.78 |\n",
      "|          8 |           7 |  0.78 |\n",
      "|          9 |           8 |  0.78 |\n",
      "+------------+-------------+-------+\n",
      "Execution time in seconds: 101.4320\n"
     ]
    }
   ],
   "source": [
    "\n",
    "print(tabulate(soln_df.set_index('Solution').round(2), headers = 'keys', tablefmt = 'psql'))\n",
    "print('Execution time in seconds: %.4f' %(algorithm.total_computing_time))"
   ]
  },
  {
   "cell_type": "markdown",
   "metadata": {
    "slideshow": {
     "slide_type": "slide"
    }
   },
   "source": [
    "## Many-objective\n",
    "\n",
    "<img src=\"many.jpg\" align=\"right\" alt=\"many\">\n",
    "\n",
    "1. Four or more objectives\n",
    "2. More than one solution\n",
    "3. Most complex\n",
    "4. Reflect real worl scenarios\n",
    "\n",
    "\n",
    "\n",
    "E.g: Predictive performance, redundancy, complexity, and fairness\n"
   ]
  },
  {
   "cell_type": "code",
   "execution_count": 103,
   "metadata": {
    "slideshow": {
     "slide_type": "skip"
    }
   },
   "outputs": [],
   "source": [
    "\n",
    "class credit(BinaryProblem):\n",
    "    \n",
    "    def __init__(self, pred: pd.DataFrame, target: pd.Series, clf, sf, n_var:int=20):\n",
    "        super(credit, self).__init__()\n",
    "        self.pred = pred\n",
    "        self.target = target\n",
    "        self.classifier = clf\n",
    "        self.n_var = n_var\n",
    "        self.sf = sf\n",
    "        self.obj_labels = [\"auc\", \"size\", \"vif\", \"dp\"]\n",
    "        \n",
    "    def number_of_variables(self) -> int:\n",
    "        return 1\n",
    "    def number_of_objectives(self) -> int:\n",
    "        return 4\n",
    "    def number_of_constraints(self) -> int:\n",
    "        return 1\n",
    "        \n",
    "    def evaluate(self, solution: BinarySolution) -> BinarySolution:\n",
    "        \n",
    "        # check constraint and if violated generate a new solution\n",
    "        self.__evaluate_constraints(solution)\n",
    "        if solution.constraints[0] == 0:\n",
    "            check = random.randrange(self.n_var)\n",
    "            solution.variables[0] = [True if _ == check else False for _ in range(self.n_var)]\n",
    "       \n",
    "        auc = cross_val_score(estimator=self.classifier, \n",
    "                                   X=self.pred.iloc[:,solution.variables[0]], y=self.target,\n",
    "                                   scoring=\"roc_auc\", cv=2).mean()\n",
    "        size = sum(solution.variables[0])\n",
    "        \n",
    "        if len(self.pred.iloc[:,solution.variables[0]].columns) < 2:\n",
    "            vif_score = 0\n",
    "        else:\n",
    "            vif_data = pd.DataFrame()\n",
    "            vif_data[\"feature\"] = self.pred.iloc[:,solution.variables[0]].columns\n",
    "            # calculating VIF for each feature\n",
    "            vif_data[\"VIF\"] = [vif(self.pred.iloc[:,solution.variables[0]].values, i) \n",
    "                               for i in range(len(self.pred.iloc[:,solution.variables[0]].columns))]\n",
    "            vif_score = vif_data[\"VIF\"].mean()\n",
    "        y_pred = cross_val_predict(self.classifier, \n",
    "                                   self.pred.iloc[:,solution.variables[0]], \n",
    "                                   self.target, cv=2)\n",
    "        dp = demographic_parity_ratio(self.target, y_pred, sensitive_features=self.pred[self.sf])\n",
    "        \n",
    "        solution.objectives[0] = auc * -1.0\n",
    "        solution.objectives[1] = size\n",
    "        solution.objectives[2] = vif_score\n",
    "        solution.objectives[3] = dp * -1.0\n",
    "        return solution\n",
    "        \n",
    "    def __evaluate_constraints(self, solution: BinarySolution) -> None:\n",
    "        solution.constraints = [0 for _ in range(self.number_of_constraints())]\n",
    "        if sum(solution.variables[0]) == 0:\n",
    "            solution.constraints[0] = 0\n",
    "        else:\n",
    "            solution.constraints[0] = 1\n",
    "        \n",
    "    def create_solution(self) -> BinarySolution:\n",
    "        new_solution = BinarySolution(number_of_variables=self.number_of_variables(),\n",
    "                                      number_of_objectives=self.number_of_objectives())\n",
    "        new_solution.variables[0] =  [True if random.randint(0, 1) == 1 else \n",
    "                                      False for _ in range(self.n_var)]\n",
    "        return new_solution\n",
    "    \n",
    "    def name(self) -> str:\n",
    "        return 'Credit'"
   ]
  },
  {
   "cell_type": "code",
   "execution_count": 104,
   "metadata": {
    "slideshow": {
     "slide_type": "slide"
    }
   },
   "outputs": [
    {
     "name": "stderr",
     "output_type": "stream",
     "text": [
      "[2024-03-20 01:22:23,906] [jmetal.core.algorithm] [DEBUG] Creating initial set of solutions...\n",
      "[2024-03-20 01:22:23,907] [jmetal.core.algorithm] [DEBUG] Evaluating solutions...\n",
      "[2024-03-20 01:22:25,133] [jmetal.core.algorithm] [DEBUG] Initializing progress...\n",
      "[2024-03-20 01:22:25,135] [jmetal.core.algorithm] [DEBUG] Running main loop until termination criteria is met\n",
      "[2024-03-20 01:31:35,970] [jmetal.core.algorithm] [DEBUG] Finished!\n"
     ]
    }
   ],
   "source": [
    "\n",
    "problem = credit(X, y, nb, 'personal_status')\n",
    "algorithm = NSGAIII(problem=problem,\n",
    "                   population_size=40,\n",
    "                   reference_directions=UniformReferenceDirectionFactory(4, n_points=39),\n",
    "                   mutation=BitFlipMutation(1.0 / problem.n_var),\n",
    "                   crossover=SPXCrossover(1.0),\n",
    "                   termination_criterion=StoppingByEvaluations(max_evaluations=20000))\n",
    "\n",
    "algorithm.run()\n",
    "solutions = get_non_dominated_solutions(algorithm.get_result())"
   ]
  },
  {
   "cell_type": "code",
   "execution_count": 105,
   "metadata": {
    "slideshow": {
     "slide_type": "skip"
    }
   },
   "outputs": [],
   "source": [
    "soln_df = pd.DataFrame(columns=[\"Solution\", \"#Features\", \"AUC\", \"VIF\", \"DP\"])\n",
    "soln_df[\"Solution\"] = [i for i in range(1, len(solutions)+1)]\n",
    "soln_df[\"#Features\"] = [solution.objectives[1] for solution in solutions]\n",
    "soln_df[\"AUC\"] = [solution.objectives[0]*-1 for solution in solutions]\n",
    "soln_df[\"VIF\"] = [solution.objectives[2] for solution in solutions]\n",
    "soln_df[\"DP\"] = [solution.objectives[3]*-1 for solution in solutions]"
   ]
  },
  {
   "cell_type": "code",
   "execution_count": 106,
   "metadata": {
    "slideshow": {
     "slide_type": "fragment"
    }
   },
   "outputs": [
    {
     "name": "stdout",
     "output_type": "stream",
     "text": [
      "+------------+-------------+-------+-------+------+\n",
      "|   Solution |   #Features |   AUC |   VIF |   DP |\n",
      "|------------+-------------+-------+-------+------|\n",
      "|          1 |           2 |  0.75 |  0.06 | 0.86 |\n",
      "|          2 |           1 |  0.71 |  0    | 0.94 |\n",
      "|          3 |           4 |  0.75 |  4.77 | 0.95 |\n",
      "|          4 |           6 |  0.77 |  0.06 | 0.91 |\n",
      "|          5 |           8 |  0.76 |  5.71 | 0.98 |\n",
      "|          6 |           2 |  0.73 |  0.01 | 0.92 |\n",
      "|          7 |           2 |  0.72 |  0.07 | 0.98 |\n",
      "|          8 |           5 |  0.74 |  0.07 | 0.98 |\n",
      "|          9 |           4 |  0.77 |  0.05 | 0.56 |\n",
      "|         10 |           4 |  0.77 |  0.06 | 0.84 |\n",
      "|         11 |           4 |  0.76 |  4.2  | 0.9  |\n",
      "|         12 |           9 |  0.76 |  0.13 | 0.98 |\n",
      "|         13 |           4 |  0.74 |  0.08 | 0.92 |\n",
      "|         14 |           4 |  0.71 |  0.05 | 0.99 |\n",
      "|         15 |           1 |  0.6  |  0    | 1    |\n",
      "|         16 |           6 |  0.74 |  0.06 | 0.97 |\n",
      "|         17 |           2 |  0.61 |  0.01 | 1    |\n",
      "|         18 |           2 |  0.71 |  0.02 | 0.96 |\n",
      "|         19 |           5 |  0.77 |  0.06 | 0.64 |\n",
      "|         20 |           3 |  0.74 |  0.05 | 0.91 |\n",
      "|         21 |           4 |  0.72 |  0.08 | 0.97 |\n",
      "|         22 |           3 |  0.75 |  0.02 | 0.85 |\n",
      "|         23 |           6 |  0.77 |  5.07 | 0.88 |\n",
      "|         24 |           3 |  0.73 |  0.1  | 0.94 |\n",
      "|         25 |           7 |  0.77 |  0.05 | 0.95 |\n",
      "|         26 |           5 |  0.75 |  5.93 | 0.91 |\n",
      "|         27 |           3 |  0.74 |  0.02 | 0.89 |\n",
      "|         28 |           4 |  0.76 |  0.04 | 0.85 |\n",
      "|         29 |           6 |  0.76 |  5.52 | 0.93 |\n",
      "+------------+-------------+-------+-------+------+\n",
      "Execution time in seconds: 552.0648\n"
     ]
    }
   ],
   "source": [
    "\n",
    "print(tabulate(soln_df.set_index('Solution').round(2), headers = 'keys', tablefmt = 'psql'))\n",
    "print('Execution time in seconds: %.4f' %(algorithm.total_computing_time))"
   ]
  },
  {
   "cell_type": "markdown",
   "metadata": {
    "slideshow": {
     "slide_type": "skip"
    }
   },
   "source": [
    "## No feature selection?\n",
    "<center>   \n",
    "<img src=\"person.png\" alt=\"transition\" width=\"450\" height=\"250\">\n",
    "</center>"
   ]
  },
  {
   "cell_type": "code",
   "execution_count": 51,
   "metadata": {
    "slideshow": {
     "slide_type": "skip"
    }
   },
   "outputs": [
    {
     "name": "stdout",
     "output_type": "stream",
     "text": [
      "AUC score with full dataset: 0.5914\n",
      "Execution time in seconds: 0.0796\n"
     ]
    }
   ],
   "source": [
    "start_time = time.time()\n",
    "baseline = cross_val_score(estimator=nb,X=X, y=y,\n",
    "                scoring=\"roc_auc\", cv=2).mean()\n",
    "end_time = time.time()\n",
    "\n",
    "print('AUC score with full dataset: %.4f' %baseline)\n",
    "print('Execution time in seconds: %.4f' %(end_time-start_time))"
   ]
  },
  {
   "cell_type": "markdown",
   "metadata": {},
   "source": [
    "## Summary\n",
    "1. Mono-objective FS is the most commonly used.\n",
    "2. Multi- and Many-objective FS mirror real world needs more accurately.\n",
    "3. It comes at a high computational cost.\n",
    "\n",
    "|Measure | Baseline |Mono-obj FS  | Multi-obj FS    | Many-obj FS  \n",
    "|---:|-------------|:-------------|:-----------|:------|\n",
    "| AUC|59.14%| 77 % |    77%    |  77%  | \n",
    "| Size| 20|10 |    8    |   9 | \n",
    "| Time |0.0796 secs| 14 mins  | mins    |  33 mins  | "
   ]
  },
  {
   "cell_type": "markdown",
   "metadata": {
    "slideshow": {
     "slide_type": "slide"
    }
   },
   "source": [
    "## Open Challenges"
   ]
  },
  {
   "cell_type": "markdown",
   "metadata": {
    "slideshow": {
     "slide_type": "fragment"
    }
   },
   "source": [
    "1. Efficiency of FS methods for\n",
    "    1. High-dimensional data\n",
    "    2. Large number of instances"
   ]
  },
  {
   "cell_type": "markdown",
   "metadata": {
    "slideshow": {
     "slide_type": "fragment"
    }
   },
   "source": [
    "2. Scalability of FS methods considering\n",
    "    1. Parallelism\n",
    "    2. Distribution"
   ]
  },
  {
   "cell_type": "markdown",
   "metadata": {
    "slideshow": {
     "slide_type": "fragment"
    }
   },
   "source": [
    "3. Many-objective FS"
   ]
  },
  {
   "cell_type": "markdown",
   "metadata": {
    "slideshow": {
     "slide_type": "fragment"
    }
   },
   "source": [
    "4. Visualization and Interpretability of FS results\n",
    "    1. Feature-model relationship\n",
    "    2. Multiple solutions"
   ]
  },
  {
   "cell_type": "markdown",
   "metadata": {
    "slideshow": {
     "slide_type": "fragment"
    }
   },
   "source": [
    "5. Adequacy of FS methods in dealing with:\n",
    "    1. Unbalanced classification\n",
    "    2. Multi-label classification"
   ]
  },
  {
   "cell_type": "markdown",
   "metadata": {
    "collapsed": true,
    "jupyter": {
     "outputs_hidden": true
    },
    "slideshow": {
     "slide_type": "slide"
    }
   },
   "source": [
    "## Conclusion\n",
    "1. Feature selection is an essential step in the ML pipeline.\n",
    "2. It can improve performance and consequently model understanding.\n",
    "3. The benefits of using FS for different ML models vary.\n",
    "4. There are many open challenges, expecially in the context of big data.\n",
    "5. Libraries: skfeature, mlxtend, jmetalpy, sklearn"
   ]
  },
  {
   "cell_type": "markdown",
   "metadata": {
    "slideshow": {
     "slide_type": "slide"
    }
   },
   "source": [
    "## Notebook on GitHub\n",
    "\n",
    "<center>   \n",
    "<img src=\"qr-code.png\" alt=\"transition\" width=\"450\" height=\"250\">\n",
    "</center>\n",
    "\n",
    "### URL: https://github.com/F-U-Njoku/fs_tutorial"
   ]
  },
  {
   "cell_type": "code",
   "execution_count": 132,
   "metadata": {
    "cell_style": "center",
    "collapsed": true,
    "jupyter": {
     "outputs_hidden": true
    },
    "slideshow": {
     "slide_type": "skip"
    }
   },
   "outputs": [
    {
     "name": "stdout",
     "output_type": "stream",
     "text": [
      "Collecting git+https://github.com/jundongl/scikit-feature\n",
      "  Cloning https://github.com/jundongl/scikit-feature to /tmp/pip-req-build-0wjc_dx9\n",
      "  Running command git clone --filter=blob:none --quiet https://github.com/jundongl/scikit-feature /tmp/pip-req-build-0wjc_dx9\n",
      "  Resolved https://github.com/jundongl/scikit-feature to commit 48cffad4e88ff4b9d2f1c7baffb314d1b3303792\n",
      "  Preparing metadata (setup.py) ... \u001b[?25ldone\n",
      "\u001b[?25hBuilding wheels for collected packages: skfeature\n",
      "  Building wheel for skfeature (setup.py) ... \u001b[?25ldone\n",
      "\u001b[?25h  Created wheel for skfeature: filename=skfeature-1.0.0-py3-none-any.whl size=61488 sha256=74e3c02fe33e8636f1d142c59f1768744ac14e9c6b1485e029c064886919c3a5\n",
      "  Stored in directory: /tmp/pip-ephem-wheel-cache-z3xu7ziy/wheels/8f/62/16/dbf7334329e32e3674041b336ac91a5258f33ab10be507697c\n",
      "Successfully built skfeature\n",
      "Installing collected packages: skfeature\n",
      "Successfully installed skfeature-1.0.0\n"
     ]
    }
   ],
   "source": [
    "#!pip install openml\n",
    "#!pip install mlxtend\n",
    "#!pip install fairlearn\n",
    "#!pip install jmetalpy\n",
    "#!pip install git+https://github.com/jundongl/scikit-feature\n",
    "#!pip install nbconvert\n",
    "#!pip install pyppeteer"
   ]
  },
  {
   "cell_type": "code",
   "execution_count": 1,
   "metadata": {
    "cell_style": "center",
    "slideshow": {
     "slide_type": "skip"
    }
   },
   "outputs": [],
   "source": [
    "\n",
    "path = Path.home() / \".jupyter\" / \"nbconfig\"\n",
    "cm = BaseJSONConfigManager(config_dir=str(path))\n",
    "tmp = cm.update(\n",
    "        \"rise\",\n",
    "        {\n",
    "            \"theme\": \"serif\",\n",
    "            \"transition\": \"fade\",\n",
    "            \"start_slideshow_at\": \"selected\",\n",
    "            \"autolaunch\": True,\n",
    "            \"width\": \"100%\",\n",
    "            \"height\": \"100%\",\n",
    "            \"header\": \"\",\n",
    "            \"footer\":\"Finding Relevant Information in Big Datasets with ML\",\n",
    "            \"scroll\": True,\n",
    "            \"enable_chalkboard\": True,\n",
    "            \"slideNumber\": True,\n",
    "            \"center\": False,\n",
    "            \"controlsLayout\": \"edges\",\n",
    "            \"slideNumber\": True,\n",
    "            \"hash\": True,\n",
    "        }\n",
    "    )\n"
   ]
  }
 ],
 "metadata": {
  "celltoolbar": "Slideshow",
  "kernelspec": {
   "display_name": "Python 3 (ipykernel)",
   "language": "python",
   "name": "python3"
  },
  "language_info": {
   "codemirror_mode": {
    "name": "ipython",
    "version": 3
   },
   "file_extension": ".py",
   "mimetype": "text/x-python",
   "name": "python",
   "nbconvert_exporter": "python",
   "pygments_lexer": "ipython3",
   "version": "3.8.18"
  }
 },
 "nbformat": 4,
 "nbformat_minor": 4
}
